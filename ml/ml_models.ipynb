{
  "nbformat": 4,
  "nbformat_minor": 0,
  "metadata": {
    "colab": {
      "provenance": [],
      "toc_visible": true
    },
    "kernelspec": {
      "name": "python3",
      "display_name": "Python 3"
    },
    "language_info": {
      "name": "python"
    }
  },
  "cells": [
    {
      "cell_type": "code",
      "source": [
        "import numpy as np\n",
        "import pandas as pd\n",
        "import matplotlib.pyplot as plt"
      ],
      "metadata": {
        "id": "6p1iQrBbVIxb"
      },
      "execution_count": null,
      "outputs": []
    },
    {
      "cell_type": "code",
      "source": [
        "from sklearn.metrics import confusion_matrix\n",
        "from sklearn.metrics import classification_report"
      ],
      "metadata": {
        "id": "qJxu7yUmyNSO"
      },
      "execution_count": null,
      "outputs": []
    },
    {
      "cell_type": "markdown",
      "source": [
        "#Data Preparation"
      ],
      "metadata": {
        "id": "K7IJ2DnbVAxI"
      }
    },
    {
      "cell_type": "code",
      "execution_count": null,
      "metadata": {
        "id": "CJQZFmZk8VV_",
        "colab": {
          "base_uri": "https://localhost:8080/",
          "height": 236
        },
        "outputId": "b7152384-e4e3-48f4-a420-a8d0279944b1"
      },
      "outputs": [
        {
          "output_type": "execute_result",
          "data": {
            "text/plain": [
              "   pixel0  pixel1  pixel2  pixel3  pixel4  pixel5  pixel6  pixel7  pixel8  \\\n",
              "0       0       2       0       1       1       1       1       0       2   \n",
              "1       0       0       0       1       0       0       2       1       0   \n",
              "2       1       0       0       0       0       0       0       2       1   \n",
              "3       2       1       1       0       0       0       1       0       2   \n",
              "4       0       0       0       0       0       0       0       0       0   \n",
              "\n",
              "   pixel9  ...  pixel775  pixel776  pixel777  pixel778  pixel779  pixel780  \\\n",
              "0       3  ...       213        96       110       110        34         0   \n",
              "1       1  ...        88        42         0         0         0         4   \n",
              "2       1  ...       232       160        50         1         0         5   \n",
              "3       1  ...         0         6         3         0         0         1   \n",
              "4       0  ...         0         0         0         0         0         0   \n",
              "\n",
              "   pixel781  pixel782  pixel783  label  \n",
              "0         4         1         1    112  \n",
              "1         1         0         0    112  \n",
              "2         1         1         2    112  \n",
              "3         0         0         2    112  \n",
              "4         0         0         0    112  \n",
              "\n",
              "[5 rows x 785 columns]"
            ],
            "text/html": [
              "\n",
              "  <div id=\"df-04616856-e91b-41ad-a7e9-137e263e91a2\" class=\"colab-df-container\">\n",
              "    <div>\n",
              "<style scoped>\n",
              "    .dataframe tbody tr th:only-of-type {\n",
              "        vertical-align: middle;\n",
              "    }\n",
              "\n",
              "    .dataframe tbody tr th {\n",
              "        vertical-align: top;\n",
              "    }\n",
              "\n",
              "    .dataframe thead th {\n",
              "        text-align: right;\n",
              "    }\n",
              "</style>\n",
              "<table border=\"1\" class=\"dataframe\">\n",
              "  <thead>\n",
              "    <tr style=\"text-align: right;\">\n",
              "      <th></th>\n",
              "      <th>pixel0</th>\n",
              "      <th>pixel1</th>\n",
              "      <th>pixel2</th>\n",
              "      <th>pixel3</th>\n",
              "      <th>pixel4</th>\n",
              "      <th>pixel5</th>\n",
              "      <th>pixel6</th>\n",
              "      <th>pixel7</th>\n",
              "      <th>pixel8</th>\n",
              "      <th>pixel9</th>\n",
              "      <th>...</th>\n",
              "      <th>pixel775</th>\n",
              "      <th>pixel776</th>\n",
              "      <th>pixel777</th>\n",
              "      <th>pixel778</th>\n",
              "      <th>pixel779</th>\n",
              "      <th>pixel780</th>\n",
              "      <th>pixel781</th>\n",
              "      <th>pixel782</th>\n",
              "      <th>pixel783</th>\n",
              "      <th>label</th>\n",
              "    </tr>\n",
              "  </thead>\n",
              "  <tbody>\n",
              "    <tr>\n",
              "      <th>0</th>\n",
              "      <td>0</td>\n",
              "      <td>2</td>\n",
              "      <td>0</td>\n",
              "      <td>1</td>\n",
              "      <td>1</td>\n",
              "      <td>1</td>\n",
              "      <td>1</td>\n",
              "      <td>0</td>\n",
              "      <td>2</td>\n",
              "      <td>3</td>\n",
              "      <td>...</td>\n",
              "      <td>213</td>\n",
              "      <td>96</td>\n",
              "      <td>110</td>\n",
              "      <td>110</td>\n",
              "      <td>34</td>\n",
              "      <td>0</td>\n",
              "      <td>4</td>\n",
              "      <td>1</td>\n",
              "      <td>1</td>\n",
              "      <td>112</td>\n",
              "    </tr>\n",
              "    <tr>\n",
              "      <th>1</th>\n",
              "      <td>0</td>\n",
              "      <td>0</td>\n",
              "      <td>0</td>\n",
              "      <td>1</td>\n",
              "      <td>0</td>\n",
              "      <td>0</td>\n",
              "      <td>2</td>\n",
              "      <td>1</td>\n",
              "      <td>0</td>\n",
              "      <td>1</td>\n",
              "      <td>...</td>\n",
              "      <td>88</td>\n",
              "      <td>42</td>\n",
              "      <td>0</td>\n",
              "      <td>0</td>\n",
              "      <td>0</td>\n",
              "      <td>4</td>\n",
              "      <td>1</td>\n",
              "      <td>0</td>\n",
              "      <td>0</td>\n",
              "      <td>112</td>\n",
              "    </tr>\n",
              "    <tr>\n",
              "      <th>2</th>\n",
              "      <td>1</td>\n",
              "      <td>0</td>\n",
              "      <td>0</td>\n",
              "      <td>0</td>\n",
              "      <td>0</td>\n",
              "      <td>0</td>\n",
              "      <td>0</td>\n",
              "      <td>2</td>\n",
              "      <td>1</td>\n",
              "      <td>1</td>\n",
              "      <td>...</td>\n",
              "      <td>232</td>\n",
              "      <td>160</td>\n",
              "      <td>50</td>\n",
              "      <td>1</td>\n",
              "      <td>0</td>\n",
              "      <td>5</td>\n",
              "      <td>1</td>\n",
              "      <td>1</td>\n",
              "      <td>2</td>\n",
              "      <td>112</td>\n",
              "    </tr>\n",
              "    <tr>\n",
              "      <th>3</th>\n",
              "      <td>2</td>\n",
              "      <td>1</td>\n",
              "      <td>1</td>\n",
              "      <td>0</td>\n",
              "      <td>0</td>\n",
              "      <td>0</td>\n",
              "      <td>1</td>\n",
              "      <td>0</td>\n",
              "      <td>2</td>\n",
              "      <td>1</td>\n",
              "      <td>...</td>\n",
              "      <td>0</td>\n",
              "      <td>6</td>\n",
              "      <td>3</td>\n",
              "      <td>0</td>\n",
              "      <td>0</td>\n",
              "      <td>1</td>\n",
              "      <td>0</td>\n",
              "      <td>0</td>\n",
              "      <td>2</td>\n",
              "      <td>112</td>\n",
              "    </tr>\n",
              "    <tr>\n",
              "      <th>4</th>\n",
              "      <td>0</td>\n",
              "      <td>0</td>\n",
              "      <td>0</td>\n",
              "      <td>0</td>\n",
              "      <td>0</td>\n",
              "      <td>0</td>\n",
              "      <td>0</td>\n",
              "      <td>0</td>\n",
              "      <td>0</td>\n",
              "      <td>0</td>\n",
              "      <td>...</td>\n",
              "      <td>0</td>\n",
              "      <td>0</td>\n",
              "      <td>0</td>\n",
              "      <td>0</td>\n",
              "      <td>0</td>\n",
              "      <td>0</td>\n",
              "      <td>0</td>\n",
              "      <td>0</td>\n",
              "      <td>0</td>\n",
              "      <td>112</td>\n",
              "    </tr>\n",
              "  </tbody>\n",
              "</table>\n",
              "<p>5 rows × 785 columns</p>\n",
              "</div>\n",
              "    <div class=\"colab-df-buttons\">\n",
              "\n",
              "  <div class=\"colab-df-container\">\n",
              "    <button class=\"colab-df-convert\" onclick=\"convertToInteractive('df-04616856-e91b-41ad-a7e9-137e263e91a2')\"\n",
              "            title=\"Convert this dataframe to an interactive table.\"\n",
              "            style=\"display:none;\">\n",
              "\n",
              "  <svg xmlns=\"http://www.w3.org/2000/svg\" height=\"24px\" viewBox=\"0 -960 960 960\">\n",
              "    <path d=\"M120-120v-720h720v720H120Zm60-500h600v-160H180v160Zm220 220h160v-160H400v160Zm0 220h160v-160H400v160ZM180-400h160v-160H180v160Zm440 0h160v-160H620v160ZM180-180h160v-160H180v160Zm440 0h160v-160H620v160Z\"/>\n",
              "  </svg>\n",
              "    </button>\n",
              "\n",
              "  <style>\n",
              "    .colab-df-container {\n",
              "      display:flex;\n",
              "      gap: 12px;\n",
              "    }\n",
              "\n",
              "    .colab-df-convert {\n",
              "      background-color: #E8F0FE;\n",
              "      border: none;\n",
              "      border-radius: 50%;\n",
              "      cursor: pointer;\n",
              "      display: none;\n",
              "      fill: #1967D2;\n",
              "      height: 32px;\n",
              "      padding: 0 0 0 0;\n",
              "      width: 32px;\n",
              "    }\n",
              "\n",
              "    .colab-df-convert:hover {\n",
              "      background-color: #E2EBFA;\n",
              "      box-shadow: 0px 1px 2px rgba(60, 64, 67, 0.3), 0px 1px 3px 1px rgba(60, 64, 67, 0.15);\n",
              "      fill: #174EA6;\n",
              "    }\n",
              "\n",
              "    .colab-df-buttons div {\n",
              "      margin-bottom: 4px;\n",
              "    }\n",
              "\n",
              "    [theme=dark] .colab-df-convert {\n",
              "      background-color: #3B4455;\n",
              "      fill: #D2E3FC;\n",
              "    }\n",
              "\n",
              "    [theme=dark] .colab-df-convert:hover {\n",
              "      background-color: #434B5C;\n",
              "      box-shadow: 0px 1px 3px 1px rgba(0, 0, 0, 0.15);\n",
              "      filter: drop-shadow(0px 1px 2px rgba(0, 0, 0, 0.3));\n",
              "      fill: #FFFFFF;\n",
              "    }\n",
              "  </style>\n",
              "\n",
              "    <script>\n",
              "      const buttonEl =\n",
              "        document.querySelector('#df-04616856-e91b-41ad-a7e9-137e263e91a2 button.colab-df-convert');\n",
              "      buttonEl.style.display =\n",
              "        google.colab.kernel.accessAllowed ? 'block' : 'none';\n",
              "\n",
              "      async function convertToInteractive(key) {\n",
              "        const element = document.querySelector('#df-04616856-e91b-41ad-a7e9-137e263e91a2');\n",
              "        const dataTable =\n",
              "          await google.colab.kernel.invokeFunction('convertToInteractive',\n",
              "                                                    [key], {});\n",
              "        if (!dataTable) return;\n",
              "\n",
              "        const docLinkHtml = 'Like what you see? Visit the ' +\n",
              "          '<a target=\"_blank\" href=https://colab.research.google.com/notebooks/data_table.ipynb>data table notebook</a>'\n",
              "          + ' to learn more about interactive tables.';\n",
              "        element.innerHTML = '';\n",
              "        dataTable['output_type'] = 'display_data';\n",
              "        await google.colab.output.renderOutput(dataTable, element);\n",
              "        const docLink = document.createElement('div');\n",
              "        docLink.innerHTML = docLinkHtml;\n",
              "        element.appendChild(docLink);\n",
              "      }\n",
              "    </script>\n",
              "  </div>\n",
              "\n",
              "\n",
              "<div id=\"df-b301198c-5e7d-429e-bf6e-e35f1b9dd7a3\">\n",
              "  <button class=\"colab-df-quickchart\" onclick=\"quickchart('df-b301198c-5e7d-429e-bf6e-e35f1b9dd7a3')\"\n",
              "            title=\"Suggest charts\"\n",
              "            style=\"display:none;\">\n",
              "\n",
              "<svg xmlns=\"http://www.w3.org/2000/svg\" height=\"24px\"viewBox=\"0 0 24 24\"\n",
              "     width=\"24px\">\n",
              "    <g>\n",
              "        <path d=\"M19 3H5c-1.1 0-2 .9-2 2v14c0 1.1.9 2 2 2h14c1.1 0 2-.9 2-2V5c0-1.1-.9-2-2-2zM9 17H7v-7h2v7zm4 0h-2V7h2v10zm4 0h-2v-4h2v4z\"/>\n",
              "    </g>\n",
              "</svg>\n",
              "  </button>\n",
              "\n",
              "<style>\n",
              "  .colab-df-quickchart {\n",
              "      --bg-color: #E8F0FE;\n",
              "      --fill-color: #1967D2;\n",
              "      --hover-bg-color: #E2EBFA;\n",
              "      --hover-fill-color: #174EA6;\n",
              "      --disabled-fill-color: #AAA;\n",
              "      --disabled-bg-color: #DDD;\n",
              "  }\n",
              "\n",
              "  [theme=dark] .colab-df-quickchart {\n",
              "      --bg-color: #3B4455;\n",
              "      --fill-color: #D2E3FC;\n",
              "      --hover-bg-color: #434B5C;\n",
              "      --hover-fill-color: #FFFFFF;\n",
              "      --disabled-bg-color: #3B4455;\n",
              "      --disabled-fill-color: #666;\n",
              "  }\n",
              "\n",
              "  .colab-df-quickchart {\n",
              "    background-color: var(--bg-color);\n",
              "    border: none;\n",
              "    border-radius: 50%;\n",
              "    cursor: pointer;\n",
              "    display: none;\n",
              "    fill: var(--fill-color);\n",
              "    height: 32px;\n",
              "    padding: 0;\n",
              "    width: 32px;\n",
              "  }\n",
              "\n",
              "  .colab-df-quickchart:hover {\n",
              "    background-color: var(--hover-bg-color);\n",
              "    box-shadow: 0 1px 2px rgba(60, 64, 67, 0.3), 0 1px 3px 1px rgba(60, 64, 67, 0.15);\n",
              "    fill: var(--button-hover-fill-color);\n",
              "  }\n",
              "\n",
              "  .colab-df-quickchart-complete:disabled,\n",
              "  .colab-df-quickchart-complete:disabled:hover {\n",
              "    background-color: var(--disabled-bg-color);\n",
              "    fill: var(--disabled-fill-color);\n",
              "    box-shadow: none;\n",
              "  }\n",
              "\n",
              "  .colab-df-spinner {\n",
              "    border: 2px solid var(--fill-color);\n",
              "    border-color: transparent;\n",
              "    border-bottom-color: var(--fill-color);\n",
              "    animation:\n",
              "      spin 1s steps(1) infinite;\n",
              "  }\n",
              "\n",
              "  @keyframes spin {\n",
              "    0% {\n",
              "      border-color: transparent;\n",
              "      border-bottom-color: var(--fill-color);\n",
              "      border-left-color: var(--fill-color);\n",
              "    }\n",
              "    20% {\n",
              "      border-color: transparent;\n",
              "      border-left-color: var(--fill-color);\n",
              "      border-top-color: var(--fill-color);\n",
              "    }\n",
              "    30% {\n",
              "      border-color: transparent;\n",
              "      border-left-color: var(--fill-color);\n",
              "      border-top-color: var(--fill-color);\n",
              "      border-right-color: var(--fill-color);\n",
              "    }\n",
              "    40% {\n",
              "      border-color: transparent;\n",
              "      border-right-color: var(--fill-color);\n",
              "      border-top-color: var(--fill-color);\n",
              "    }\n",
              "    60% {\n",
              "      border-color: transparent;\n",
              "      border-right-color: var(--fill-color);\n",
              "    }\n",
              "    80% {\n",
              "      border-color: transparent;\n",
              "      border-right-color: var(--fill-color);\n",
              "      border-bottom-color: var(--fill-color);\n",
              "    }\n",
              "    90% {\n",
              "      border-color: transparent;\n",
              "      border-bottom-color: var(--fill-color);\n",
              "    }\n",
              "  }\n",
              "</style>\n",
              "\n",
              "  <script>\n",
              "    async function quickchart(key) {\n",
              "      const quickchartButtonEl =\n",
              "        document.querySelector('#' + key + ' button');\n",
              "      quickchartButtonEl.disabled = true;  // To prevent multiple clicks.\n",
              "      quickchartButtonEl.classList.add('colab-df-spinner');\n",
              "      try {\n",
              "        const charts = await google.colab.kernel.invokeFunction(\n",
              "            'suggestCharts', [key], {});\n",
              "      } catch (error) {\n",
              "        console.error('Error during call to suggestCharts:', error);\n",
              "      }\n",
              "      quickchartButtonEl.classList.remove('colab-df-spinner');\n",
              "      quickchartButtonEl.classList.add('colab-df-quickchart-complete');\n",
              "    }\n",
              "    (() => {\n",
              "      let quickchartButtonEl =\n",
              "        document.querySelector('#df-b301198c-5e7d-429e-bf6e-e35f1b9dd7a3 button');\n",
              "      quickchartButtonEl.style.display =\n",
              "        google.colab.kernel.accessAllowed ? 'block' : 'none';\n",
              "    })();\n",
              "  </script>\n",
              "</div>\n",
              "\n",
              "    </div>\n",
              "  </div>\n"
            ],
            "application/vnd.google.colaboratory.intrinsic+json": {
              "type": "dataframe",
              "variable_name": "maleData"
            }
          },
          "metadata": {},
          "execution_count": 3
        }
      ],
      "source": [
        "maleData = pd.read_csv(\"./maleDigits.csv\")\n",
        "maleData.head()"
      ]
    },
    {
      "cell_type": "code",
      "source": [
        "femaleData = pd.read_csv(\"./femaleDigits.csv\")\n",
        "femaleData.tail()"
      ],
      "metadata": {
        "colab": {
          "base_uri": "https://localhost:8080/",
          "height": 236
        },
        "id": "m6EsWXVNWb7S",
        "outputId": "b0c38de2-4308-4525-a4cc-618c631e4e08"
      },
      "execution_count": null,
      "outputs": [
        {
          "output_type": "execute_result",
          "data": {
            "text/plain": [
              "       pixel0  pixel1  pixel2  pixel3  pixel4  pixel5  pixel6  pixel7  pixel8  \\\n",
              "15617       0       1       0       0       1       0       2       1       0   \n",
              "15618       0       0       0       3       1     198     223      14       2   \n",
              "15619       0       0       0       0       0       0       0       0       0   \n",
              "15620       1       1       1       1       1       1       1       5       5   \n",
              "15621       1       2       0       0       0       1       4       3       3   \n",
              "\n",
              "       pixel9  ...  pixel775  pixel776  pixel777  pixel778  pixel779  \\\n",
              "15617       0  ...        23         1         2         0         0   \n",
              "15618       2  ...         1         0         0         0         3   \n",
              "15619       0  ...         1         1         1         0         0   \n",
              "15620       5  ...         0         0         0         0         0   \n",
              "15621       3  ...         0         2         3         0         2   \n",
              "\n",
              "       pixel780  pixel781  pixel782  pixel783  label  \n",
              "15617         0         0         0         0    121  \n",
              "15618         1         1         0         1    121  \n",
              "15619         0         0         0         0    121  \n",
              "15620         0         0         0         0    121  \n",
              "15621         0         0         1         0    121  \n",
              "\n",
              "[5 rows x 785 columns]"
            ],
            "text/html": [
              "\n",
              "  <div id=\"df-42721c58-cb09-4117-ba15-82f895ba9a84\" class=\"colab-df-container\">\n",
              "    <div>\n",
              "<style scoped>\n",
              "    .dataframe tbody tr th:only-of-type {\n",
              "        vertical-align: middle;\n",
              "    }\n",
              "\n",
              "    .dataframe tbody tr th {\n",
              "        vertical-align: top;\n",
              "    }\n",
              "\n",
              "    .dataframe thead th {\n",
              "        text-align: right;\n",
              "    }\n",
              "</style>\n",
              "<table border=\"1\" class=\"dataframe\">\n",
              "  <thead>\n",
              "    <tr style=\"text-align: right;\">\n",
              "      <th></th>\n",
              "      <th>pixel0</th>\n",
              "      <th>pixel1</th>\n",
              "      <th>pixel2</th>\n",
              "      <th>pixel3</th>\n",
              "      <th>pixel4</th>\n",
              "      <th>pixel5</th>\n",
              "      <th>pixel6</th>\n",
              "      <th>pixel7</th>\n",
              "      <th>pixel8</th>\n",
              "      <th>pixel9</th>\n",
              "      <th>...</th>\n",
              "      <th>pixel775</th>\n",
              "      <th>pixel776</th>\n",
              "      <th>pixel777</th>\n",
              "      <th>pixel778</th>\n",
              "      <th>pixel779</th>\n",
              "      <th>pixel780</th>\n",
              "      <th>pixel781</th>\n",
              "      <th>pixel782</th>\n",
              "      <th>pixel783</th>\n",
              "      <th>label</th>\n",
              "    </tr>\n",
              "  </thead>\n",
              "  <tbody>\n",
              "    <tr>\n",
              "      <th>15617</th>\n",
              "      <td>0</td>\n",
              "      <td>1</td>\n",
              "      <td>0</td>\n",
              "      <td>0</td>\n",
              "      <td>1</td>\n",
              "      <td>0</td>\n",
              "      <td>2</td>\n",
              "      <td>1</td>\n",
              "      <td>0</td>\n",
              "      <td>0</td>\n",
              "      <td>...</td>\n",
              "      <td>23</td>\n",
              "      <td>1</td>\n",
              "      <td>2</td>\n",
              "      <td>0</td>\n",
              "      <td>0</td>\n",
              "      <td>0</td>\n",
              "      <td>0</td>\n",
              "      <td>0</td>\n",
              "      <td>0</td>\n",
              "      <td>121</td>\n",
              "    </tr>\n",
              "    <tr>\n",
              "      <th>15618</th>\n",
              "      <td>0</td>\n",
              "      <td>0</td>\n",
              "      <td>0</td>\n",
              "      <td>3</td>\n",
              "      <td>1</td>\n",
              "      <td>198</td>\n",
              "      <td>223</td>\n",
              "      <td>14</td>\n",
              "      <td>2</td>\n",
              "      <td>2</td>\n",
              "      <td>...</td>\n",
              "      <td>1</td>\n",
              "      <td>0</td>\n",
              "      <td>0</td>\n",
              "      <td>0</td>\n",
              "      <td>3</td>\n",
              "      <td>1</td>\n",
              "      <td>1</td>\n",
              "      <td>0</td>\n",
              "      <td>1</td>\n",
              "      <td>121</td>\n",
              "    </tr>\n",
              "    <tr>\n",
              "      <th>15619</th>\n",
              "      <td>0</td>\n",
              "      <td>0</td>\n",
              "      <td>0</td>\n",
              "      <td>0</td>\n",
              "      <td>0</td>\n",
              "      <td>0</td>\n",
              "      <td>0</td>\n",
              "      <td>0</td>\n",
              "      <td>0</td>\n",
              "      <td>0</td>\n",
              "      <td>...</td>\n",
              "      <td>1</td>\n",
              "      <td>1</td>\n",
              "      <td>1</td>\n",
              "      <td>0</td>\n",
              "      <td>0</td>\n",
              "      <td>0</td>\n",
              "      <td>0</td>\n",
              "      <td>0</td>\n",
              "      <td>0</td>\n",
              "      <td>121</td>\n",
              "    </tr>\n",
              "    <tr>\n",
              "      <th>15620</th>\n",
              "      <td>1</td>\n",
              "      <td>1</td>\n",
              "      <td>1</td>\n",
              "      <td>1</td>\n",
              "      <td>1</td>\n",
              "      <td>1</td>\n",
              "      <td>1</td>\n",
              "      <td>5</td>\n",
              "      <td>5</td>\n",
              "      <td>5</td>\n",
              "      <td>...</td>\n",
              "      <td>0</td>\n",
              "      <td>0</td>\n",
              "      <td>0</td>\n",
              "      <td>0</td>\n",
              "      <td>0</td>\n",
              "      <td>0</td>\n",
              "      <td>0</td>\n",
              "      <td>0</td>\n",
              "      <td>0</td>\n",
              "      <td>121</td>\n",
              "    </tr>\n",
              "    <tr>\n",
              "      <th>15621</th>\n",
              "      <td>1</td>\n",
              "      <td>2</td>\n",
              "      <td>0</td>\n",
              "      <td>0</td>\n",
              "      <td>0</td>\n",
              "      <td>1</td>\n",
              "      <td>4</td>\n",
              "      <td>3</td>\n",
              "      <td>3</td>\n",
              "      <td>3</td>\n",
              "      <td>...</td>\n",
              "      <td>0</td>\n",
              "      <td>2</td>\n",
              "      <td>3</td>\n",
              "      <td>0</td>\n",
              "      <td>2</td>\n",
              "      <td>0</td>\n",
              "      <td>0</td>\n",
              "      <td>1</td>\n",
              "      <td>0</td>\n",
              "      <td>121</td>\n",
              "    </tr>\n",
              "  </tbody>\n",
              "</table>\n",
              "<p>5 rows × 785 columns</p>\n",
              "</div>\n",
              "    <div class=\"colab-df-buttons\">\n",
              "\n",
              "  <div class=\"colab-df-container\">\n",
              "    <button class=\"colab-df-convert\" onclick=\"convertToInteractive('df-42721c58-cb09-4117-ba15-82f895ba9a84')\"\n",
              "            title=\"Convert this dataframe to an interactive table.\"\n",
              "            style=\"display:none;\">\n",
              "\n",
              "  <svg xmlns=\"http://www.w3.org/2000/svg\" height=\"24px\" viewBox=\"0 -960 960 960\">\n",
              "    <path d=\"M120-120v-720h720v720H120Zm60-500h600v-160H180v160Zm220 220h160v-160H400v160Zm0 220h160v-160H400v160ZM180-400h160v-160H180v160Zm440 0h160v-160H620v160ZM180-180h160v-160H180v160Zm440 0h160v-160H620v160Z\"/>\n",
              "  </svg>\n",
              "    </button>\n",
              "\n",
              "  <style>\n",
              "    .colab-df-container {\n",
              "      display:flex;\n",
              "      gap: 12px;\n",
              "    }\n",
              "\n",
              "    .colab-df-convert {\n",
              "      background-color: #E8F0FE;\n",
              "      border: none;\n",
              "      border-radius: 50%;\n",
              "      cursor: pointer;\n",
              "      display: none;\n",
              "      fill: #1967D2;\n",
              "      height: 32px;\n",
              "      padding: 0 0 0 0;\n",
              "      width: 32px;\n",
              "    }\n",
              "\n",
              "    .colab-df-convert:hover {\n",
              "      background-color: #E2EBFA;\n",
              "      box-shadow: 0px 1px 2px rgba(60, 64, 67, 0.3), 0px 1px 3px 1px rgba(60, 64, 67, 0.15);\n",
              "      fill: #174EA6;\n",
              "    }\n",
              "\n",
              "    .colab-df-buttons div {\n",
              "      margin-bottom: 4px;\n",
              "    }\n",
              "\n",
              "    [theme=dark] .colab-df-convert {\n",
              "      background-color: #3B4455;\n",
              "      fill: #D2E3FC;\n",
              "    }\n",
              "\n",
              "    [theme=dark] .colab-df-convert:hover {\n",
              "      background-color: #434B5C;\n",
              "      box-shadow: 0px 1px 3px 1px rgba(0, 0, 0, 0.15);\n",
              "      filter: drop-shadow(0px 1px 2px rgba(0, 0, 0, 0.3));\n",
              "      fill: #FFFFFF;\n",
              "    }\n",
              "  </style>\n",
              "\n",
              "    <script>\n",
              "      const buttonEl =\n",
              "        document.querySelector('#df-42721c58-cb09-4117-ba15-82f895ba9a84 button.colab-df-convert');\n",
              "      buttonEl.style.display =\n",
              "        google.colab.kernel.accessAllowed ? 'block' : 'none';\n",
              "\n",
              "      async function convertToInteractive(key) {\n",
              "        const element = document.querySelector('#df-42721c58-cb09-4117-ba15-82f895ba9a84');\n",
              "        const dataTable =\n",
              "          await google.colab.kernel.invokeFunction('convertToInteractive',\n",
              "                                                    [key], {});\n",
              "        if (!dataTable) return;\n",
              "\n",
              "        const docLinkHtml = 'Like what you see? Visit the ' +\n",
              "          '<a target=\"_blank\" href=https://colab.research.google.com/notebooks/data_table.ipynb>data table notebook</a>'\n",
              "          + ' to learn more about interactive tables.';\n",
              "        element.innerHTML = '';\n",
              "        dataTable['output_type'] = 'display_data';\n",
              "        await google.colab.output.renderOutput(dataTable, element);\n",
              "        const docLink = document.createElement('div');\n",
              "        docLink.innerHTML = docLinkHtml;\n",
              "        element.appendChild(docLink);\n",
              "      }\n",
              "    </script>\n",
              "  </div>\n",
              "\n",
              "\n",
              "<div id=\"df-224045b2-e5e7-4ced-9f7c-84b2ba2f8ee9\">\n",
              "  <button class=\"colab-df-quickchart\" onclick=\"quickchart('df-224045b2-e5e7-4ced-9f7c-84b2ba2f8ee9')\"\n",
              "            title=\"Suggest charts\"\n",
              "            style=\"display:none;\">\n",
              "\n",
              "<svg xmlns=\"http://www.w3.org/2000/svg\" height=\"24px\"viewBox=\"0 0 24 24\"\n",
              "     width=\"24px\">\n",
              "    <g>\n",
              "        <path d=\"M19 3H5c-1.1 0-2 .9-2 2v14c0 1.1.9 2 2 2h14c1.1 0 2-.9 2-2V5c0-1.1-.9-2-2-2zM9 17H7v-7h2v7zm4 0h-2V7h2v10zm4 0h-2v-4h2v4z\"/>\n",
              "    </g>\n",
              "</svg>\n",
              "  </button>\n",
              "\n",
              "<style>\n",
              "  .colab-df-quickchart {\n",
              "      --bg-color: #E8F0FE;\n",
              "      --fill-color: #1967D2;\n",
              "      --hover-bg-color: #E2EBFA;\n",
              "      --hover-fill-color: #174EA6;\n",
              "      --disabled-fill-color: #AAA;\n",
              "      --disabled-bg-color: #DDD;\n",
              "  }\n",
              "\n",
              "  [theme=dark] .colab-df-quickchart {\n",
              "      --bg-color: #3B4455;\n",
              "      --fill-color: #D2E3FC;\n",
              "      --hover-bg-color: #434B5C;\n",
              "      --hover-fill-color: #FFFFFF;\n",
              "      --disabled-bg-color: #3B4455;\n",
              "      --disabled-fill-color: #666;\n",
              "  }\n",
              "\n",
              "  .colab-df-quickchart {\n",
              "    background-color: var(--bg-color);\n",
              "    border: none;\n",
              "    border-radius: 50%;\n",
              "    cursor: pointer;\n",
              "    display: none;\n",
              "    fill: var(--fill-color);\n",
              "    height: 32px;\n",
              "    padding: 0;\n",
              "    width: 32px;\n",
              "  }\n",
              "\n",
              "  .colab-df-quickchart:hover {\n",
              "    background-color: var(--hover-bg-color);\n",
              "    box-shadow: 0 1px 2px rgba(60, 64, 67, 0.3), 0 1px 3px 1px rgba(60, 64, 67, 0.15);\n",
              "    fill: var(--button-hover-fill-color);\n",
              "  }\n",
              "\n",
              "  .colab-df-quickchart-complete:disabled,\n",
              "  .colab-df-quickchart-complete:disabled:hover {\n",
              "    background-color: var(--disabled-bg-color);\n",
              "    fill: var(--disabled-fill-color);\n",
              "    box-shadow: none;\n",
              "  }\n",
              "\n",
              "  .colab-df-spinner {\n",
              "    border: 2px solid var(--fill-color);\n",
              "    border-color: transparent;\n",
              "    border-bottom-color: var(--fill-color);\n",
              "    animation:\n",
              "      spin 1s steps(1) infinite;\n",
              "  }\n",
              "\n",
              "  @keyframes spin {\n",
              "    0% {\n",
              "      border-color: transparent;\n",
              "      border-bottom-color: var(--fill-color);\n",
              "      border-left-color: var(--fill-color);\n",
              "    }\n",
              "    20% {\n",
              "      border-color: transparent;\n",
              "      border-left-color: var(--fill-color);\n",
              "      border-top-color: var(--fill-color);\n",
              "    }\n",
              "    30% {\n",
              "      border-color: transparent;\n",
              "      border-left-color: var(--fill-color);\n",
              "      border-top-color: var(--fill-color);\n",
              "      border-right-color: var(--fill-color);\n",
              "    }\n",
              "    40% {\n",
              "      border-color: transparent;\n",
              "      border-right-color: var(--fill-color);\n",
              "      border-top-color: var(--fill-color);\n",
              "    }\n",
              "    60% {\n",
              "      border-color: transparent;\n",
              "      border-right-color: var(--fill-color);\n",
              "    }\n",
              "    80% {\n",
              "      border-color: transparent;\n",
              "      border-right-color: var(--fill-color);\n",
              "      border-bottom-color: var(--fill-color);\n",
              "    }\n",
              "    90% {\n",
              "      border-color: transparent;\n",
              "      border-bottom-color: var(--fill-color);\n",
              "    }\n",
              "  }\n",
              "</style>\n",
              "\n",
              "  <script>\n",
              "    async function quickchart(key) {\n",
              "      const quickchartButtonEl =\n",
              "        document.querySelector('#' + key + ' button');\n",
              "      quickchartButtonEl.disabled = true;  // To prevent multiple clicks.\n",
              "      quickchartButtonEl.classList.add('colab-df-spinner');\n",
              "      try {\n",
              "        const charts = await google.colab.kernel.invokeFunction(\n",
              "            'suggestCharts', [key], {});\n",
              "      } catch (error) {\n",
              "        console.error('Error during call to suggestCharts:', error);\n",
              "      }\n",
              "      quickchartButtonEl.classList.remove('colab-df-spinner');\n",
              "      quickchartButtonEl.classList.add('colab-df-quickchart-complete');\n",
              "    }\n",
              "    (() => {\n",
              "      let quickchartButtonEl =\n",
              "        document.querySelector('#df-224045b2-e5e7-4ced-9f7c-84b2ba2f8ee9 button');\n",
              "      quickchartButtonEl.style.display =\n",
              "        google.colab.kernel.accessAllowed ? 'block' : 'none';\n",
              "    })();\n",
              "  </script>\n",
              "</div>\n",
              "\n",
              "    </div>\n",
              "  </div>\n"
            ],
            "application/vnd.google.colaboratory.intrinsic+json": {
              "type": "dataframe"
            }
          },
          "metadata": {},
          "execution_count": 4
        }
      ]
    },
    {
      "cell_type": "code",
      "source": [
        "maleData['label'] = maleData['label'] - 112\n",
        "femaleData['label'] = femaleData['label'] - 112\n",
        "maleData.tail()"
      ],
      "metadata": {
        "colab": {
          "base_uri": "https://localhost:8080/",
          "height": 236
        },
        "id": "XVpETtjTWqyB",
        "outputId": "e68b6ab5-d4c7-42d6-f772-2716c7d0e152"
      },
      "execution_count": null,
      "outputs": [
        {
          "output_type": "execute_result",
          "data": {
            "text/plain": [
              "       pixel0  pixel1  pixel2  pixel3  pixel4  pixel5  pixel6  pixel7  pixel8  \\\n",
              "15203     125     146     133     134     128     107     119     122      72   \n",
              "15204       0       0       0       0       0       1       1       5      47   \n",
              "15205       0       0       0       0       0       0       0       0       0   \n",
              "15206       0       1       1       4       2       0       0       0       2   \n",
              "15207       2       0       1       1       1       1       1       1       0   \n",
              "\n",
              "       pixel9  ...  pixel775  pixel776  pixel777  pixel778  pixel779  \\\n",
              "15203      69  ...         0         0         0         0         0   \n",
              "15204      56  ...         0         0         0         0         0   \n",
              "15205       0  ...         0        46       210       238        99   \n",
              "15206       0  ...         0         0         0         0         0   \n",
              "15207       0  ...         0         1         2         3         0   \n",
              "\n",
              "       pixel780  pixel781  pixel782  pixel783  label  \n",
              "15203         0         0         0         0      9  \n",
              "15204         0         0         0         0      9  \n",
              "15205         4         4         1         0      9  \n",
              "15206         0         0         0         0      9  \n",
              "15207       179       255       186        14      9  \n",
              "\n",
              "[5 rows x 785 columns]"
            ],
            "text/html": [
              "\n",
              "  <div id=\"df-907d74e0-5773-469e-a186-e03e6e52862a\" class=\"colab-df-container\">\n",
              "    <div>\n",
              "<style scoped>\n",
              "    .dataframe tbody tr th:only-of-type {\n",
              "        vertical-align: middle;\n",
              "    }\n",
              "\n",
              "    .dataframe tbody tr th {\n",
              "        vertical-align: top;\n",
              "    }\n",
              "\n",
              "    .dataframe thead th {\n",
              "        text-align: right;\n",
              "    }\n",
              "</style>\n",
              "<table border=\"1\" class=\"dataframe\">\n",
              "  <thead>\n",
              "    <tr style=\"text-align: right;\">\n",
              "      <th></th>\n",
              "      <th>pixel0</th>\n",
              "      <th>pixel1</th>\n",
              "      <th>pixel2</th>\n",
              "      <th>pixel3</th>\n",
              "      <th>pixel4</th>\n",
              "      <th>pixel5</th>\n",
              "      <th>pixel6</th>\n",
              "      <th>pixel7</th>\n",
              "      <th>pixel8</th>\n",
              "      <th>pixel9</th>\n",
              "      <th>...</th>\n",
              "      <th>pixel775</th>\n",
              "      <th>pixel776</th>\n",
              "      <th>pixel777</th>\n",
              "      <th>pixel778</th>\n",
              "      <th>pixel779</th>\n",
              "      <th>pixel780</th>\n",
              "      <th>pixel781</th>\n",
              "      <th>pixel782</th>\n",
              "      <th>pixel783</th>\n",
              "      <th>label</th>\n",
              "    </tr>\n",
              "  </thead>\n",
              "  <tbody>\n",
              "    <tr>\n",
              "      <th>15203</th>\n",
              "      <td>125</td>\n",
              "      <td>146</td>\n",
              "      <td>133</td>\n",
              "      <td>134</td>\n",
              "      <td>128</td>\n",
              "      <td>107</td>\n",
              "      <td>119</td>\n",
              "      <td>122</td>\n",
              "      <td>72</td>\n",
              "      <td>69</td>\n",
              "      <td>...</td>\n",
              "      <td>0</td>\n",
              "      <td>0</td>\n",
              "      <td>0</td>\n",
              "      <td>0</td>\n",
              "      <td>0</td>\n",
              "      <td>0</td>\n",
              "      <td>0</td>\n",
              "      <td>0</td>\n",
              "      <td>0</td>\n",
              "      <td>9</td>\n",
              "    </tr>\n",
              "    <tr>\n",
              "      <th>15204</th>\n",
              "      <td>0</td>\n",
              "      <td>0</td>\n",
              "      <td>0</td>\n",
              "      <td>0</td>\n",
              "      <td>0</td>\n",
              "      <td>1</td>\n",
              "      <td>1</td>\n",
              "      <td>5</td>\n",
              "      <td>47</td>\n",
              "      <td>56</td>\n",
              "      <td>...</td>\n",
              "      <td>0</td>\n",
              "      <td>0</td>\n",
              "      <td>0</td>\n",
              "      <td>0</td>\n",
              "      <td>0</td>\n",
              "      <td>0</td>\n",
              "      <td>0</td>\n",
              "      <td>0</td>\n",
              "      <td>0</td>\n",
              "      <td>9</td>\n",
              "    </tr>\n",
              "    <tr>\n",
              "      <th>15205</th>\n",
              "      <td>0</td>\n",
              "      <td>0</td>\n",
              "      <td>0</td>\n",
              "      <td>0</td>\n",
              "      <td>0</td>\n",
              "      <td>0</td>\n",
              "      <td>0</td>\n",
              "      <td>0</td>\n",
              "      <td>0</td>\n",
              "      <td>0</td>\n",
              "      <td>...</td>\n",
              "      <td>0</td>\n",
              "      <td>46</td>\n",
              "      <td>210</td>\n",
              "      <td>238</td>\n",
              "      <td>99</td>\n",
              "      <td>4</td>\n",
              "      <td>4</td>\n",
              "      <td>1</td>\n",
              "      <td>0</td>\n",
              "      <td>9</td>\n",
              "    </tr>\n",
              "    <tr>\n",
              "      <th>15206</th>\n",
              "      <td>0</td>\n",
              "      <td>1</td>\n",
              "      <td>1</td>\n",
              "      <td>4</td>\n",
              "      <td>2</td>\n",
              "      <td>0</td>\n",
              "      <td>0</td>\n",
              "      <td>0</td>\n",
              "      <td>2</td>\n",
              "      <td>0</td>\n",
              "      <td>...</td>\n",
              "      <td>0</td>\n",
              "      <td>0</td>\n",
              "      <td>0</td>\n",
              "      <td>0</td>\n",
              "      <td>0</td>\n",
              "      <td>0</td>\n",
              "      <td>0</td>\n",
              "      <td>0</td>\n",
              "      <td>0</td>\n",
              "      <td>9</td>\n",
              "    </tr>\n",
              "    <tr>\n",
              "      <th>15207</th>\n",
              "      <td>2</td>\n",
              "      <td>0</td>\n",
              "      <td>1</td>\n",
              "      <td>1</td>\n",
              "      <td>1</td>\n",
              "      <td>1</td>\n",
              "      <td>1</td>\n",
              "      <td>1</td>\n",
              "      <td>0</td>\n",
              "      <td>0</td>\n",
              "      <td>...</td>\n",
              "      <td>0</td>\n",
              "      <td>1</td>\n",
              "      <td>2</td>\n",
              "      <td>3</td>\n",
              "      <td>0</td>\n",
              "      <td>179</td>\n",
              "      <td>255</td>\n",
              "      <td>186</td>\n",
              "      <td>14</td>\n",
              "      <td>9</td>\n",
              "    </tr>\n",
              "  </tbody>\n",
              "</table>\n",
              "<p>5 rows × 785 columns</p>\n",
              "</div>\n",
              "    <div class=\"colab-df-buttons\">\n",
              "\n",
              "  <div class=\"colab-df-container\">\n",
              "    <button class=\"colab-df-convert\" onclick=\"convertToInteractive('df-907d74e0-5773-469e-a186-e03e6e52862a')\"\n",
              "            title=\"Convert this dataframe to an interactive table.\"\n",
              "            style=\"display:none;\">\n",
              "\n",
              "  <svg xmlns=\"http://www.w3.org/2000/svg\" height=\"24px\" viewBox=\"0 -960 960 960\">\n",
              "    <path d=\"M120-120v-720h720v720H120Zm60-500h600v-160H180v160Zm220 220h160v-160H400v160Zm0 220h160v-160H400v160ZM180-400h160v-160H180v160Zm440 0h160v-160H620v160ZM180-180h160v-160H180v160Zm440 0h160v-160H620v160Z\"/>\n",
              "  </svg>\n",
              "    </button>\n",
              "\n",
              "  <style>\n",
              "    .colab-df-container {\n",
              "      display:flex;\n",
              "      gap: 12px;\n",
              "    }\n",
              "\n",
              "    .colab-df-convert {\n",
              "      background-color: #E8F0FE;\n",
              "      border: none;\n",
              "      border-radius: 50%;\n",
              "      cursor: pointer;\n",
              "      display: none;\n",
              "      fill: #1967D2;\n",
              "      height: 32px;\n",
              "      padding: 0 0 0 0;\n",
              "      width: 32px;\n",
              "    }\n",
              "\n",
              "    .colab-df-convert:hover {\n",
              "      background-color: #E2EBFA;\n",
              "      box-shadow: 0px 1px 2px rgba(60, 64, 67, 0.3), 0px 1px 3px 1px rgba(60, 64, 67, 0.15);\n",
              "      fill: #174EA6;\n",
              "    }\n",
              "\n",
              "    .colab-df-buttons div {\n",
              "      margin-bottom: 4px;\n",
              "    }\n",
              "\n",
              "    [theme=dark] .colab-df-convert {\n",
              "      background-color: #3B4455;\n",
              "      fill: #D2E3FC;\n",
              "    }\n",
              "\n",
              "    [theme=dark] .colab-df-convert:hover {\n",
              "      background-color: #434B5C;\n",
              "      box-shadow: 0px 1px 3px 1px rgba(0, 0, 0, 0.15);\n",
              "      filter: drop-shadow(0px 1px 2px rgba(0, 0, 0, 0.3));\n",
              "      fill: #FFFFFF;\n",
              "    }\n",
              "  </style>\n",
              "\n",
              "    <script>\n",
              "      const buttonEl =\n",
              "        document.querySelector('#df-907d74e0-5773-469e-a186-e03e6e52862a button.colab-df-convert');\n",
              "      buttonEl.style.display =\n",
              "        google.colab.kernel.accessAllowed ? 'block' : 'none';\n",
              "\n",
              "      async function convertToInteractive(key) {\n",
              "        const element = document.querySelector('#df-907d74e0-5773-469e-a186-e03e6e52862a');\n",
              "        const dataTable =\n",
              "          await google.colab.kernel.invokeFunction('convertToInteractive',\n",
              "                                                    [key], {});\n",
              "        if (!dataTable) return;\n",
              "\n",
              "        const docLinkHtml = 'Like what you see? Visit the ' +\n",
              "          '<a target=\"_blank\" href=https://colab.research.google.com/notebooks/data_table.ipynb>data table notebook</a>'\n",
              "          + ' to learn more about interactive tables.';\n",
              "        element.innerHTML = '';\n",
              "        dataTable['output_type'] = 'display_data';\n",
              "        await google.colab.output.renderOutput(dataTable, element);\n",
              "        const docLink = document.createElement('div');\n",
              "        docLink.innerHTML = docLinkHtml;\n",
              "        element.appendChild(docLink);\n",
              "      }\n",
              "    </script>\n",
              "  </div>\n",
              "\n",
              "\n",
              "<div id=\"df-8c105bc2-9029-4926-ba35-1255b084abcb\">\n",
              "  <button class=\"colab-df-quickchart\" onclick=\"quickchart('df-8c105bc2-9029-4926-ba35-1255b084abcb')\"\n",
              "            title=\"Suggest charts\"\n",
              "            style=\"display:none;\">\n",
              "\n",
              "<svg xmlns=\"http://www.w3.org/2000/svg\" height=\"24px\"viewBox=\"0 0 24 24\"\n",
              "     width=\"24px\">\n",
              "    <g>\n",
              "        <path d=\"M19 3H5c-1.1 0-2 .9-2 2v14c0 1.1.9 2 2 2h14c1.1 0 2-.9 2-2V5c0-1.1-.9-2-2-2zM9 17H7v-7h2v7zm4 0h-2V7h2v10zm4 0h-2v-4h2v4z\"/>\n",
              "    </g>\n",
              "</svg>\n",
              "  </button>\n",
              "\n",
              "<style>\n",
              "  .colab-df-quickchart {\n",
              "      --bg-color: #E8F0FE;\n",
              "      --fill-color: #1967D2;\n",
              "      --hover-bg-color: #E2EBFA;\n",
              "      --hover-fill-color: #174EA6;\n",
              "      --disabled-fill-color: #AAA;\n",
              "      --disabled-bg-color: #DDD;\n",
              "  }\n",
              "\n",
              "  [theme=dark] .colab-df-quickchart {\n",
              "      --bg-color: #3B4455;\n",
              "      --fill-color: #D2E3FC;\n",
              "      --hover-bg-color: #434B5C;\n",
              "      --hover-fill-color: #FFFFFF;\n",
              "      --disabled-bg-color: #3B4455;\n",
              "      --disabled-fill-color: #666;\n",
              "  }\n",
              "\n",
              "  .colab-df-quickchart {\n",
              "    background-color: var(--bg-color);\n",
              "    border: none;\n",
              "    border-radius: 50%;\n",
              "    cursor: pointer;\n",
              "    display: none;\n",
              "    fill: var(--fill-color);\n",
              "    height: 32px;\n",
              "    padding: 0;\n",
              "    width: 32px;\n",
              "  }\n",
              "\n",
              "  .colab-df-quickchart:hover {\n",
              "    background-color: var(--hover-bg-color);\n",
              "    box-shadow: 0 1px 2px rgba(60, 64, 67, 0.3), 0 1px 3px 1px rgba(60, 64, 67, 0.15);\n",
              "    fill: var(--button-hover-fill-color);\n",
              "  }\n",
              "\n",
              "  .colab-df-quickchart-complete:disabled,\n",
              "  .colab-df-quickchart-complete:disabled:hover {\n",
              "    background-color: var(--disabled-bg-color);\n",
              "    fill: var(--disabled-fill-color);\n",
              "    box-shadow: none;\n",
              "  }\n",
              "\n",
              "  .colab-df-spinner {\n",
              "    border: 2px solid var(--fill-color);\n",
              "    border-color: transparent;\n",
              "    border-bottom-color: var(--fill-color);\n",
              "    animation:\n",
              "      spin 1s steps(1) infinite;\n",
              "  }\n",
              "\n",
              "  @keyframes spin {\n",
              "    0% {\n",
              "      border-color: transparent;\n",
              "      border-bottom-color: var(--fill-color);\n",
              "      border-left-color: var(--fill-color);\n",
              "    }\n",
              "    20% {\n",
              "      border-color: transparent;\n",
              "      border-left-color: var(--fill-color);\n",
              "      border-top-color: var(--fill-color);\n",
              "    }\n",
              "    30% {\n",
              "      border-color: transparent;\n",
              "      border-left-color: var(--fill-color);\n",
              "      border-top-color: var(--fill-color);\n",
              "      border-right-color: var(--fill-color);\n",
              "    }\n",
              "    40% {\n",
              "      border-color: transparent;\n",
              "      border-right-color: var(--fill-color);\n",
              "      border-top-color: var(--fill-color);\n",
              "    }\n",
              "    60% {\n",
              "      border-color: transparent;\n",
              "      border-right-color: var(--fill-color);\n",
              "    }\n",
              "    80% {\n",
              "      border-color: transparent;\n",
              "      border-right-color: var(--fill-color);\n",
              "      border-bottom-color: var(--fill-color);\n",
              "    }\n",
              "    90% {\n",
              "      border-color: transparent;\n",
              "      border-bottom-color: var(--fill-color);\n",
              "    }\n",
              "  }\n",
              "</style>\n",
              "\n",
              "  <script>\n",
              "    async function quickchart(key) {\n",
              "      const quickchartButtonEl =\n",
              "        document.querySelector('#' + key + ' button');\n",
              "      quickchartButtonEl.disabled = true;  // To prevent multiple clicks.\n",
              "      quickchartButtonEl.classList.add('colab-df-spinner');\n",
              "      try {\n",
              "        const charts = await google.colab.kernel.invokeFunction(\n",
              "            'suggestCharts', [key], {});\n",
              "      } catch (error) {\n",
              "        console.error('Error during call to suggestCharts:', error);\n",
              "      }\n",
              "      quickchartButtonEl.classList.remove('colab-df-spinner');\n",
              "      quickchartButtonEl.classList.add('colab-df-quickchart-complete');\n",
              "    }\n",
              "    (() => {\n",
              "      let quickchartButtonEl =\n",
              "        document.querySelector('#df-8c105bc2-9029-4926-ba35-1255b084abcb button');\n",
              "      quickchartButtonEl.style.display =\n",
              "        google.colab.kernel.accessAllowed ? 'block' : 'none';\n",
              "    })();\n",
              "  </script>\n",
              "</div>\n",
              "\n",
              "    </div>\n",
              "  </div>\n"
            ],
            "application/vnd.google.colaboratory.intrinsic+json": {
              "type": "dataframe"
            }
          },
          "metadata": {},
          "execution_count": 5
        }
      ]
    },
    {
      "cell_type": "code",
      "source": [
        "femaleData.head()"
      ],
      "metadata": {
        "colab": {
          "base_uri": "https://localhost:8080/",
          "height": 236
        },
        "id": "nYk4ZdPGW98y",
        "outputId": "39ab2eef-ccf7-4262-b161-51d0d5d05e25"
      },
      "execution_count": null,
      "outputs": [
        {
          "output_type": "execute_result",
          "data": {
            "text/plain": [
              "   pixel0  pixel1  pixel2  pixel3  pixel4  pixel5  pixel6  pixel7  pixel8  \\\n",
              "0       0       0       0       0       1       0       1       0       2   \n",
              "1       0       0       0       0       0       1       1       4       5   \n",
              "2       0       0       1       0       1       0       1       0       1   \n",
              "3       0       0       0       0       1       0       0       0       1   \n",
              "4       2       3      12       5      14      16      15      16       5   \n",
              "\n",
              "   pixel9  ...  pixel775  pixel776  pixel777  pixel778  pixel779  pixel780  \\\n",
              "0       4  ...       184       252       254       186       155        60   \n",
              "1       0  ...        15         0         0         4         4         2   \n",
              "2       1  ...        30         0         0         0         5         1   \n",
              "3       2  ...         4         2         0         0         1         0   \n",
              "4      12  ...         0         0         2         3         0         0   \n",
              "\n",
              "   pixel781  pixel782  pixel783  label  \n",
              "0         0         3         1      0  \n",
              "1         1         1         1      0  \n",
              "2         0         0         0      0  \n",
              "3         0         0         0      0  \n",
              "4         0         0         0      0  \n",
              "\n",
              "[5 rows x 785 columns]"
            ],
            "text/html": [
              "\n",
              "  <div id=\"df-b96770eb-f31c-49f6-ad10-e72e891d3643\" class=\"colab-df-container\">\n",
              "    <div>\n",
              "<style scoped>\n",
              "    .dataframe tbody tr th:only-of-type {\n",
              "        vertical-align: middle;\n",
              "    }\n",
              "\n",
              "    .dataframe tbody tr th {\n",
              "        vertical-align: top;\n",
              "    }\n",
              "\n",
              "    .dataframe thead th {\n",
              "        text-align: right;\n",
              "    }\n",
              "</style>\n",
              "<table border=\"1\" class=\"dataframe\">\n",
              "  <thead>\n",
              "    <tr style=\"text-align: right;\">\n",
              "      <th></th>\n",
              "      <th>pixel0</th>\n",
              "      <th>pixel1</th>\n",
              "      <th>pixel2</th>\n",
              "      <th>pixel3</th>\n",
              "      <th>pixel4</th>\n",
              "      <th>pixel5</th>\n",
              "      <th>pixel6</th>\n",
              "      <th>pixel7</th>\n",
              "      <th>pixel8</th>\n",
              "      <th>pixel9</th>\n",
              "      <th>...</th>\n",
              "      <th>pixel775</th>\n",
              "      <th>pixel776</th>\n",
              "      <th>pixel777</th>\n",
              "      <th>pixel778</th>\n",
              "      <th>pixel779</th>\n",
              "      <th>pixel780</th>\n",
              "      <th>pixel781</th>\n",
              "      <th>pixel782</th>\n",
              "      <th>pixel783</th>\n",
              "      <th>label</th>\n",
              "    </tr>\n",
              "  </thead>\n",
              "  <tbody>\n",
              "    <tr>\n",
              "      <th>0</th>\n",
              "      <td>0</td>\n",
              "      <td>0</td>\n",
              "      <td>0</td>\n",
              "      <td>0</td>\n",
              "      <td>1</td>\n",
              "      <td>0</td>\n",
              "      <td>1</td>\n",
              "      <td>0</td>\n",
              "      <td>2</td>\n",
              "      <td>4</td>\n",
              "      <td>...</td>\n",
              "      <td>184</td>\n",
              "      <td>252</td>\n",
              "      <td>254</td>\n",
              "      <td>186</td>\n",
              "      <td>155</td>\n",
              "      <td>60</td>\n",
              "      <td>0</td>\n",
              "      <td>3</td>\n",
              "      <td>1</td>\n",
              "      <td>0</td>\n",
              "    </tr>\n",
              "    <tr>\n",
              "      <th>1</th>\n",
              "      <td>0</td>\n",
              "      <td>0</td>\n",
              "      <td>0</td>\n",
              "      <td>0</td>\n",
              "      <td>0</td>\n",
              "      <td>1</td>\n",
              "      <td>1</td>\n",
              "      <td>4</td>\n",
              "      <td>5</td>\n",
              "      <td>0</td>\n",
              "      <td>...</td>\n",
              "      <td>15</td>\n",
              "      <td>0</td>\n",
              "      <td>0</td>\n",
              "      <td>4</td>\n",
              "      <td>4</td>\n",
              "      <td>2</td>\n",
              "      <td>1</td>\n",
              "      <td>1</td>\n",
              "      <td>1</td>\n",
              "      <td>0</td>\n",
              "    </tr>\n",
              "    <tr>\n",
              "      <th>2</th>\n",
              "      <td>0</td>\n",
              "      <td>0</td>\n",
              "      <td>1</td>\n",
              "      <td>0</td>\n",
              "      <td>1</td>\n",
              "      <td>0</td>\n",
              "      <td>1</td>\n",
              "      <td>0</td>\n",
              "      <td>1</td>\n",
              "      <td>1</td>\n",
              "      <td>...</td>\n",
              "      <td>30</td>\n",
              "      <td>0</td>\n",
              "      <td>0</td>\n",
              "      <td>0</td>\n",
              "      <td>5</td>\n",
              "      <td>1</td>\n",
              "      <td>0</td>\n",
              "      <td>0</td>\n",
              "      <td>0</td>\n",
              "      <td>0</td>\n",
              "    </tr>\n",
              "    <tr>\n",
              "      <th>3</th>\n",
              "      <td>0</td>\n",
              "      <td>0</td>\n",
              "      <td>0</td>\n",
              "      <td>0</td>\n",
              "      <td>1</td>\n",
              "      <td>0</td>\n",
              "      <td>0</td>\n",
              "      <td>0</td>\n",
              "      <td>1</td>\n",
              "      <td>2</td>\n",
              "      <td>...</td>\n",
              "      <td>4</td>\n",
              "      <td>2</td>\n",
              "      <td>0</td>\n",
              "      <td>0</td>\n",
              "      <td>1</td>\n",
              "      <td>0</td>\n",
              "      <td>0</td>\n",
              "      <td>0</td>\n",
              "      <td>0</td>\n",
              "      <td>0</td>\n",
              "    </tr>\n",
              "    <tr>\n",
              "      <th>4</th>\n",
              "      <td>2</td>\n",
              "      <td>3</td>\n",
              "      <td>12</td>\n",
              "      <td>5</td>\n",
              "      <td>14</td>\n",
              "      <td>16</td>\n",
              "      <td>15</td>\n",
              "      <td>16</td>\n",
              "      <td>5</td>\n",
              "      <td>12</td>\n",
              "      <td>...</td>\n",
              "      <td>0</td>\n",
              "      <td>0</td>\n",
              "      <td>2</td>\n",
              "      <td>3</td>\n",
              "      <td>0</td>\n",
              "      <td>0</td>\n",
              "      <td>0</td>\n",
              "      <td>0</td>\n",
              "      <td>0</td>\n",
              "      <td>0</td>\n",
              "    </tr>\n",
              "  </tbody>\n",
              "</table>\n",
              "<p>5 rows × 785 columns</p>\n",
              "</div>\n",
              "    <div class=\"colab-df-buttons\">\n",
              "\n",
              "  <div class=\"colab-df-container\">\n",
              "    <button class=\"colab-df-convert\" onclick=\"convertToInteractive('df-b96770eb-f31c-49f6-ad10-e72e891d3643')\"\n",
              "            title=\"Convert this dataframe to an interactive table.\"\n",
              "            style=\"display:none;\">\n",
              "\n",
              "  <svg xmlns=\"http://www.w3.org/2000/svg\" height=\"24px\" viewBox=\"0 -960 960 960\">\n",
              "    <path d=\"M120-120v-720h720v720H120Zm60-500h600v-160H180v160Zm220 220h160v-160H400v160Zm0 220h160v-160H400v160ZM180-400h160v-160H180v160Zm440 0h160v-160H620v160ZM180-180h160v-160H180v160Zm440 0h160v-160H620v160Z\"/>\n",
              "  </svg>\n",
              "    </button>\n",
              "\n",
              "  <style>\n",
              "    .colab-df-container {\n",
              "      display:flex;\n",
              "      gap: 12px;\n",
              "    }\n",
              "\n",
              "    .colab-df-convert {\n",
              "      background-color: #E8F0FE;\n",
              "      border: none;\n",
              "      border-radius: 50%;\n",
              "      cursor: pointer;\n",
              "      display: none;\n",
              "      fill: #1967D2;\n",
              "      height: 32px;\n",
              "      padding: 0 0 0 0;\n",
              "      width: 32px;\n",
              "    }\n",
              "\n",
              "    .colab-df-convert:hover {\n",
              "      background-color: #E2EBFA;\n",
              "      box-shadow: 0px 1px 2px rgba(60, 64, 67, 0.3), 0px 1px 3px 1px rgba(60, 64, 67, 0.15);\n",
              "      fill: #174EA6;\n",
              "    }\n",
              "\n",
              "    .colab-df-buttons div {\n",
              "      margin-bottom: 4px;\n",
              "    }\n",
              "\n",
              "    [theme=dark] .colab-df-convert {\n",
              "      background-color: #3B4455;\n",
              "      fill: #D2E3FC;\n",
              "    }\n",
              "\n",
              "    [theme=dark] .colab-df-convert:hover {\n",
              "      background-color: #434B5C;\n",
              "      box-shadow: 0px 1px 3px 1px rgba(0, 0, 0, 0.15);\n",
              "      filter: drop-shadow(0px 1px 2px rgba(0, 0, 0, 0.3));\n",
              "      fill: #FFFFFF;\n",
              "    }\n",
              "  </style>\n",
              "\n",
              "    <script>\n",
              "      const buttonEl =\n",
              "        document.querySelector('#df-b96770eb-f31c-49f6-ad10-e72e891d3643 button.colab-df-convert');\n",
              "      buttonEl.style.display =\n",
              "        google.colab.kernel.accessAllowed ? 'block' : 'none';\n",
              "\n",
              "      async function convertToInteractive(key) {\n",
              "        const element = document.querySelector('#df-b96770eb-f31c-49f6-ad10-e72e891d3643');\n",
              "        const dataTable =\n",
              "          await google.colab.kernel.invokeFunction('convertToInteractive',\n",
              "                                                    [key], {});\n",
              "        if (!dataTable) return;\n",
              "\n",
              "        const docLinkHtml = 'Like what you see? Visit the ' +\n",
              "          '<a target=\"_blank\" href=https://colab.research.google.com/notebooks/data_table.ipynb>data table notebook</a>'\n",
              "          + ' to learn more about interactive tables.';\n",
              "        element.innerHTML = '';\n",
              "        dataTable['output_type'] = 'display_data';\n",
              "        await google.colab.output.renderOutput(dataTable, element);\n",
              "        const docLink = document.createElement('div');\n",
              "        docLink.innerHTML = docLinkHtml;\n",
              "        element.appendChild(docLink);\n",
              "      }\n",
              "    </script>\n",
              "  </div>\n",
              "\n",
              "\n",
              "<div id=\"df-ca29723e-c92d-4fc4-a6d0-e71a77343da5\">\n",
              "  <button class=\"colab-df-quickchart\" onclick=\"quickchart('df-ca29723e-c92d-4fc4-a6d0-e71a77343da5')\"\n",
              "            title=\"Suggest charts\"\n",
              "            style=\"display:none;\">\n",
              "\n",
              "<svg xmlns=\"http://www.w3.org/2000/svg\" height=\"24px\"viewBox=\"0 0 24 24\"\n",
              "     width=\"24px\">\n",
              "    <g>\n",
              "        <path d=\"M19 3H5c-1.1 0-2 .9-2 2v14c0 1.1.9 2 2 2h14c1.1 0 2-.9 2-2V5c0-1.1-.9-2-2-2zM9 17H7v-7h2v7zm4 0h-2V7h2v10zm4 0h-2v-4h2v4z\"/>\n",
              "    </g>\n",
              "</svg>\n",
              "  </button>\n",
              "\n",
              "<style>\n",
              "  .colab-df-quickchart {\n",
              "      --bg-color: #E8F0FE;\n",
              "      --fill-color: #1967D2;\n",
              "      --hover-bg-color: #E2EBFA;\n",
              "      --hover-fill-color: #174EA6;\n",
              "      --disabled-fill-color: #AAA;\n",
              "      --disabled-bg-color: #DDD;\n",
              "  }\n",
              "\n",
              "  [theme=dark] .colab-df-quickchart {\n",
              "      --bg-color: #3B4455;\n",
              "      --fill-color: #D2E3FC;\n",
              "      --hover-bg-color: #434B5C;\n",
              "      --hover-fill-color: #FFFFFF;\n",
              "      --disabled-bg-color: #3B4455;\n",
              "      --disabled-fill-color: #666;\n",
              "  }\n",
              "\n",
              "  .colab-df-quickchart {\n",
              "    background-color: var(--bg-color);\n",
              "    border: none;\n",
              "    border-radius: 50%;\n",
              "    cursor: pointer;\n",
              "    display: none;\n",
              "    fill: var(--fill-color);\n",
              "    height: 32px;\n",
              "    padding: 0;\n",
              "    width: 32px;\n",
              "  }\n",
              "\n",
              "  .colab-df-quickchart:hover {\n",
              "    background-color: var(--hover-bg-color);\n",
              "    box-shadow: 0 1px 2px rgba(60, 64, 67, 0.3), 0 1px 3px 1px rgba(60, 64, 67, 0.15);\n",
              "    fill: var(--button-hover-fill-color);\n",
              "  }\n",
              "\n",
              "  .colab-df-quickchart-complete:disabled,\n",
              "  .colab-df-quickchart-complete:disabled:hover {\n",
              "    background-color: var(--disabled-bg-color);\n",
              "    fill: var(--disabled-fill-color);\n",
              "    box-shadow: none;\n",
              "  }\n",
              "\n",
              "  .colab-df-spinner {\n",
              "    border: 2px solid var(--fill-color);\n",
              "    border-color: transparent;\n",
              "    border-bottom-color: var(--fill-color);\n",
              "    animation:\n",
              "      spin 1s steps(1) infinite;\n",
              "  }\n",
              "\n",
              "  @keyframes spin {\n",
              "    0% {\n",
              "      border-color: transparent;\n",
              "      border-bottom-color: var(--fill-color);\n",
              "      border-left-color: var(--fill-color);\n",
              "    }\n",
              "    20% {\n",
              "      border-color: transparent;\n",
              "      border-left-color: var(--fill-color);\n",
              "      border-top-color: var(--fill-color);\n",
              "    }\n",
              "    30% {\n",
              "      border-color: transparent;\n",
              "      border-left-color: var(--fill-color);\n",
              "      border-top-color: var(--fill-color);\n",
              "      border-right-color: var(--fill-color);\n",
              "    }\n",
              "    40% {\n",
              "      border-color: transparent;\n",
              "      border-right-color: var(--fill-color);\n",
              "      border-top-color: var(--fill-color);\n",
              "    }\n",
              "    60% {\n",
              "      border-color: transparent;\n",
              "      border-right-color: var(--fill-color);\n",
              "    }\n",
              "    80% {\n",
              "      border-color: transparent;\n",
              "      border-right-color: var(--fill-color);\n",
              "      border-bottom-color: var(--fill-color);\n",
              "    }\n",
              "    90% {\n",
              "      border-color: transparent;\n",
              "      border-bottom-color: var(--fill-color);\n",
              "    }\n",
              "  }\n",
              "</style>\n",
              "\n",
              "  <script>\n",
              "    async function quickchart(key) {\n",
              "      const quickchartButtonEl =\n",
              "        document.querySelector('#' + key + ' button');\n",
              "      quickchartButtonEl.disabled = true;  // To prevent multiple clicks.\n",
              "      quickchartButtonEl.classList.add('colab-df-spinner');\n",
              "      try {\n",
              "        const charts = await google.colab.kernel.invokeFunction(\n",
              "            'suggestCharts', [key], {});\n",
              "      } catch (error) {\n",
              "        console.error('Error during call to suggestCharts:', error);\n",
              "      }\n",
              "      quickchartButtonEl.classList.remove('colab-df-spinner');\n",
              "      quickchartButtonEl.classList.add('colab-df-quickchart-complete');\n",
              "    }\n",
              "    (() => {\n",
              "      let quickchartButtonEl =\n",
              "        document.querySelector('#df-ca29723e-c92d-4fc4-a6d0-e71a77343da5 button');\n",
              "      quickchartButtonEl.style.display =\n",
              "        google.colab.kernel.accessAllowed ? 'block' : 'none';\n",
              "    })();\n",
              "  </script>\n",
              "</div>\n",
              "\n",
              "    </div>\n",
              "  </div>\n"
            ],
            "application/vnd.google.colaboratory.intrinsic+json": {
              "type": "dataframe",
              "variable_name": "femaleData"
            }
          },
          "metadata": {},
          "execution_count": 6
        }
      ]
    },
    {
      "cell_type": "code",
      "source": [
        "df = pd.concat([maleData, femaleData])"
      ],
      "metadata": {
        "id": "Jq6svHK8YL7a"
      },
      "execution_count": null,
      "outputs": []
    },
    {
      "cell_type": "code",
      "source": [
        "X =  df.iloc[:,:-1]\n",
        "y = df.iloc[:,-1]"
      ],
      "metadata": {
        "id": "TP6hXlDQXv7x"
      },
      "execution_count": null,
      "outputs": []
    },
    {
      "cell_type": "code",
      "source": [
        "X = X.values\n",
        "y = y.values"
      ],
      "metadata": {
        "id": "JwxG6oTjayik"
      },
      "execution_count": null,
      "outputs": []
    },
    {
      "cell_type": "code",
      "source": [
        "X = X / 255.0"
      ],
      "metadata": {
        "id": "172tnkViYS4V"
      },
      "execution_count": null,
      "outputs": []
    },
    {
      "cell_type": "code",
      "source": [
        "X"
      ],
      "metadata": {
        "colab": {
          "base_uri": "https://localhost:8080/"
        },
        "id": "rriwTgV0YU6G",
        "outputId": "e29bd703-7bba-49cd-cf90-82366d8557c3"
      },
      "execution_count": null,
      "outputs": [
        {
          "output_type": "execute_result",
          "data": {
            "text/plain": [
              "array([[0.        , 0.00784314, 0.        , ..., 0.01568627, 0.00392157,\n",
              "        0.00392157],\n",
              "       [0.        , 0.        , 0.        , ..., 0.00392157, 0.        ,\n",
              "        0.        ],\n",
              "       [0.00392157, 0.        , 0.        , ..., 0.00392157, 0.00392157,\n",
              "        0.00784314],\n",
              "       ...,\n",
              "       [0.        , 0.        , 0.        , ..., 0.        , 0.        ,\n",
              "        0.        ],\n",
              "       [0.00392157, 0.00392157, 0.00392157, ..., 0.        , 0.        ,\n",
              "        0.        ],\n",
              "       [0.00392157, 0.00784314, 0.        , ..., 0.        , 0.00392157,\n",
              "        0.        ]])"
            ]
          },
          "metadata": {},
          "execution_count": 11
        }
      ]
    },
    {
      "cell_type": "code",
      "source": [
        "from sklearn.model_selection import train_test_split\n",
        "X_train, X_test, y_train, y_test = train_test_split(X, y, test_size=0.3, random_state= 42, stratify=y)\n",
        "print(X_train.shape, y_train.shape, X_test.shape, y_test.shape)"
      ],
      "metadata": {
        "colab": {
          "base_uri": "https://localhost:8080/"
        },
        "id": "GWBtB9OgYifl",
        "outputId": "b06297e6-8f0f-4ede-d13e-3fe6d6bae446"
      },
      "execution_count": null,
      "outputs": [
        {
          "output_type": "stream",
          "name": "stdout",
          "text": [
            "(21581, 784) (21581,) (9249, 784) (9249,)\n"
          ]
        }
      ]
    },
    {
      "cell_type": "code",
      "source": [
        "from sklearn.preprocessing import StandardScaler\n",
        "sc = StandardScaler()\n",
        "X_train_std = sc.fit_transform(X_train)\n",
        "X_test_std= sc.transform(X_test)"
      ],
      "metadata": {
        "id": "tY07cWzkF6in"
      },
      "execution_count": null,
      "outputs": []
    },
    {
      "cell_type": "code",
      "source": [
        "from sklearn.metrics import confusion_matrix\n",
        "from sklearn.model_selection import GridSearchCV"
      ],
      "metadata": {
        "id": "cb9YogxSwcv9"
      },
      "execution_count": null,
      "outputs": []
    },
    {
      "cell_type": "markdown",
      "source": [
        "# 1. Logistic Regrassion"
      ],
      "metadata": {
        "id": "Mnt-XvBrc3uh"
      }
    },
    {
      "cell_type": "code",
      "source": [
        "from sklearn.linear_model import LogisticRegression"
      ],
      "metadata": {
        "id": "c0U-jSiZb4aS"
      },
      "execution_count": null,
      "outputs": []
    },
    {
      "cell_type": "code",
      "source": [
        "model_lr = LogisticRegression(max_iter=1000).fit(X_train_std, y_train)\n",
        "model_lr.score(X_train_std, y_train)"
      ],
      "metadata": {
        "colab": {
          "base_uri": "https://localhost:8080/"
        },
        "id": "gV2DomiDdCBd",
        "outputId": "df117e10-6c5c-47ad-81f5-ee6bc3ee0be9"
      },
      "execution_count": null,
      "outputs": [
        {
          "output_type": "execute_result",
          "data": {
            "text/plain": [
              "0.9150178397664612"
            ]
          },
          "metadata": {},
          "execution_count": 24
        }
      ]
    },
    {
      "cell_type": "code",
      "source": [
        "model_lr.score(X_test_std, y_test)"
      ],
      "metadata": {
        "colab": {
          "base_uri": "https://localhost:8080/"
        },
        "id": "NBZ1_Pl1eXpe",
        "outputId": "2a62693f-5747-4223-9549-a9c2f4309cae"
      },
      "execution_count": null,
      "outputs": [
        {
          "output_type": "execute_result",
          "data": {
            "text/plain": [
              "0.8089523191696399"
            ]
          },
          "metadata": {},
          "execution_count": 25
        }
      ]
    },
    {
      "cell_type": "markdown",
      "source": [
        "## Hyperparameter Tuning on Logistic Regression"
      ],
      "metadata": {
        "id": "uXwjUqVLw9V9"
      }
    },
    {
      "cell_type": "code",
      "source": [
        "param_grid = [\n",
        "    {\n",
        "    'solver': ['lbfgs', 'liblinear', 'sag']\n",
        "    }\n",
        "]\n",
        "\n",
        "grid_search_lr = GridSearchCV(LogisticRegression(random_state=42), param_grid, cv=5, scoring=\"accuracy\", return_train_score=True)\n",
        "grid_search_lr.fit(X_train_std, y_train)"
      ],
      "metadata": {
        "colab": {
          "base_uri": "https://localhost:8080/",
          "height": 1000
        },
        "id": "2OJe3IQBxDKf",
        "outputId": "6c0c209a-9c4c-46ce-b286-d53f48446b3b"
      },
      "execution_count": null,
      "outputs": [
        {
          "output_type": "stream",
          "name": "stderr",
          "text": [
            "/usr/local/lib/python3.10/dist-packages/sklearn/linear_model/_logistic.py:458: ConvergenceWarning: lbfgs failed to converge (status=1):\n",
            "STOP: TOTAL NO. of ITERATIONS REACHED LIMIT.\n",
            "\n",
            "Increase the number of iterations (max_iter) or scale the data as shown in:\n",
            "    https://scikit-learn.org/stable/modules/preprocessing.html\n",
            "Please also refer to the documentation for alternative solver options:\n",
            "    https://scikit-learn.org/stable/modules/linear_model.html#logistic-regression\n",
            "  n_iter_i = _check_optimize_result(\n",
            "/usr/local/lib/python3.10/dist-packages/sklearn/linear_model/_logistic.py:458: ConvergenceWarning: lbfgs failed to converge (status=1):\n",
            "STOP: TOTAL NO. of ITERATIONS REACHED LIMIT.\n",
            "\n",
            "Increase the number of iterations (max_iter) or scale the data as shown in:\n",
            "    https://scikit-learn.org/stable/modules/preprocessing.html\n",
            "Please also refer to the documentation for alternative solver options:\n",
            "    https://scikit-learn.org/stable/modules/linear_model.html#logistic-regression\n",
            "  n_iter_i = _check_optimize_result(\n",
            "/usr/local/lib/python3.10/dist-packages/sklearn/linear_model/_logistic.py:458: ConvergenceWarning: lbfgs failed to converge (status=1):\n",
            "STOP: TOTAL NO. of ITERATIONS REACHED LIMIT.\n",
            "\n",
            "Increase the number of iterations (max_iter) or scale the data as shown in:\n",
            "    https://scikit-learn.org/stable/modules/preprocessing.html\n",
            "Please also refer to the documentation for alternative solver options:\n",
            "    https://scikit-learn.org/stable/modules/linear_model.html#logistic-regression\n",
            "  n_iter_i = _check_optimize_result(\n",
            "/usr/local/lib/python3.10/dist-packages/sklearn/linear_model/_logistic.py:458: ConvergenceWarning: lbfgs failed to converge (status=1):\n",
            "STOP: TOTAL NO. of ITERATIONS REACHED LIMIT.\n",
            "\n",
            "Increase the number of iterations (max_iter) or scale the data as shown in:\n",
            "    https://scikit-learn.org/stable/modules/preprocessing.html\n",
            "Please also refer to the documentation for alternative solver options:\n",
            "    https://scikit-learn.org/stable/modules/linear_model.html#logistic-regression\n",
            "  n_iter_i = _check_optimize_result(\n",
            "/usr/local/lib/python3.10/dist-packages/sklearn/linear_model/_logistic.py:458: ConvergenceWarning: lbfgs failed to converge (status=1):\n",
            "STOP: TOTAL NO. of ITERATIONS REACHED LIMIT.\n",
            "\n",
            "Increase the number of iterations (max_iter) or scale the data as shown in:\n",
            "    https://scikit-learn.org/stable/modules/preprocessing.html\n",
            "Please also refer to the documentation for alternative solver options:\n",
            "    https://scikit-learn.org/stable/modules/linear_model.html#logistic-regression\n",
            "  n_iter_i = _check_optimize_result(\n",
            "/usr/local/lib/python3.10/dist-packages/sklearn/linear_model/_sag.py:350: ConvergenceWarning: The max_iter was reached which means the coef_ did not converge\n",
            "  warnings.warn(\n",
            "/usr/local/lib/python3.10/dist-packages/sklearn/linear_model/_sag.py:350: ConvergenceWarning: The max_iter was reached which means the coef_ did not converge\n",
            "  warnings.warn(\n",
            "/usr/local/lib/python3.10/dist-packages/sklearn/linear_model/_sag.py:350: ConvergenceWarning: The max_iter was reached which means the coef_ did not converge\n",
            "  warnings.warn(\n",
            "/usr/local/lib/python3.10/dist-packages/sklearn/linear_model/_sag.py:350: ConvergenceWarning: The max_iter was reached which means the coef_ did not converge\n",
            "  warnings.warn(\n",
            "/usr/local/lib/python3.10/dist-packages/sklearn/linear_model/_sag.py:350: ConvergenceWarning: The max_iter was reached which means the coef_ did not converge\n",
            "  warnings.warn(\n",
            "/usr/local/lib/python3.10/dist-packages/sklearn/linear_model/_sag.py:350: ConvergenceWarning: The max_iter was reached which means the coef_ did not converge\n",
            "  warnings.warn(\n"
          ]
        },
        {
          "output_type": "execute_result",
          "data": {
            "text/plain": [
              "GridSearchCV(cv=5, estimator=LogisticRegression(random_state=42),\n",
              "             param_grid=[{'solver': ['lbfgs', 'liblinear', 'sag']}],\n",
              "             return_train_score=True, scoring='accuracy')"
            ],
            "text/html": [
              "<style>#sk-container-id-1 {color: black;background-color: white;}#sk-container-id-1 pre{padding: 0;}#sk-container-id-1 div.sk-toggleable {background-color: white;}#sk-container-id-1 label.sk-toggleable__label {cursor: pointer;display: block;width: 100%;margin-bottom: 0;padding: 0.3em;box-sizing: border-box;text-align: center;}#sk-container-id-1 label.sk-toggleable__label-arrow:before {content: \"▸\";float: left;margin-right: 0.25em;color: #696969;}#sk-container-id-1 label.sk-toggleable__label-arrow:hover:before {color: black;}#sk-container-id-1 div.sk-estimator:hover label.sk-toggleable__label-arrow:before {color: black;}#sk-container-id-1 div.sk-toggleable__content {max-height: 0;max-width: 0;overflow: hidden;text-align: left;background-color: #f0f8ff;}#sk-container-id-1 div.sk-toggleable__content pre {margin: 0.2em;color: black;border-radius: 0.25em;background-color: #f0f8ff;}#sk-container-id-1 input.sk-toggleable__control:checked~div.sk-toggleable__content {max-height: 200px;max-width: 100%;overflow: auto;}#sk-container-id-1 input.sk-toggleable__control:checked~label.sk-toggleable__label-arrow:before {content: \"▾\";}#sk-container-id-1 div.sk-estimator input.sk-toggleable__control:checked~label.sk-toggleable__label {background-color: #d4ebff;}#sk-container-id-1 div.sk-label input.sk-toggleable__control:checked~label.sk-toggleable__label {background-color: #d4ebff;}#sk-container-id-1 input.sk-hidden--visually {border: 0;clip: rect(1px 1px 1px 1px);clip: rect(1px, 1px, 1px, 1px);height: 1px;margin: -1px;overflow: hidden;padding: 0;position: absolute;width: 1px;}#sk-container-id-1 div.sk-estimator {font-family: monospace;background-color: #f0f8ff;border: 1px dotted black;border-radius: 0.25em;box-sizing: border-box;margin-bottom: 0.5em;}#sk-container-id-1 div.sk-estimator:hover {background-color: #d4ebff;}#sk-container-id-1 div.sk-parallel-item::after {content: \"\";width: 100%;border-bottom: 1px solid gray;flex-grow: 1;}#sk-container-id-1 div.sk-label:hover label.sk-toggleable__label {background-color: #d4ebff;}#sk-container-id-1 div.sk-serial::before {content: \"\";position: absolute;border-left: 1px solid gray;box-sizing: border-box;top: 0;bottom: 0;left: 50%;z-index: 0;}#sk-container-id-1 div.sk-serial {display: flex;flex-direction: column;align-items: center;background-color: white;padding-right: 0.2em;padding-left: 0.2em;position: relative;}#sk-container-id-1 div.sk-item {position: relative;z-index: 1;}#sk-container-id-1 div.sk-parallel {display: flex;align-items: stretch;justify-content: center;background-color: white;position: relative;}#sk-container-id-1 div.sk-item::before, #sk-container-id-1 div.sk-parallel-item::before {content: \"\";position: absolute;border-left: 1px solid gray;box-sizing: border-box;top: 0;bottom: 0;left: 50%;z-index: -1;}#sk-container-id-1 div.sk-parallel-item {display: flex;flex-direction: column;z-index: 1;position: relative;background-color: white;}#sk-container-id-1 div.sk-parallel-item:first-child::after {align-self: flex-end;width: 50%;}#sk-container-id-1 div.sk-parallel-item:last-child::after {align-self: flex-start;width: 50%;}#sk-container-id-1 div.sk-parallel-item:only-child::after {width: 0;}#sk-container-id-1 div.sk-dashed-wrapped {border: 1px dashed gray;margin: 0 0.4em 0.5em 0.4em;box-sizing: border-box;padding-bottom: 0.4em;background-color: white;}#sk-container-id-1 div.sk-label label {font-family: monospace;font-weight: bold;display: inline-block;line-height: 1.2em;}#sk-container-id-1 div.sk-label-container {text-align: center;}#sk-container-id-1 div.sk-container {/* jupyter's `normalize.less` sets `[hidden] { display: none; }` but bootstrap.min.css set `[hidden] { display: none !important; }` so we also need the `!important` here to be able to override the default hidden behavior on the sphinx rendered scikit-learn.org. See: https://github.com/scikit-learn/scikit-learn/issues/21755 */display: inline-block !important;position: relative;}#sk-container-id-1 div.sk-text-repr-fallback {display: none;}</style><div id=\"sk-container-id-1\" class=\"sk-top-container\"><div class=\"sk-text-repr-fallback\"><pre>GridSearchCV(cv=5, estimator=LogisticRegression(random_state=42),\n",
              "             param_grid=[{&#x27;solver&#x27;: [&#x27;lbfgs&#x27;, &#x27;liblinear&#x27;, &#x27;sag&#x27;]}],\n",
              "             return_train_score=True, scoring=&#x27;accuracy&#x27;)</pre><b>In a Jupyter environment, please rerun this cell to show the HTML representation or trust the notebook. <br />On GitHub, the HTML representation is unable to render, please try loading this page with nbviewer.org.</b></div><div class=\"sk-container\" hidden><div class=\"sk-item sk-dashed-wrapped\"><div class=\"sk-label-container\"><div class=\"sk-label sk-toggleable\"><input class=\"sk-toggleable__control sk-hidden--visually\" id=\"sk-estimator-id-1\" type=\"checkbox\" ><label for=\"sk-estimator-id-1\" class=\"sk-toggleable__label sk-toggleable__label-arrow\">GridSearchCV</label><div class=\"sk-toggleable__content\"><pre>GridSearchCV(cv=5, estimator=LogisticRegression(random_state=42),\n",
              "             param_grid=[{&#x27;solver&#x27;: [&#x27;lbfgs&#x27;, &#x27;liblinear&#x27;, &#x27;sag&#x27;]}],\n",
              "             return_train_score=True, scoring=&#x27;accuracy&#x27;)</pre></div></div></div><div class=\"sk-parallel\"><div class=\"sk-parallel-item\"><div class=\"sk-item\"><div class=\"sk-label-container\"><div class=\"sk-label sk-toggleable\"><input class=\"sk-toggleable__control sk-hidden--visually\" id=\"sk-estimator-id-2\" type=\"checkbox\" ><label for=\"sk-estimator-id-2\" class=\"sk-toggleable__label sk-toggleable__label-arrow\">estimator: LogisticRegression</label><div class=\"sk-toggleable__content\"><pre>LogisticRegression(random_state=42)</pre></div></div></div><div class=\"sk-serial\"><div class=\"sk-item\"><div class=\"sk-estimator sk-toggleable\"><input class=\"sk-toggleable__control sk-hidden--visually\" id=\"sk-estimator-id-3\" type=\"checkbox\" ><label for=\"sk-estimator-id-3\" class=\"sk-toggleable__label sk-toggleable__label-arrow\">LogisticRegression</label><div class=\"sk-toggleable__content\"><pre>LogisticRegression(random_state=42)</pre></div></div></div></div></div></div></div></div></div></div>"
            ]
          },
          "metadata": {},
          "execution_count": 26
        }
      ]
    },
    {
      "cell_type": "code",
      "source": [
        "grid_search_lr.best_estimator_, grid_search_lr.best_score_"
      ],
      "metadata": {
        "colab": {
          "base_uri": "https://localhost:8080/"
        },
        "id": "5H0FOZOv8Lq9",
        "outputId": "7cdd6f41-bb49-4002-ab71-2591c29384ce"
      },
      "execution_count": null,
      "outputs": [
        {
          "output_type": "execute_result",
          "data": {
            "text/plain": [
              "(LogisticRegression(random_state=42, solver='sag'), 0.824706577418886)"
            ]
          },
          "metadata": {},
          "execution_count": 27
        }
      ]
    },
    {
      "cell_type": "code",
      "source": [
        "pd.DataFrame(grid_search_lr.cv_results_)"
      ],
      "metadata": {
        "colab": {
          "base_uri": "https://localhost:8080/",
          "height": 245
        },
        "id": "nTuDBkCa8Lgl",
        "outputId": "a85efbfd-1c25-438d-995e-dd462f815f70"
      },
      "execution_count": null,
      "outputs": [
        {
          "output_type": "execute_result",
          "data": {
            "text/plain": [
              "   mean_fit_time  std_fit_time  mean_score_time  std_score_time param_solver  \\\n",
              "0      12.424104      0.646956         0.022447        0.007198        lbfgs   \n",
              "1     369.436814     13.745821         0.023377        0.005078    liblinear   \n",
              "2      81.053160      0.535391         0.023450        0.005060          sag   \n",
              "\n",
              "                    params  split0_test_score  split1_test_score  \\\n",
              "0      {'solver': 'lbfgs'}           0.815381           0.816960   \n",
              "1  {'solver': 'liblinear'}           0.825573           0.825765   \n",
              "2        {'solver': 'sag'}           0.832059           0.831789   \n",
              "\n",
              "   split2_test_score  split3_test_score  ...  mean_test_score  std_test_score  \\\n",
              "0           0.797498           0.802595  ...         0.806820        0.007841   \n",
              "1           0.811631           0.808619  ...         0.817663        0.007032   \n",
              "2           0.819277           0.818350  ...         0.824707        0.006019   \n",
              "\n",
              "   rank_test_score  split0_train_score  split1_train_score  \\\n",
              "0                3            0.920007            0.918564   \n",
              "1                2            0.902977            0.902288   \n",
              "2                1            0.905700            0.907617   \n",
              "\n",
              "   split2_train_score  split3_train_score  split4_train_score  \\\n",
              "0            0.922270            0.918737            0.921691   \n",
              "1            0.905474            0.904605            0.903388   \n",
              "2            0.909991            0.909065            0.908427   \n",
              "\n",
              "   mean_train_score  std_train_score  \n",
              "0          0.920254         0.001507  \n",
              "1          0.903746         0.001146  \n",
              "2          0.908160         0.001455  \n",
              "\n",
              "[3 rows x 21 columns]"
            ],
            "text/html": [
              "\n",
              "  <div id=\"df-a2ae55c8-c431-40e1-bc3c-95a6e7f220a8\" class=\"colab-df-container\">\n",
              "    <div>\n",
              "<style scoped>\n",
              "    .dataframe tbody tr th:only-of-type {\n",
              "        vertical-align: middle;\n",
              "    }\n",
              "\n",
              "    .dataframe tbody tr th {\n",
              "        vertical-align: top;\n",
              "    }\n",
              "\n",
              "    .dataframe thead th {\n",
              "        text-align: right;\n",
              "    }\n",
              "</style>\n",
              "<table border=\"1\" class=\"dataframe\">\n",
              "  <thead>\n",
              "    <tr style=\"text-align: right;\">\n",
              "      <th></th>\n",
              "      <th>mean_fit_time</th>\n",
              "      <th>std_fit_time</th>\n",
              "      <th>mean_score_time</th>\n",
              "      <th>std_score_time</th>\n",
              "      <th>param_solver</th>\n",
              "      <th>params</th>\n",
              "      <th>split0_test_score</th>\n",
              "      <th>split1_test_score</th>\n",
              "      <th>split2_test_score</th>\n",
              "      <th>split3_test_score</th>\n",
              "      <th>...</th>\n",
              "      <th>mean_test_score</th>\n",
              "      <th>std_test_score</th>\n",
              "      <th>rank_test_score</th>\n",
              "      <th>split0_train_score</th>\n",
              "      <th>split1_train_score</th>\n",
              "      <th>split2_train_score</th>\n",
              "      <th>split3_train_score</th>\n",
              "      <th>split4_train_score</th>\n",
              "      <th>mean_train_score</th>\n",
              "      <th>std_train_score</th>\n",
              "    </tr>\n",
              "  </thead>\n",
              "  <tbody>\n",
              "    <tr>\n",
              "      <th>0</th>\n",
              "      <td>12.424104</td>\n",
              "      <td>0.646956</td>\n",
              "      <td>0.022447</td>\n",
              "      <td>0.007198</td>\n",
              "      <td>lbfgs</td>\n",
              "      <td>{'solver': 'lbfgs'}</td>\n",
              "      <td>0.815381</td>\n",
              "      <td>0.816960</td>\n",
              "      <td>0.797498</td>\n",
              "      <td>0.802595</td>\n",
              "      <td>...</td>\n",
              "      <td>0.806820</td>\n",
              "      <td>0.007841</td>\n",
              "      <td>3</td>\n",
              "      <td>0.920007</td>\n",
              "      <td>0.918564</td>\n",
              "      <td>0.922270</td>\n",
              "      <td>0.918737</td>\n",
              "      <td>0.921691</td>\n",
              "      <td>0.920254</td>\n",
              "      <td>0.001507</td>\n",
              "    </tr>\n",
              "    <tr>\n",
              "      <th>1</th>\n",
              "      <td>369.436814</td>\n",
              "      <td>13.745821</td>\n",
              "      <td>0.023377</td>\n",
              "      <td>0.005078</td>\n",
              "      <td>liblinear</td>\n",
              "      <td>{'solver': 'liblinear'}</td>\n",
              "      <td>0.825573</td>\n",
              "      <td>0.825765</td>\n",
              "      <td>0.811631</td>\n",
              "      <td>0.808619</td>\n",
              "      <td>...</td>\n",
              "      <td>0.817663</td>\n",
              "      <td>0.007032</td>\n",
              "      <td>2</td>\n",
              "      <td>0.902977</td>\n",
              "      <td>0.902288</td>\n",
              "      <td>0.905474</td>\n",
              "      <td>0.904605</td>\n",
              "      <td>0.903388</td>\n",
              "      <td>0.903746</td>\n",
              "      <td>0.001146</td>\n",
              "    </tr>\n",
              "    <tr>\n",
              "      <th>2</th>\n",
              "      <td>81.053160</td>\n",
              "      <td>0.535391</td>\n",
              "      <td>0.023450</td>\n",
              "      <td>0.005060</td>\n",
              "      <td>sag</td>\n",
              "      <td>{'solver': 'sag'}</td>\n",
              "      <td>0.832059</td>\n",
              "      <td>0.831789</td>\n",
              "      <td>0.819277</td>\n",
              "      <td>0.818350</td>\n",
              "      <td>...</td>\n",
              "      <td>0.824707</td>\n",
              "      <td>0.006019</td>\n",
              "      <td>1</td>\n",
              "      <td>0.905700</td>\n",
              "      <td>0.907617</td>\n",
              "      <td>0.909991</td>\n",
              "      <td>0.909065</td>\n",
              "      <td>0.908427</td>\n",
              "      <td>0.908160</td>\n",
              "      <td>0.001455</td>\n",
              "    </tr>\n",
              "  </tbody>\n",
              "</table>\n",
              "<p>3 rows × 21 columns</p>\n",
              "</div>\n",
              "    <div class=\"colab-df-buttons\">\n",
              "\n",
              "  <div class=\"colab-df-container\">\n",
              "    <button class=\"colab-df-convert\" onclick=\"convertToInteractive('df-a2ae55c8-c431-40e1-bc3c-95a6e7f220a8')\"\n",
              "            title=\"Convert this dataframe to an interactive table.\"\n",
              "            style=\"display:none;\">\n",
              "\n",
              "  <svg xmlns=\"http://www.w3.org/2000/svg\" height=\"24px\" viewBox=\"0 -960 960 960\">\n",
              "    <path d=\"M120-120v-720h720v720H120Zm60-500h600v-160H180v160Zm220 220h160v-160H400v160Zm0 220h160v-160H400v160ZM180-400h160v-160H180v160Zm440 0h160v-160H620v160ZM180-180h160v-160H180v160Zm440 0h160v-160H620v160Z\"/>\n",
              "  </svg>\n",
              "    </button>\n",
              "\n",
              "  <style>\n",
              "    .colab-df-container {\n",
              "      display:flex;\n",
              "      gap: 12px;\n",
              "    }\n",
              "\n",
              "    .colab-df-convert {\n",
              "      background-color: #E8F0FE;\n",
              "      border: none;\n",
              "      border-radius: 50%;\n",
              "      cursor: pointer;\n",
              "      display: none;\n",
              "      fill: #1967D2;\n",
              "      height: 32px;\n",
              "      padding: 0 0 0 0;\n",
              "      width: 32px;\n",
              "    }\n",
              "\n",
              "    .colab-df-convert:hover {\n",
              "      background-color: #E2EBFA;\n",
              "      box-shadow: 0px 1px 2px rgba(60, 64, 67, 0.3), 0px 1px 3px 1px rgba(60, 64, 67, 0.15);\n",
              "      fill: #174EA6;\n",
              "    }\n",
              "\n",
              "    .colab-df-buttons div {\n",
              "      margin-bottom: 4px;\n",
              "    }\n",
              "\n",
              "    [theme=dark] .colab-df-convert {\n",
              "      background-color: #3B4455;\n",
              "      fill: #D2E3FC;\n",
              "    }\n",
              "\n",
              "    [theme=dark] .colab-df-convert:hover {\n",
              "      background-color: #434B5C;\n",
              "      box-shadow: 0px 1px 3px 1px rgba(0, 0, 0, 0.15);\n",
              "      filter: drop-shadow(0px 1px 2px rgba(0, 0, 0, 0.3));\n",
              "      fill: #FFFFFF;\n",
              "    }\n",
              "  </style>\n",
              "\n",
              "    <script>\n",
              "      const buttonEl =\n",
              "        document.querySelector('#df-a2ae55c8-c431-40e1-bc3c-95a6e7f220a8 button.colab-df-convert');\n",
              "      buttonEl.style.display =\n",
              "        google.colab.kernel.accessAllowed ? 'block' : 'none';\n",
              "\n",
              "      async function convertToInteractive(key) {\n",
              "        const element = document.querySelector('#df-a2ae55c8-c431-40e1-bc3c-95a6e7f220a8');\n",
              "        const dataTable =\n",
              "          await google.colab.kernel.invokeFunction('convertToInteractive',\n",
              "                                                    [key], {});\n",
              "        if (!dataTable) return;\n",
              "\n",
              "        const docLinkHtml = 'Like what you see? Visit the ' +\n",
              "          '<a target=\"_blank\" href=https://colab.research.google.com/notebooks/data_table.ipynb>data table notebook</a>'\n",
              "          + ' to learn more about interactive tables.';\n",
              "        element.innerHTML = '';\n",
              "        dataTable['output_type'] = 'display_data';\n",
              "        await google.colab.output.renderOutput(dataTable, element);\n",
              "        const docLink = document.createElement('div');\n",
              "        docLink.innerHTML = docLinkHtml;\n",
              "        element.appendChild(docLink);\n",
              "      }\n",
              "    </script>\n",
              "  </div>\n",
              "\n",
              "\n",
              "<div id=\"df-9c945d06-dbb7-4892-b49b-492abd1abcbc\">\n",
              "  <button class=\"colab-df-quickchart\" onclick=\"quickchart('df-9c945d06-dbb7-4892-b49b-492abd1abcbc')\"\n",
              "            title=\"Suggest charts\"\n",
              "            style=\"display:none;\">\n",
              "\n",
              "<svg xmlns=\"http://www.w3.org/2000/svg\" height=\"24px\"viewBox=\"0 0 24 24\"\n",
              "     width=\"24px\">\n",
              "    <g>\n",
              "        <path d=\"M19 3H5c-1.1 0-2 .9-2 2v14c0 1.1.9 2 2 2h14c1.1 0 2-.9 2-2V5c0-1.1-.9-2-2-2zM9 17H7v-7h2v7zm4 0h-2V7h2v10zm4 0h-2v-4h2v4z\"/>\n",
              "    </g>\n",
              "</svg>\n",
              "  </button>\n",
              "\n",
              "<style>\n",
              "  .colab-df-quickchart {\n",
              "      --bg-color: #E8F0FE;\n",
              "      --fill-color: #1967D2;\n",
              "      --hover-bg-color: #E2EBFA;\n",
              "      --hover-fill-color: #174EA6;\n",
              "      --disabled-fill-color: #AAA;\n",
              "      --disabled-bg-color: #DDD;\n",
              "  }\n",
              "\n",
              "  [theme=dark] .colab-df-quickchart {\n",
              "      --bg-color: #3B4455;\n",
              "      --fill-color: #D2E3FC;\n",
              "      --hover-bg-color: #434B5C;\n",
              "      --hover-fill-color: #FFFFFF;\n",
              "      --disabled-bg-color: #3B4455;\n",
              "      --disabled-fill-color: #666;\n",
              "  }\n",
              "\n",
              "  .colab-df-quickchart {\n",
              "    background-color: var(--bg-color);\n",
              "    border: none;\n",
              "    border-radius: 50%;\n",
              "    cursor: pointer;\n",
              "    display: none;\n",
              "    fill: var(--fill-color);\n",
              "    height: 32px;\n",
              "    padding: 0;\n",
              "    width: 32px;\n",
              "  }\n",
              "\n",
              "  .colab-df-quickchart:hover {\n",
              "    background-color: var(--hover-bg-color);\n",
              "    box-shadow: 0 1px 2px rgba(60, 64, 67, 0.3), 0 1px 3px 1px rgba(60, 64, 67, 0.15);\n",
              "    fill: var(--button-hover-fill-color);\n",
              "  }\n",
              "\n",
              "  .colab-df-quickchart-complete:disabled,\n",
              "  .colab-df-quickchart-complete:disabled:hover {\n",
              "    background-color: var(--disabled-bg-color);\n",
              "    fill: var(--disabled-fill-color);\n",
              "    box-shadow: none;\n",
              "  }\n",
              "\n",
              "  .colab-df-spinner {\n",
              "    border: 2px solid var(--fill-color);\n",
              "    border-color: transparent;\n",
              "    border-bottom-color: var(--fill-color);\n",
              "    animation:\n",
              "      spin 1s steps(1) infinite;\n",
              "  }\n",
              "\n",
              "  @keyframes spin {\n",
              "    0% {\n",
              "      border-color: transparent;\n",
              "      border-bottom-color: var(--fill-color);\n",
              "      border-left-color: var(--fill-color);\n",
              "    }\n",
              "    20% {\n",
              "      border-color: transparent;\n",
              "      border-left-color: var(--fill-color);\n",
              "      border-top-color: var(--fill-color);\n",
              "    }\n",
              "    30% {\n",
              "      border-color: transparent;\n",
              "      border-left-color: var(--fill-color);\n",
              "      border-top-color: var(--fill-color);\n",
              "      border-right-color: var(--fill-color);\n",
              "    }\n",
              "    40% {\n",
              "      border-color: transparent;\n",
              "      border-right-color: var(--fill-color);\n",
              "      border-top-color: var(--fill-color);\n",
              "    }\n",
              "    60% {\n",
              "      border-color: transparent;\n",
              "      border-right-color: var(--fill-color);\n",
              "    }\n",
              "    80% {\n",
              "      border-color: transparent;\n",
              "      border-right-color: var(--fill-color);\n",
              "      border-bottom-color: var(--fill-color);\n",
              "    }\n",
              "    90% {\n",
              "      border-color: transparent;\n",
              "      border-bottom-color: var(--fill-color);\n",
              "    }\n",
              "  }\n",
              "</style>\n",
              "\n",
              "  <script>\n",
              "    async function quickchart(key) {\n",
              "      const quickchartButtonEl =\n",
              "        document.querySelector('#' + key + ' button');\n",
              "      quickchartButtonEl.disabled = true;  // To prevent multiple clicks.\n",
              "      quickchartButtonEl.classList.add('colab-df-spinner');\n",
              "      try {\n",
              "        const charts = await google.colab.kernel.invokeFunction(\n",
              "            'suggestCharts', [key], {});\n",
              "      } catch (error) {\n",
              "        console.error('Error during call to suggestCharts:', error);\n",
              "      }\n",
              "      quickchartButtonEl.classList.remove('colab-df-spinner');\n",
              "      quickchartButtonEl.classList.add('colab-df-quickchart-complete');\n",
              "    }\n",
              "    (() => {\n",
              "      let quickchartButtonEl =\n",
              "        document.querySelector('#df-9c945d06-dbb7-4892-b49b-492abd1abcbc button');\n",
              "      quickchartButtonEl.style.display =\n",
              "        google.colab.kernel.accessAllowed ? 'block' : 'none';\n",
              "    })();\n",
              "  </script>\n",
              "</div>\n",
              "\n",
              "    </div>\n",
              "  </div>\n"
            ],
            "application/vnd.google.colaboratory.intrinsic+json": {
              "type": "dataframe"
            }
          },
          "metadata": {},
          "execution_count": 28
        }
      ]
    },
    {
      "cell_type": "markdown",
      "source": [
        "## Evaluating model with best parameters"
      ],
      "metadata": {
        "id": "TFdKxIelSD2d"
      }
    },
    {
      "cell_type": "code",
      "source": [
        "model_lr = LogisticRegression(solver='sag', max_iter=1000).fit(X_train_std, y_train)\n",
        "model_lr.score(X_train_std, y_train)"
      ],
      "metadata": {
        "colab": {
          "base_uri": "https://localhost:8080/"
        },
        "id": "mTma7977SMVx",
        "outputId": "f6b75320-fa2d-4be4-d11f-72d06dd3e3d2"
      },
      "execution_count": null,
      "outputs": [
        {
          "output_type": "stream",
          "name": "stderr",
          "text": [
            "/usr/local/lib/python3.10/dist-packages/sklearn/linear_model/_sag.py:350: ConvergenceWarning: The max_iter was reached which means the coef_ did not converge\n",
            "  warnings.warn(\n"
          ]
        },
        {
          "output_type": "execute_result",
          "data": {
            "text/plain": [
              "0.913349705759696"
            ]
          },
          "metadata": {},
          "execution_count": 31
        }
      ]
    },
    {
      "cell_type": "code",
      "source": [
        "model_lr.score(X_test_std, y_test)"
      ],
      "metadata": {
        "colab": {
          "base_uri": "https://localhost:8080/"
        },
        "id": "tLn7k6nNSPjT",
        "outputId": "6b840dec-2282-4f12-fbcc-ab4d464b64e9"
      },
      "execution_count": null,
      "outputs": [
        {
          "output_type": "execute_result",
          "data": {
            "text/plain": [
              "0.8105741161206617"
            ]
          },
          "metadata": {},
          "execution_count": 32
        }
      ]
    },
    {
      "cell_type": "code",
      "source": [
        "y_pred_lr = model_lr.predict(X_test_std)"
      ],
      "metadata": {
        "id": "VGlPLi-8xxNA"
      },
      "execution_count": null,
      "outputs": []
    },
    {
      "cell_type": "code",
      "source": [
        "con_mx_lr = confusion_matrix(y_test, y_pred_lr)\n",
        "con_mx_lr"
      ],
      "metadata": {
        "colab": {
          "base_uri": "https://localhost:8080/"
        },
        "id": "bVb4FkrwyY-z",
        "outputId": "143b9926-2682-41e4-defe-2276fdaafc96"
      },
      "execution_count": null,
      "outputs": [
        {
          "output_type": "execute_result",
          "data": {
            "text/plain": [
              "array([[789,  20,  10,  27,   9,  29,   5,  14,  11,  11],\n",
              "       [ 17, 740,  20,  12,  15,  14,   9,   6,  23,  69],\n",
              "       [ 10,  14, 772,   2,  29,  18,   9,  35,  12,  22],\n",
              "       [ 33,  16,   9, 712,   5,  26,  80,  10,  15,  21],\n",
              "       [ 11,  11,  26,  11, 776,  27,   9,  14,  27,  14],\n",
              "       [ 16,  19,  21,  17,  23, 713,  59,  19,  18,  19],\n",
              "       [ 14,  13,  12,  71,  11,  49, 701,  15,  17,  22],\n",
              "       [ 14,   3,  22,   8,  22,  19,   6, 796,  12,  24],\n",
              "       [  8,   6,  10,  14,  12,  12,  15,   6, 819,  24],\n",
              "       [ 13,  67,  26,  34,  11,  14,  21,  22,  35, 679]])"
            ]
          },
          "metadata": {},
          "execution_count": 67
        }
      ]
    },
    {
      "cell_type": "code",
      "source": [
        "plt.matshow(con_mx_lr, cmap=plt.cm.gray);"
      ],
      "metadata": {
        "colab": {
          "base_uri": "https://localhost:8080/",
          "height": 437
        },
        "id": "SmZdyfm4yhR4",
        "outputId": "35eb64d2-cf31-4fef-96dd-b30321f3ae3a"
      },
      "execution_count": null,
      "outputs": [
        {
          "output_type": "display_data",
          "data": {
            "text/plain": [
              "<Figure size 480x480 with 1 Axes>"
            ],
            "image/png": "[encoded data removed]"
          },
          "metadata": {}
        }
      ]
    },
    {
      "cell_type": "markdown",
      "source": [
        "# 2. SVM"
      ],
      "metadata": {
        "id": "jqWcTcy1esnA"
      }
    },
    {
      "cell_type": "code",
      "source": [
        "from sklearn.svm import SVC\n",
        "model_svc = SVC().fit(X_train, y_train)\n",
        "model_svc.score(X_train, y_train)"
      ],
      "metadata": {
        "colab": {
          "base_uri": "https://localhost:8080/"
        },
        "id": "x-3jGFBBerIO",
        "outputId": "31129efd-b393-49d3-f7a4-f61cf7ac510b"
      },
      "execution_count": null,
      "outputs": [
        {
          "output_type": "execute_result",
          "data": {
            "text/plain": [
              "0.9494462721838655"
            ]
          },
          "metadata": {},
          "execution_count": 15
        }
      ]
    },
    {
      "cell_type": "code",
      "source": [
        "model_svc.score(X_test, y_test)"
      ],
      "metadata": {
        "colab": {
          "base_uri": "https://localhost:8080/"
        },
        "id": "1E3EnPKNfQfZ",
        "outputId": "0b509345-1249-4d47-cb0a-12fd7b6587a5"
      },
      "execution_count": null,
      "outputs": [
        {
          "output_type": "execute_result",
          "data": {
            "text/plain": [
              "0.9083144123689048"
            ]
          },
          "metadata": {},
          "execution_count": 16
        }
      ]
    },
    {
      "cell_type": "code",
      "source": [
        "model_svc_std = SVC().fit(X_train_std, y_train)\n",
        "model_svc_std.score(X_train_std, y_train)"
      ],
      "metadata": {
        "colab": {
          "base_uri": "https://localhost:8080/"
        },
        "id": "a91Ldro7JK0s",
        "outputId": "9493ccea-0d35-4957-854b-281f9fc2f7c1"
      },
      "execution_count": null,
      "outputs": [
        {
          "output_type": "execute_result",
          "data": {
            "text/plain": [
              "0.9625133219035262"
            ]
          },
          "metadata": {},
          "execution_count": 17
        }
      ]
    },
    {
      "cell_type": "code",
      "source": [
        "model_svc_std.score(X_test_std, y_test)"
      ],
      "metadata": {
        "colab": {
          "base_uri": "https://localhost:8080/"
        },
        "id": "i8o6IE5oJKtN",
        "outputId": "db23eb1b-b9bc-4998-df0b-741bcfe7c986"
      },
      "execution_count": null,
      "outputs": [
        {
          "output_type": "execute_result",
          "data": {
            "text/plain": [
              "0.9115580062709482"
            ]
          },
          "metadata": {},
          "execution_count": 18
        }
      ]
    },
    {
      "cell_type": "markdown",
      "source": [
        "## Hyperparameter Tuning on Suport Vector Classifier"
      ],
      "metadata": {
        "id": "LlZo_W3Nxslk"
      }
    },
    {
      "cell_type": "code",
      "source": [
        "param_grid = [\n",
        "    {\n",
        "    'kernel': ['rbf', 'poly']\n",
        "    }\n",
        "]\n",
        "\n",
        "grid_search_svc = GridSearchCV(SVC(random_state=42), param_grid, cv=3, scoring=\"accuracy\", return_train_score=True)\n",
        "grid_search_svc.fit(X_train_std, y_train)"
      ],
      "metadata": {
        "colab": {
          "base_uri": "https://localhost:8080/",
          "height": 118
        },
        "id": "cIUz7UMpxtty",
        "outputId": "697c8f46-00f7-43e7-9696-d24e1de27682"
      },
      "execution_count": null,
      "outputs": [
        {
          "output_type": "execute_result",
          "data": {
            "text/plain": [
              "GridSearchCV(cv=3, estimator=SVC(random_state=42),\n",
              "             param_grid=[{'kernel': ['rbf', 'poly']}], return_train_score=True,\n",
              "             scoring='accuracy')"
            ],
            "text/html": [
              "<style>#sk-container-id-2 {color: black;background-color: white;}#sk-container-id-2 pre{padding: 0;}#sk-container-id-2 div.sk-toggleable {background-color: white;}#sk-container-id-2 label.sk-toggleable__label {cursor: pointer;display: block;width: 100%;margin-bottom: 0;padding: 0.3em;box-sizing: border-box;text-align: center;}#sk-container-id-2 label.sk-toggleable__label-arrow:before {content: \"▸\";float: left;margin-right: 0.25em;color: #696969;}#sk-container-id-2 label.sk-toggleable__label-arrow:hover:before {color: black;}#sk-container-id-2 div.sk-estimator:hover label.sk-toggleable__label-arrow:before {color: black;}#sk-container-id-2 div.sk-toggleable__content {max-height: 0;max-width: 0;overflow: hidden;text-align: left;background-color: #f0f8ff;}#sk-container-id-2 div.sk-toggleable__content pre {margin: 0.2em;color: black;border-radius: 0.25em;background-color: #f0f8ff;}#sk-container-id-2 input.sk-toggleable__control:checked~div.sk-toggleable__content {max-height: 200px;max-width: 100%;overflow: auto;}#sk-container-id-2 input.sk-toggleable__control:checked~label.sk-toggleable__label-arrow:before {content: \"▾\";}#sk-container-id-2 div.sk-estimator input.sk-toggleable__control:checked~label.sk-toggleable__label {background-color: #d4ebff;}#sk-container-id-2 div.sk-label input.sk-toggleable__control:checked~label.sk-toggleable__label {background-color: #d4ebff;}#sk-container-id-2 input.sk-hidden--visually {border: 0;clip: rect(1px 1px 1px 1px);clip: rect(1px, 1px, 1px, 1px);height: 1px;margin: -1px;overflow: hidden;padding: 0;position: absolute;width: 1px;}#sk-container-id-2 div.sk-estimator {font-family: monospace;background-color: #f0f8ff;border: 1px dotted black;border-radius: 0.25em;box-sizing: border-box;margin-bottom: 0.5em;}#sk-container-id-2 div.sk-estimator:hover {background-color: #d4ebff;}#sk-container-id-2 div.sk-parallel-item::after {content: \"\";width: 100%;border-bottom: 1px solid gray;flex-grow: 1;}#sk-container-id-2 div.sk-label:hover label.sk-toggleable__label {background-color: #d4ebff;}#sk-container-id-2 div.sk-serial::before {content: \"\";position: absolute;border-left: 1px solid gray;box-sizing: border-box;top: 0;bottom: 0;left: 50%;z-index: 0;}#sk-container-id-2 div.sk-serial {display: flex;flex-direction: column;align-items: center;background-color: white;padding-right: 0.2em;padding-left: 0.2em;position: relative;}#sk-container-id-2 div.sk-item {position: relative;z-index: 1;}#sk-container-id-2 div.sk-parallel {display: flex;align-items: stretch;justify-content: center;background-color: white;position: relative;}#sk-container-id-2 div.sk-item::before, #sk-container-id-2 div.sk-parallel-item::before {content: \"\";position: absolute;border-left: 1px solid gray;box-sizing: border-box;top: 0;bottom: 0;left: 50%;z-index: -1;}#sk-container-id-2 div.sk-parallel-item {display: flex;flex-direction: column;z-index: 1;position: relative;background-color: white;}#sk-container-id-2 div.sk-parallel-item:first-child::after {align-self: flex-end;width: 50%;}#sk-container-id-2 div.sk-parallel-item:last-child::after {align-self: flex-start;width: 50%;}#sk-container-id-2 div.sk-parallel-item:only-child::after {width: 0;}#sk-container-id-2 div.sk-dashed-wrapped {border: 1px dashed gray;margin: 0 0.4em 0.5em 0.4em;box-sizing: border-box;padding-bottom: 0.4em;background-color: white;}#sk-container-id-2 div.sk-label label {font-family: monospace;font-weight: bold;display: inline-block;line-height: 1.2em;}#sk-container-id-2 div.sk-label-container {text-align: center;}#sk-container-id-2 div.sk-container {/* jupyter's `normalize.less` sets `[hidden] { display: none; }` but bootstrap.min.css set `[hidden] { display: none !important; }` so we also need the `!important` here to be able to override the default hidden behavior on the sphinx rendered scikit-learn.org. See: https://github.com/scikit-learn/scikit-learn/issues/21755 */display: inline-block !important;position: relative;}#sk-container-id-2 div.sk-text-repr-fallback {display: none;}</style><div id=\"sk-container-id-2\" class=\"sk-top-container\"><div class=\"sk-text-repr-fallback\"><pre>GridSearchCV(cv=3, estimator=SVC(random_state=42),\n",
              "             param_grid=[{&#x27;kernel&#x27;: [&#x27;rbf&#x27;, &#x27;poly&#x27;]}], return_train_score=True,\n",
              "             scoring=&#x27;accuracy&#x27;)</pre><b>In a Jupyter environment, please rerun this cell to show the HTML representation or trust the notebook. <br />On GitHub, the HTML representation is unable to render, please try loading this page with nbviewer.org.</b></div><div class=\"sk-container\" hidden><div class=\"sk-item sk-dashed-wrapped\"><div class=\"sk-label-container\"><div class=\"sk-label sk-toggleable\"><input class=\"sk-toggleable__control sk-hidden--visually\" id=\"sk-estimator-id-4\" type=\"checkbox\" ><label for=\"sk-estimator-id-4\" class=\"sk-toggleable__label sk-toggleable__label-arrow\">GridSearchCV</label><div class=\"sk-toggleable__content\"><pre>GridSearchCV(cv=3, estimator=SVC(random_state=42),\n",
              "             param_grid=[{&#x27;kernel&#x27;: [&#x27;rbf&#x27;, &#x27;poly&#x27;]}], return_train_score=True,\n",
              "             scoring=&#x27;accuracy&#x27;)</pre></div></div></div><div class=\"sk-parallel\"><div class=\"sk-parallel-item\"><div class=\"sk-item\"><div class=\"sk-label-container\"><div class=\"sk-label sk-toggleable\"><input class=\"sk-toggleable__control sk-hidden--visually\" id=\"sk-estimator-id-5\" type=\"checkbox\" ><label for=\"sk-estimator-id-5\" class=\"sk-toggleable__label sk-toggleable__label-arrow\">estimator: SVC</label><div class=\"sk-toggleable__content\"><pre>SVC(random_state=42)</pre></div></div></div><div class=\"sk-serial\"><div class=\"sk-item\"><div class=\"sk-estimator sk-toggleable\"><input class=\"sk-toggleable__control sk-hidden--visually\" id=\"sk-estimator-id-6\" type=\"checkbox\" ><label for=\"sk-estimator-id-6\" class=\"sk-toggleable__label sk-toggleable__label-arrow\">SVC</label><div class=\"sk-toggleable__content\"><pre>SVC(random_state=42)</pre></div></div></div></div></div></div></div></div></div></div>"
            ]
          },
          "metadata": {},
          "execution_count": 38
        }
      ]
    },
    {
      "cell_type": "code",
      "source": [
        "grid_search_svc.best_estimator_, grid_search_svc.best_score_"
      ],
      "metadata": {
        "colab": {
          "base_uri": "https://localhost:8080/"
        },
        "id": "JGqlnutqlwfo",
        "outputId": "7cf2a57a-76ca-49d7-9e07-deaa4fe98ff1"
      },
      "execution_count": null,
      "outputs": [
        {
          "output_type": "execute_result",
          "data": {
            "text/plain": [
              "(SVC(random_state=42), 0.9042212667169142)"
            ]
          },
          "metadata": {},
          "execution_count": 39
        }
      ]
    },
    {
      "cell_type": "code",
      "source": [
        "pd.DataFrame(grid_search_svc.cv_results_)"
      ],
      "metadata": {
        "colab": {
          "base_uri": "https://localhost:8080/",
          "height": 167
        },
        "id": "B6-0LoCMmtDN",
        "outputId": "a44259c3-447e-4325-ebe8-4a7424a015b7"
      },
      "execution_count": null,
      "outputs": [
        {
          "output_type": "execute_result",
          "data": {
            "text/plain": [
              "   mean_fit_time  std_fit_time  mean_score_time  std_score_time param_kernel  \\\n",
              "0      83.864124      1.153175        60.012382        2.972504          rbf   \n",
              "1     129.951146      4.215732        48.638007        1.922936         poly   \n",
              "\n",
              "               params  split0_test_score  split1_test_score  \\\n",
              "0   {'kernel': 'rbf'}           0.904921           0.904365   \n",
              "1  {'kernel': 'poly'}           0.903253           0.901168   \n",
              "\n",
              "   split2_test_score  mean_test_score  std_test_score  rank_test_score  \\\n",
              "0           0.903378         0.904221        0.000638                1   \n",
              "1           0.900737         0.901719        0.001099                2   \n",
              "\n",
              "   split0_train_score  split1_train_score  split2_train_score  \\\n",
              "0            0.959199            0.959060            0.957743   \n",
              "1            0.959894            0.963161            0.963511   \n",
              "\n",
              "   mean_train_score  std_train_score  \n",
              "0          0.958667         0.000656  \n",
              "1          0.962189         0.001629  "
            ],
            "text/html": [
              "\n",
              "  <div id=\"df-1381fe20-1703-493f-9d34-5f466b50d31f\" class=\"colab-df-container\">\n",
              "    <div>\n",
              "<style scoped>\n",
              "    .dataframe tbody tr th:only-of-type {\n",
              "        vertical-align: middle;\n",
              "    }\n",
              "\n",
              "    .dataframe tbody tr th {\n",
              "        vertical-align: top;\n",
              "    }\n",
              "\n",
              "    .dataframe thead th {\n",
              "        text-align: right;\n",
              "    }\n",
              "</style>\n",
              "<table border=\"1\" class=\"dataframe\">\n",
              "  <thead>\n",
              "    <tr style=\"text-align: right;\">\n",
              "      <th></th>\n",
              "      <th>mean_fit_time</th>\n",
              "      <th>std_fit_time</th>\n",
              "      <th>mean_score_time</th>\n",
              "      <th>std_score_time</th>\n",
              "      <th>param_kernel</th>\n",
              "      <th>params</th>\n",
              "      <th>split0_test_score</th>\n",
              "      <th>split1_test_score</th>\n",
              "      <th>split2_test_score</th>\n",
              "      <th>mean_test_score</th>\n",
              "      <th>std_test_score</th>\n",
              "      <th>rank_test_score</th>\n",
              "      <th>split0_train_score</th>\n",
              "      <th>split1_train_score</th>\n",
              "      <th>split2_train_score</th>\n",
              "      <th>mean_train_score</th>\n",
              "      <th>std_train_score</th>\n",
              "    </tr>\n",
              "  </thead>\n",
              "  <tbody>\n",
              "    <tr>\n",
              "      <th>0</th>\n",
              "      <td>83.864124</td>\n",
              "      <td>1.153175</td>\n",
              "      <td>60.012382</td>\n",
              "      <td>2.972504</td>\n",
              "      <td>rbf</td>\n",
              "      <td>{'kernel': 'rbf'}</td>\n",
              "      <td>0.904921</td>\n",
              "      <td>0.904365</td>\n",
              "      <td>0.903378</td>\n",
              "      <td>0.904221</td>\n",
              "      <td>0.000638</td>\n",
              "      <td>1</td>\n",
              "      <td>0.959199</td>\n",
              "      <td>0.959060</td>\n",
              "      <td>0.957743</td>\n",
              "      <td>0.958667</td>\n",
              "      <td>0.000656</td>\n",
              "    </tr>\n",
              "    <tr>\n",
              "      <th>1</th>\n",
              "      <td>129.951146</td>\n",
              "      <td>4.215732</td>\n",
              "      <td>48.638007</td>\n",
              "      <td>1.922936</td>\n",
              "      <td>poly</td>\n",
              "      <td>{'kernel': 'poly'}</td>\n",
              "      <td>0.903253</td>\n",
              "      <td>0.901168</td>\n",
              "      <td>0.900737</td>\n",
              "      <td>0.901719</td>\n",
              "      <td>0.001099</td>\n",
              "      <td>2</td>\n",
              "      <td>0.959894</td>\n",
              "      <td>0.963161</td>\n",
              "      <td>0.963511</td>\n",
              "      <td>0.962189</td>\n",
              "      <td>0.001629</td>\n",
              "    </tr>\n",
              "  </tbody>\n",
              "</table>\n",
              "</div>\n",
              "    <div class=\"colab-df-buttons\">\n",
              "\n",
              "  <div class=\"colab-df-container\">\n",
              "    <button class=\"colab-df-convert\" onclick=\"convertToInteractive('df-1381fe20-1703-493f-9d34-5f466b50d31f')\"\n",
              "            title=\"Convert this dataframe to an interactive table.\"\n",
              "            style=\"display:none;\">\n",
              "\n",
              "  <svg xmlns=\"http://www.w3.org/2000/svg\" height=\"24px\" viewBox=\"0 -960 960 960\">\n",
              "    <path d=\"M120-120v-720h720v720H120Zm60-500h600v-160H180v160Zm220 220h160v-160H400v160Zm0 220h160v-160H400v160ZM180-400h160v-160H180v160Zm440 0h160v-160H620v160ZM180-180h160v-160H180v160Zm440 0h160v-160H620v160Z\"/>\n",
              "  </svg>\n",
              "    </button>\n",
              "\n",
              "  <style>\n",
              "    .colab-df-container {\n",
              "      display:flex;\n",
              "      gap: 12px;\n",
              "    }\n",
              "\n",
              "    .colab-df-convert {\n",
              "      background-color: #E8F0FE;\n",
              "      border: none;\n",
              "      border-radius: 50%;\n",
              "      cursor: pointer;\n",
              "      display: none;\n",
              "      fill: #1967D2;\n",
              "      height: 32px;\n",
              "      padding: 0 0 0 0;\n",
              "      width: 32px;\n",
              "    }\n",
              "\n",
              "    .colab-df-convert:hover {\n",
              "      background-color: #E2EBFA;\n",
              "      box-shadow: 0px 1px 2px rgba(60, 64, 67, 0.3), 0px 1px 3px 1px rgba(60, 64, 67, 0.15);\n",
              "      fill: #174EA6;\n",
              "    }\n",
              "\n",
              "    .colab-df-buttons div {\n",
              "      margin-bottom: 4px;\n",
              "    }\n",
              "\n",
              "    [theme=dark] .colab-df-convert {\n",
              "      background-color: #3B4455;\n",
              "      fill: #D2E3FC;\n",
              "    }\n",
              "\n",
              "    [theme=dark] .colab-df-convert:hover {\n",
              "      background-color: #434B5C;\n",
              "      box-shadow: 0px 1px 3px 1px rgba(0, 0, 0, 0.15);\n",
              "      filter: drop-shadow(0px 1px 2px rgba(0, 0, 0, 0.3));\n",
              "      fill: #FFFFFF;\n",
              "    }\n",
              "  </style>\n",
              "\n",
              "    <script>\n",
              "      const buttonEl =\n",
              "        document.querySelector('#df-1381fe20-1703-493f-9d34-5f466b50d31f button.colab-df-convert');\n",
              "      buttonEl.style.display =\n",
              "        google.colab.kernel.accessAllowed ? 'block' : 'none';\n",
              "\n",
              "      async function convertToInteractive(key) {\n",
              "        const element = document.querySelector('#df-1381fe20-1703-493f-9d34-5f466b50d31f');\n",
              "        const dataTable =\n",
              "          await google.colab.kernel.invokeFunction('convertToInteractive',\n",
              "                                                    [key], {});\n",
              "        if (!dataTable) return;\n",
              "\n",
              "        const docLinkHtml = 'Like what you see? Visit the ' +\n",
              "          '<a target=\"_blank\" href=https://colab.research.google.com/notebooks/data_table.ipynb>data table notebook</a>'\n",
              "          + ' to learn more about interactive tables.';\n",
              "        element.innerHTML = '';\n",
              "        dataTable['output_type'] = 'display_data';\n",
              "        await google.colab.output.renderOutput(dataTable, element);\n",
              "        const docLink = document.createElement('div');\n",
              "        docLink.innerHTML = docLinkHtml;\n",
              "        element.appendChild(docLink);\n",
              "      }\n",
              "    </script>\n",
              "  </div>\n",
              "\n",
              "\n",
              "<div id=\"df-10a39210-39a2-449c-a3ee-69d3fb234cba\">\n",
              "  <button class=\"colab-df-quickchart\" onclick=\"quickchart('df-10a39210-39a2-449c-a3ee-69d3fb234cba')\"\n",
              "            title=\"Suggest charts\"\n",
              "            style=\"display:none;\">\n",
              "\n",
              "<svg xmlns=\"http://www.w3.org/2000/svg\" height=\"24px\"viewBox=\"0 0 24 24\"\n",
              "     width=\"24px\">\n",
              "    <g>\n",
              "        <path d=\"M19 3H5c-1.1 0-2 .9-2 2v14c0 1.1.9 2 2 2h14c1.1 0 2-.9 2-2V5c0-1.1-.9-2-2-2zM9 17H7v-7h2v7zm4 0h-2V7h2v10zm4 0h-2v-4h2v4z\"/>\n",
              "    </g>\n",
              "</svg>\n",
              "  </button>\n",
              "\n",
              "<style>\n",
              "  .colab-df-quickchart {\n",
              "      --bg-color: #E8F0FE;\n",
              "      --fill-color: #1967D2;\n",
              "      --hover-bg-color: #E2EBFA;\n",
              "      --hover-fill-color: #174EA6;\n",
              "      --disabled-fill-color: #AAA;\n",
              "      --disabled-bg-color: #DDD;\n",
              "  }\n",
              "\n",
              "  [theme=dark] .colab-df-quickchart {\n",
              "      --bg-color: #3B4455;\n",
              "      --fill-color: #D2E3FC;\n",
              "      --hover-bg-color: #434B5C;\n",
              "      --hover-fill-color: #FFFFFF;\n",
              "      --disabled-bg-color: #3B4455;\n",
              "      --disabled-fill-color: #666;\n",
              "  }\n",
              "\n",
              "  .colab-df-quickchart {\n",
              "    background-color: var(--bg-color);\n",
              "    border: none;\n",
              "    border-radius: 50%;\n",
              "    cursor: pointer;\n",
              "    display: none;\n",
              "    fill: var(--fill-color);\n",
              "    height: 32px;\n",
              "    padding: 0;\n",
              "    width: 32px;\n",
              "  }\n",
              "\n",
              "  .colab-df-quickchart:hover {\n",
              "    background-color: var(--hover-bg-color);\n",
              "    box-shadow: 0 1px 2px rgba(60, 64, 67, 0.3), 0 1px 3px 1px rgba(60, 64, 67, 0.15);\n",
              "    fill: var(--button-hover-fill-color);\n",
              "  }\n",
              "\n",
              "  .colab-df-quickchart-complete:disabled,\n",
              "  .colab-df-quickchart-complete:disabled:hover {\n",
              "    background-color: var(--disabled-bg-color);\n",
              "    fill: var(--disabled-fill-color);\n",
              "    box-shadow: none;\n",
              "  }\n",
              "\n",
              "  .colab-df-spinner {\n",
              "    border: 2px solid var(--fill-color);\n",
              "    border-color: transparent;\n",
              "    border-bottom-color: var(--fill-color);\n",
              "    animation:\n",
              "      spin 1s steps(1) infinite;\n",
              "  }\n",
              "\n",
              "  @keyframes spin {\n",
              "    0% {\n",
              "      border-color: transparent;\n",
              "      border-bottom-color: var(--fill-color);\n",
              "      border-left-color: var(--fill-color);\n",
              "    }\n",
              "    20% {\n",
              "      border-color: transparent;\n",
              "      border-left-color: var(--fill-color);\n",
              "      border-top-color: var(--fill-color);\n",
              "    }\n",
              "    30% {\n",
              "      border-color: transparent;\n",
              "      border-left-color: var(--fill-color);\n",
              "      border-top-color: var(--fill-color);\n",
              "      border-right-color: var(--fill-color);\n",
              "    }\n",
              "    40% {\n",
              "      border-color: transparent;\n",
              "      border-right-color: var(--fill-color);\n",
              "      border-top-color: var(--fill-color);\n",
              "    }\n",
              "    60% {\n",
              "      border-color: transparent;\n",
              "      border-right-color: var(--fill-color);\n",
              "    }\n",
              "    80% {\n",
              "      border-color: transparent;\n",
              "      border-right-color: var(--fill-color);\n",
              "      border-bottom-color: var(--fill-color);\n",
              "    }\n",
              "    90% {\n",
              "      border-color: transparent;\n",
              "      border-bottom-color: var(--fill-color);\n",
              "    }\n",
              "  }\n",
              "</style>\n",
              "\n",
              "  <script>\n",
              "    async function quickchart(key) {\n",
              "      const quickchartButtonEl =\n",
              "        document.querySelector('#' + key + ' button');\n",
              "      quickchartButtonEl.disabled = true;  // To prevent multiple clicks.\n",
              "      quickchartButtonEl.classList.add('colab-df-spinner');\n",
              "      try {\n",
              "        const charts = await google.colab.kernel.invokeFunction(\n",
              "            'suggestCharts', [key], {});\n",
              "      } catch (error) {\n",
              "        console.error('Error during call to suggestCharts:', error);\n",
              "      }\n",
              "      quickchartButtonEl.classList.remove('colab-df-spinner');\n",
              "      quickchartButtonEl.classList.add('colab-df-quickchart-complete');\n",
              "    }\n",
              "    (() => {\n",
              "      let quickchartButtonEl =\n",
              "        document.querySelector('#df-10a39210-39a2-449c-a3ee-69d3fb234cba button');\n",
              "      quickchartButtonEl.style.display =\n",
              "        google.colab.kernel.accessAllowed ? 'block' : 'none';\n",
              "    })();\n",
              "  </script>\n",
              "</div>\n",
              "\n",
              "    </div>\n",
              "  </div>\n"
            ],
            "application/vnd.google.colaboratory.intrinsic+json": {
              "type": "dataframe",
              "summary": "{\n  \"name\": \"pd\",\n  \"rows\": 2,\n  \"fields\": [\n    {\n      \"column\": \"mean_fit_time\",\n      \"properties\": {\n        \"dtype\": \"number\",\n        \"std\": 32.58844594003651,\n        \"min\": 83.86412421862285,\n        \"max\": 129.9511464436849,\n        \"num_unique_values\": 2,\n        \"samples\": [\n          129.9511464436849,\n          83.86412421862285\n        ],\n        \"semantic_type\": \"\",\n        \"description\": \"\"\n      }\n    },\n    {\n      \"column\": \"std_fit_time\",\n      \"properties\": {\n        \"dtype\": \"number\",\n        \"std\": 2.1655548730362426,\n        \"min\": 1.153174642248954,\n        \"max\": 4.215731713759954,\n        \"num_unique_values\": 2,\n        \"samples\": [\n          4.215731713759954,\n          1.153174642248954\n        ],\n        \"semantic_type\": \"\",\n        \"description\": \"\"\n      }\n    },\n    {\n      \"column\": \"mean_score_time\",\n      \"properties\": {\n        \"dtype\": \"number\",\n        \"std\": 8.042897543653996,\n        \"min\": 48.638007164001465,\n        \"max\": 60.0123819510142,\n        \"num_unique_values\": 2,\n        \"samples\": [\n          48.638007164001465,\n          60.0123819510142\n        ],\n        \"semantic_type\": \"\",\n        \"description\": \"\"\n      }\n    },\n    {\n      \"column\": \"std_score_time\",\n      \"properties\": {\n        \"dtype\": \"number\",\n        \"std\": 0.7421570197496553,\n        \"min\": 1.922935649718408,\n        \"max\": 2.9725041724587675,\n        \"num_unique_values\": 2,\n        \"samples\": [\n          1.922935649718408,\n          2.9725041724587675\n        ],\n        \"semantic_type\": \"\",\n        \"description\": \"\"\n      }\n    },\n    {\n      \"column\": \"param_kernel\",\n      \"properties\": {\n        \"dtype\": \"string\",\n        \"num_unique_values\": 2,\n        \"samples\": [\n          \"poly\",\n          \"rbf\"\n        ],\n        \"semantic_type\": \"\",\n        \"description\": \"\"\n      }\n    },\n    {\n      \"column\": \"params\",\n      \"properties\": {\n        \"dtype\": \"object\",\n        \"semantic_type\": \"\",\n        \"description\": \"\"\n      }\n    },\n    {\n      \"column\": \"split0_test_score\",\n      \"properties\": {\n        \"dtype\": \"number\",\n        \"std\": 0.0011794942138223957,\n        \"min\": 0.9032527105921602,\n        \"max\": 0.9049207673060884,\n        \"num_unique_values\": 2,\n        \"samples\": [\n          0.9032527105921602,\n          0.9049207673060884\n        ],\n        \"semantic_type\": \"\",\n        \"description\": \"\"\n      }\n    },\n    {\n      \"column\": \"split1_test_score\",\n      \"properties\": {\n        \"dtype\": \"number\",\n        \"std\": 0.0022606972431596702,\n        \"min\": 0.9011676396997498,\n        \"max\": 0.9043647484014457,\n        \"num_unique_values\": 2,\n        \"samples\": [\n          0.9011676396997498,\n          0.9043647484014457\n        ],\n        \"semantic_type\": \"\",\n        \"description\": \"\"\n      }\n    },\n    {\n      \"column\": \"split2_test_score\",\n      \"properties\": {\n        \"dtype\": \"number\",\n        \"std\": 0.0018677921371534237,\n        \"min\": 0.9007368274711525,\n        \"max\": 0.9033782844432087,\n        \"num_unique_values\": 2,\n        \"samples\": [\n          0.9007368274711525,\n          0.9033782844432087\n        ],\n        \"semantic_type\": \"\",\n        \"description\": \"\"\n      }\n    },\n    {\n      \"column\": \"mean_test_score\",\n      \"properties\": {\n        \"dtype\": \"number\",\n        \"std\": 0.001769327864711699,\n        \"min\": 0.9017190592543542,\n        \"max\": 0.9042212667169142,\n        \"num_unique_values\": 2,\n        \"samples\": [\n          0.9017190592543542,\n          0.9042212667169142\n        ],\n        \"semantic_type\": \"\",\n        \"description\": \"\"\n      }\n    },\n    {\n      \"column\": \"std_test_score\",\n      \"properties\": {\n        \"dtype\": \"number\",\n        \"std\": 0.00032582633705372595,\n        \"min\": 0.0006378367559788248,\n        \"max\": 0.0010986247808185514,\n        \"num_unique_values\": 2,\n        \"samples\": [\n          0.0010986247808185514,\n          0.0006378367559788248\n        ],\n        \"semantic_type\": \"\",\n        \"description\": \"\"\n      }\n    },\n    {\n      \"column\": \"rank_test_score\",\n      \"properties\": {\n        \"dtype\": \"int32\",\n        \"num_unique_values\": 2,\n        \"samples\": [\n          2,\n          1\n        ],\n        \"semantic_type\": \"\",\n        \"description\": \"\"\n      }\n    },\n    {\n      \"column\": \"split0_train_score\",\n      \"properties\": {\n        \"dtype\": \"number\",\n        \"std\": 0.0004914900821481493,\n        \"min\": 0.9591992771251825,\n        \"max\": 0.9598943490651283,\n        \"num_unique_values\": 2,\n        \"samples\": [\n          0.9598943490651283,\n          0.9591992771251825\n        ],\n        \"semantic_type\": \"\",\n        \"description\": \"\"\n      }\n    },\n    {\n      \"column\": \"split1_train_score\",\n      \"properties\": {\n        \"dtype\": \"number\",\n        \"std\": 0.0028997914846741676,\n        \"min\": 0.9590602627371932,\n        \"max\": 0.9631611871828735,\n        \"num_unique_values\": 2,\n        \"samples\": [\n          0.9631611871828735,\n          0.9590602627371932\n        ],\n        \"semantic_type\": \"\",\n        \"description\": \"\"\n      }\n    },\n    {\n      \"column\": \"split2_train_score\",\n      \"properties\": {\n        \"dtype\": \"number\",\n        \"std\": 0.004079084156135863,\n        \"min\": 0.9577425632471505,\n        \"max\": 0.963511259382819,\n        \"num_unique_values\": 2,\n        \"samples\": [\n          0.963511259382819,\n          0.9577425632471505\n        ],\n        \"semantic_type\": \"\",\n        \"description\": \"\"\n      }\n    },\n    {\n      \"column\": \"mean_train_score\",\n      \"properties\": {\n        \"dtype\": \"number\",\n        \"std\": 0.002490121907652858,\n        \"min\": 0.9586673677031753,\n        \"max\": 0.9621889318769403,\n        \"num_unique_values\": 2,\n        \"samples\": [\n          0.9621889318769403,\n          0.9586673677031753\n        ],\n        \"semantic_type\": \"\",\n        \"description\": \"\"\n      }\n    },\n    {\n      \"column\": \"std_train_score\",\n      \"properties\": {\n        \"dtype\": \"number\",\n        \"std\": 0.0006875932057221196,\n        \"min\": 0.0006563935361400693,\n        \"max\": 0.0016287971730678844,\n        \"num_unique_values\": 2,\n        \"samples\": [\n          0.0016287971730678844,\n          0.0006563935361400693\n        ],\n        \"semantic_type\": \"\",\n        \"description\": \"\"\n      }\n    }\n  ]\n}"
            }
          },
          "metadata": {},
          "execution_count": 40
        }
      ]
    },
    {
      "cell_type": "markdown",
      "source": [
        "## Evaluating model with best parameters"
      ],
      "metadata": {
        "id": "l31SXMWNmBTf"
      }
    },
    {
      "cell_type": "code",
      "source": [
        "model_svc = SVC().fit(X_train_std, y_train)\n",
        "model_svc.score(X_train_std, y_train)"
      ],
      "metadata": {
        "colab": {
          "base_uri": "https://localhost:8080/"
        },
        "id": "ClDTqXMQ0W7B",
        "outputId": "31d5a9c8-5019-42ac-df2e-e8595534fb9e"
      },
      "execution_count": null,
      "outputs": [
        {
          "output_type": "execute_result",
          "data": {
            "text/plain": [
              "0.9625133219035262"
            ]
          },
          "metadata": {},
          "execution_count": 19
        }
      ]
    },
    {
      "cell_type": "code",
      "source": [
        "model_svc.score(X_test_std, y_test)"
      ],
      "metadata": {
        "colab": {
          "base_uri": "https://localhost:8080/"
        },
        "id": "AFwNF2EulwTv",
        "outputId": "0aec050a-7534-4eed-f7e5-70967e34ae4e"
      },
      "execution_count": null,
      "outputs": [
        {
          "output_type": "execute_result",
          "data": {
            "text/plain": [
              "0.9115580062709482"
            ]
          },
          "metadata": {},
          "execution_count": 20
        }
      ]
    },
    {
      "cell_type": "code",
      "source": [
        "y_pred_svc = model_svc.predict(X_test_std)"
      ],
      "metadata": {
        "id": "GdzHhiu-ywFH"
      },
      "execution_count": null,
      "outputs": []
    },
    {
      "cell_type": "code",
      "source": [
        "print(classification_report(y_test, y_pred_svc))"
      ],
      "metadata": {
        "colab": {
          "base_uri": "https://localhost:8080/"
        },
        "id": "KR67aHtNuVz3",
        "outputId": "5279eb78-a945-447c-d7e8-66db7e1f0b64"
      },
      "execution_count": null,
      "outputs": [
        {
          "output_type": "stream",
          "name": "stdout",
          "text": [
            "              precision    recall  f1-score   support\n",
            "\n",
            "           0       0.93      0.92      0.93       925\n",
            "           1       0.93      0.88      0.91       925\n",
            "           2       0.89      0.93      0.91       923\n",
            "           3       0.94      0.88      0.91       927\n",
            "           4       0.93      0.92      0.93       926\n",
            "           5       0.93      0.88      0.90       924\n",
            "           6       0.89      0.90      0.90       925\n",
            "           7       0.89      0.94      0.92       926\n",
            "           8       0.91      0.96      0.94       926\n",
            "           9       0.88      0.90      0.89       922\n",
            "\n",
            "    accuracy                           0.91      9249\n",
            "   macro avg       0.91      0.91      0.91      9249\n",
            "weighted avg       0.91      0.91      0.91      9249\n",
            "\n"
          ]
        }
      ]
    },
    {
      "cell_type": "code",
      "source": [
        "con_mx_svc = confusion_matrix(y_test, y_pred_svc)\n",
        "con_mx_svc"
      ],
      "metadata": {
        "colab": {
          "base_uri": "https://localhost:8080/"
        },
        "id": "zXwOFyCxy4vC",
        "outputId": "5795133a-17c1-4b4a-b5ad-211b33d763c6"
      },
      "execution_count": null,
      "outputs": [
        {
          "output_type": "execute_result",
          "data": {
            "text/plain": [
              "array([[852,   5,   8,  15,   3,  13,   5,  13,   7,   4],\n",
              "       [ 11, 818,  17,   0,   6,   1,   8,   3,  17,  44],\n",
              "       [  6,  11, 861,   1,   9,   5,   2,  15,   4,   9],\n",
              "       [ 25,   5,   5, 816,   2,  13,  30,   8,  12,  11],\n",
              "       [  5,   3,   7,   3, 851,   7,   9,  16,  16,   9],\n",
              "       [  5,   5,   7,   3,  14, 810,  35,  23,   8,  14],\n",
              "       [  4,   3,  10,  23,   3,  17, 833,  16,   6,  10],\n",
              "       [  4,   1,  21,   1,  11,   2,   0, 872,   6,   8],\n",
              "       [  2,   2,   4,   4,   8,   3,   2,   5, 887,   9],\n",
              "       [  1,  25,  26,   3,   6,   4,  12,   6,   8, 831]])"
            ]
          },
          "metadata": {},
          "execution_count": 75
        }
      ]
    },
    {
      "cell_type": "code",
      "source": [
        "plt.matshow(con_mx_svc, cmap=plt.cm.gray);"
      ],
      "metadata": {
        "colab": {
          "base_uri": "https://localhost:8080/",
          "height": 437
        },
        "id": "CATJt6Jpy8Lc",
        "outputId": "faee8ecc-3eb8-4142-abb1-fe49caefd680"
      },
      "execution_count": null,
      "outputs": [
        {
          "output_type": "display_data",
          "data": {
            "text/plain": [
              "<Figure size 480x480 with 1 Axes>"
            ],
            "image/png": "[encoded data removed]"
          },
          "metadata": {}
        }
      ]
    },
    {
      "cell_type": "markdown",
      "source": [
        "# 3. Decison Tree"
      ],
      "metadata": {
        "id": "RZycO2t2f7Nt"
      }
    },
    {
      "cell_type": "code",
      "source": [
        "from sklearn.tree import DecisionTreeClassifier"
      ],
      "metadata": {
        "id": "kovwca7Yz5MM"
      },
      "execution_count": null,
      "outputs": []
    },
    {
      "cell_type": "code",
      "source": [
        "model_dt = DecisionTreeClassifier().fit(X_train, y_train)\n",
        "model_dt.score(X_train, y_train)"
      ],
      "metadata": {
        "colab": {
          "base_uri": "https://localhost:8080/"
        },
        "id": "6ZDxz2BXf-sm",
        "outputId": "d4f35d07-c747-4599-ff9a-33e637842192"
      },
      "execution_count": null,
      "outputs": [
        {
          "output_type": "execute_result",
          "data": {
            "text/plain": [
              "1.0"
            ]
          },
          "metadata": {},
          "execution_count": 42
        }
      ]
    },
    {
      "cell_type": "code",
      "source": [
        "model_dt.score(X_test, y_test)"
      ],
      "metadata": {
        "colab": {
          "base_uri": "https://localhost:8080/"
        },
        "id": "1W1UJobjiMwr",
        "outputId": "f49056b5-7e47-4f6d-fe4c-1083b5f54ffe"
      },
      "execution_count": null,
      "outputs": [
        {
          "output_type": "execute_result",
          "data": {
            "text/plain": [
              "0.7794356146610444"
            ]
          },
          "metadata": {},
          "execution_count": 43
        }
      ]
    },
    {
      "cell_type": "markdown",
      "source": [
        "## Hyperparameter Tuning on Decision Tree"
      ],
      "metadata": {
        "id": "i0ijK5vn5s9f"
      }
    },
    {
      "cell_type": "code",
      "source": [
        "param_grid = [\n",
        "    {\n",
        "    'criterion': ['gini', 'entropy', 'log_loss']\n",
        "    }\n",
        "]\n",
        "\n",
        "grid_search_dt = GridSearchCV(DecisionTreeClassifier(random_state=42), param_grid, cv=3, scoring=\"accuracy\", return_train_score=True)\n",
        "grid_search_dt.fit(X_train, y_train)"
      ],
      "metadata": {
        "colab": {
          "base_uri": "https://localhost:8080/",
          "height": 118
        },
        "id": "p2qVXkY66KiW",
        "outputId": "9471ae9e-91e5-4ea2-b5f6-379e0857185a"
      },
      "execution_count": null,
      "outputs": [
        {
          "output_type": "execute_result",
          "data": {
            "text/plain": [
              "GridSearchCV(cv=3, estimator=DecisionTreeClassifier(random_state=42),\n",
              "             param_grid=[{'criterion': ['gini', 'entropy', 'log_loss']}],\n",
              "             return_train_score=True, scoring='accuracy')"
            ],
            "text/html": [
              "<style>#sk-container-id-3 {color: black;background-color: white;}#sk-container-id-3 pre{padding: 0;}#sk-container-id-3 div.sk-toggleable {background-color: white;}#sk-container-id-3 label.sk-toggleable__label {cursor: pointer;display: block;width: 100%;margin-bottom: 0;padding: 0.3em;box-sizing: border-box;text-align: center;}#sk-container-id-3 label.sk-toggleable__label-arrow:before {content: \"▸\";float: left;margin-right: 0.25em;color: #696969;}#sk-container-id-3 label.sk-toggleable__label-arrow:hover:before {color: black;}#sk-container-id-3 div.sk-estimator:hover label.sk-toggleable__label-arrow:before {color: black;}#sk-container-id-3 div.sk-toggleable__content {max-height: 0;max-width: 0;overflow: hidden;text-align: left;background-color: #f0f8ff;}#sk-container-id-3 div.sk-toggleable__content pre {margin: 0.2em;color: black;border-radius: 0.25em;background-color: #f0f8ff;}#sk-container-id-3 input.sk-toggleable__control:checked~div.sk-toggleable__content {max-height: 200px;max-width: 100%;overflow: auto;}#sk-container-id-3 input.sk-toggleable__control:checked~label.sk-toggleable__label-arrow:before {content: \"▾\";}#sk-container-id-3 div.sk-estimator input.sk-toggleable__control:checked~label.sk-toggleable__label {background-color: #d4ebff;}#sk-container-id-3 div.sk-label input.sk-toggleable__control:checked~label.sk-toggleable__label {background-color: #d4ebff;}#sk-container-id-3 input.sk-hidden--visually {border: 0;clip: rect(1px 1px 1px 1px);clip: rect(1px, 1px, 1px, 1px);height: 1px;margin: -1px;overflow: hidden;padding: 0;position: absolute;width: 1px;}#sk-container-id-3 div.sk-estimator {font-family: monospace;background-color: #f0f8ff;border: 1px dotted black;border-radius: 0.25em;box-sizing: border-box;margin-bottom: 0.5em;}#sk-container-id-3 div.sk-estimator:hover {background-color: #d4ebff;}#sk-container-id-3 div.sk-parallel-item::after {content: \"\";width: 100%;border-bottom: 1px solid gray;flex-grow: 1;}#sk-container-id-3 div.sk-label:hover label.sk-toggleable__label {background-color: #d4ebff;}#sk-container-id-3 div.sk-serial::before {content: \"\";position: absolute;border-left: 1px solid gray;box-sizing: border-box;top: 0;bottom: 0;left: 50%;z-index: 0;}#sk-container-id-3 div.sk-serial {display: flex;flex-direction: column;align-items: center;background-color: white;padding-right: 0.2em;padding-left: 0.2em;position: relative;}#sk-container-id-3 div.sk-item {position: relative;z-index: 1;}#sk-container-id-3 div.sk-parallel {display: flex;align-items: stretch;justify-content: center;background-color: white;position: relative;}#sk-container-id-3 div.sk-item::before, #sk-container-id-3 div.sk-parallel-item::before {content: \"\";position: absolute;border-left: 1px solid gray;box-sizing: border-box;top: 0;bottom: 0;left: 50%;z-index: -1;}#sk-container-id-3 div.sk-parallel-item {display: flex;flex-direction: column;z-index: 1;position: relative;background-color: white;}#sk-container-id-3 div.sk-parallel-item:first-child::after {align-self: flex-end;width: 50%;}#sk-container-id-3 div.sk-parallel-item:last-child::after {align-self: flex-start;width: 50%;}#sk-container-id-3 div.sk-parallel-item:only-child::after {width: 0;}#sk-container-id-3 div.sk-dashed-wrapped {border: 1px dashed gray;margin: 0 0.4em 0.5em 0.4em;box-sizing: border-box;padding-bottom: 0.4em;background-color: white;}#sk-container-id-3 div.sk-label label {font-family: monospace;font-weight: bold;display: inline-block;line-height: 1.2em;}#sk-container-id-3 div.sk-label-container {text-align: center;}#sk-container-id-3 div.sk-container {/* jupyter's `normalize.less` sets `[hidden] { display: none; }` but bootstrap.min.css set `[hidden] { display: none !important; }` so we also need the `!important` here to be able to override the default hidden behavior on the sphinx rendered scikit-learn.org. See: https://github.com/scikit-learn/scikit-learn/issues/21755 */display: inline-block !important;position: relative;}#sk-container-id-3 div.sk-text-repr-fallback {display: none;}</style><div id=\"sk-container-id-3\" class=\"sk-top-container\"><div class=\"sk-text-repr-fallback\"><pre>GridSearchCV(cv=3, estimator=DecisionTreeClassifier(random_state=42),\n",
              "             param_grid=[{&#x27;criterion&#x27;: [&#x27;gini&#x27;, &#x27;entropy&#x27;, &#x27;log_loss&#x27;]}],\n",
              "             return_train_score=True, scoring=&#x27;accuracy&#x27;)</pre><b>In a Jupyter environment, please rerun this cell to show the HTML representation or trust the notebook. <br />On GitHub, the HTML representation is unable to render, please try loading this page with nbviewer.org.</b></div><div class=\"sk-container\" hidden><div class=\"sk-item sk-dashed-wrapped\"><div class=\"sk-label-container\"><div class=\"sk-label sk-toggleable\"><input class=\"sk-toggleable__control sk-hidden--visually\" id=\"sk-estimator-id-7\" type=\"checkbox\" ><label for=\"sk-estimator-id-7\" class=\"sk-toggleable__label sk-toggleable__label-arrow\">GridSearchCV</label><div class=\"sk-toggleable__content\"><pre>GridSearchCV(cv=3, estimator=DecisionTreeClassifier(random_state=42),\n",
              "             param_grid=[{&#x27;criterion&#x27;: [&#x27;gini&#x27;, &#x27;entropy&#x27;, &#x27;log_loss&#x27;]}],\n",
              "             return_train_score=True, scoring=&#x27;accuracy&#x27;)</pre></div></div></div><div class=\"sk-parallel\"><div class=\"sk-parallel-item\"><div class=\"sk-item\"><div class=\"sk-label-container\"><div class=\"sk-label sk-toggleable\"><input class=\"sk-toggleable__control sk-hidden--visually\" id=\"sk-estimator-id-8\" type=\"checkbox\" ><label for=\"sk-estimator-id-8\" class=\"sk-toggleable__label sk-toggleable__label-arrow\">estimator: DecisionTreeClassifier</label><div class=\"sk-toggleable__content\"><pre>DecisionTreeClassifier(random_state=42)</pre></div></div></div><div class=\"sk-serial\"><div class=\"sk-item\"><div class=\"sk-estimator sk-toggleable\"><input class=\"sk-toggleable__control sk-hidden--visually\" id=\"sk-estimator-id-9\" type=\"checkbox\" ><label for=\"sk-estimator-id-9\" class=\"sk-toggleable__label sk-toggleable__label-arrow\">DecisionTreeClassifier</label><div class=\"sk-toggleable__content\"><pre>DecisionTreeClassifier(random_state=42)</pre></div></div></div></div></div></div></div></div></div></div>"
            ]
          },
          "metadata": {},
          "execution_count": 44
        }
      ]
    },
    {
      "cell_type": "code",
      "source": [
        "grid_search_dt.best_estimator_, grid_search_dt.best_score_"
      ],
      "metadata": {
        "colab": {
          "base_uri": "https://localhost:8080/"
        },
        "id": "SdII4_Sj56ZW",
        "outputId": "1eb882ca-047c-4ca6-c6ca-e6c2d64fc552"
      },
      "execution_count": null,
      "outputs": [
        {
          "output_type": "execute_result",
          "data": {
            "text/plain": [
              "(DecisionTreeClassifier(criterion='entropy', random_state=42),\n",
              " 0.7874518020002226)"
            ]
          },
          "metadata": {},
          "execution_count": 45
        }
      ]
    },
    {
      "cell_type": "code",
      "source": [
        "pd.DataFrame(grid_search_dt.cv_results_)"
      ],
      "metadata": {
        "colab": {
          "base_uri": "https://localhost:8080/",
          "height": 216
        },
        "id": "eMmqpWeunL_T",
        "outputId": "70923de2-12b9-4dee-b29e-1ce389bfb8f2"
      },
      "execution_count": null,
      "outputs": [
        {
          "output_type": "execute_result",
          "data": {
            "text/plain": [
              "   mean_fit_time  std_fit_time  mean_score_time  std_score_time  \\\n",
              "0       9.169756      0.302804         0.024707        0.010261   \n",
              "1       9.599639      0.826877         0.015249        0.001064   \n",
              "2       9.830466      0.385858         0.020219        0.002101   \n",
              "\n",
              "  param_criterion                     params  split0_test_score  \\\n",
              "0            gini      {'criterion': 'gini'}           0.764387   \n",
              "1         entropy   {'criterion': 'entropy'}           0.793995   \n",
              "2        log_loss  {'criterion': 'log_loss'}           0.793995   \n",
              "\n",
              "   split1_test_score  split2_test_score  mean_test_score  std_test_score  \\\n",
              "0           0.758549           0.755179         0.759371        0.003804   \n",
              "1           0.783570           0.784791         0.787452        0.004654   \n",
              "2           0.783570           0.784791         0.787452        0.004654   \n",
              "\n",
              "   rank_test_score  split0_train_score  split1_train_score  \\\n",
              "0                3                 1.0                 1.0   \n",
              "1                1                 1.0                 1.0   \n",
              "2                1                 1.0                 1.0   \n",
              "\n",
              "   split2_train_score  mean_train_score  std_train_score  \n",
              "0                 1.0               1.0              0.0  \n",
              "1                 1.0               1.0              0.0  \n",
              "2                 1.0               1.0              0.0  "
            ],
            "text/html": [
              "\n",
              "  <div id=\"df-c1cc6ed9-d885-4ba6-b04c-dffe4a2b44dc\" class=\"colab-df-container\">\n",
              "    <div>\n",
              "<style scoped>\n",
              "    .dataframe tbody tr th:only-of-type {\n",
              "        vertical-align: middle;\n",
              "    }\n",
              "\n",
              "    .dataframe tbody tr th {\n",
              "        vertical-align: top;\n",
              "    }\n",
              "\n",
              "    .dataframe thead th {\n",
              "        text-align: right;\n",
              "    }\n",
              "</style>\n",
              "<table border=\"1\" class=\"dataframe\">\n",
              "  <thead>\n",
              "    <tr style=\"text-align: right;\">\n",
              "      <th></th>\n",
              "      <th>mean_fit_time</th>\n",
              "      <th>std_fit_time</th>\n",
              "      <th>mean_score_time</th>\n",
              "      <th>std_score_time</th>\n",
              "      <th>param_criterion</th>\n",
              "      <th>params</th>\n",
              "      <th>split0_test_score</th>\n",
              "      <th>split1_test_score</th>\n",
              "      <th>split2_test_score</th>\n",
              "      <th>mean_test_score</th>\n",
              "      <th>std_test_score</th>\n",
              "      <th>rank_test_score</th>\n",
              "      <th>split0_train_score</th>\n",
              "      <th>split1_train_score</th>\n",
              "      <th>split2_train_score</th>\n",
              "      <th>mean_train_score</th>\n",
              "      <th>std_train_score</th>\n",
              "    </tr>\n",
              "  </thead>\n",
              "  <tbody>\n",
              "    <tr>\n",
              "      <th>0</th>\n",
              "      <td>9.169756</td>\n",
              "      <td>0.302804</td>\n",
              "      <td>0.024707</td>\n",
              "      <td>0.010261</td>\n",
              "      <td>gini</td>\n",
              "      <td>{'criterion': 'gini'}</td>\n",
              "      <td>0.764387</td>\n",
              "      <td>0.758549</td>\n",
              "      <td>0.755179</td>\n",
              "      <td>0.759371</td>\n",
              "      <td>0.003804</td>\n",
              "      <td>3</td>\n",
              "      <td>1.0</td>\n",
              "      <td>1.0</td>\n",
              "      <td>1.0</td>\n",
              "      <td>1.0</td>\n",
              "      <td>0.0</td>\n",
              "    </tr>\n",
              "    <tr>\n",
              "      <th>1</th>\n",
              "      <td>9.599639</td>\n",
              "      <td>0.826877</td>\n",
              "      <td>0.015249</td>\n",
              "      <td>0.001064</td>\n",
              "      <td>entropy</td>\n",
              "      <td>{'criterion': 'entropy'}</td>\n",
              "      <td>0.793995</td>\n",
              "      <td>0.783570</td>\n",
              "      <td>0.784791</td>\n",
              "      <td>0.787452</td>\n",
              "      <td>0.004654</td>\n",
              "      <td>1</td>\n",
              "      <td>1.0</td>\n",
              "      <td>1.0</td>\n",
              "      <td>1.0</td>\n",
              "      <td>1.0</td>\n",
              "      <td>0.0</td>\n",
              "    </tr>\n",
              "    <tr>\n",
              "      <th>2</th>\n",
              "      <td>9.830466</td>\n",
              "      <td>0.385858</td>\n",
              "      <td>0.020219</td>\n",
              "      <td>0.002101</td>\n",
              "      <td>log_loss</td>\n",
              "      <td>{'criterion': 'log_loss'}</td>\n",
              "      <td>0.793995</td>\n",
              "      <td>0.783570</td>\n",
              "      <td>0.784791</td>\n",
              "      <td>0.787452</td>\n",
              "      <td>0.004654</td>\n",
              "      <td>1</td>\n",
              "      <td>1.0</td>\n",
              "      <td>1.0</td>\n",
              "      <td>1.0</td>\n",
              "      <td>1.0</td>\n",
              "      <td>0.0</td>\n",
              "    </tr>\n",
              "  </tbody>\n",
              "</table>\n",
              "</div>\n",
              "    <div class=\"colab-df-buttons\">\n",
              "\n",
              "  <div class=\"colab-df-container\">\n",
              "    <button class=\"colab-df-convert\" onclick=\"convertToInteractive('df-c1cc6ed9-d885-4ba6-b04c-dffe4a2b44dc')\"\n",
              "            title=\"Convert this dataframe to an interactive table.\"\n",
              "            style=\"display:none;\">\n",
              "\n",
              "  <svg xmlns=\"http://www.w3.org/2000/svg\" height=\"24px\" viewBox=\"0 -960 960 960\">\n",
              "    <path d=\"M120-120v-720h720v720H120Zm60-500h600v-160H180v160Zm220 220h160v-160H400v160Zm0 220h160v-160H400v160ZM180-400h160v-160H180v160Zm440 0h160v-160H620v160ZM180-180h160v-160H180v160Zm440 0h160v-160H620v160Z\"/>\n",
              "  </svg>\n",
              "    </button>\n",
              "\n",
              "  <style>\n",
              "    .colab-df-container {\n",
              "      display:flex;\n",
              "      gap: 12px;\n",
              "    }\n",
              "\n",
              "    .colab-df-convert {\n",
              "      background-color: #E8F0FE;\n",
              "      border: none;\n",
              "      border-radius: 50%;\n",
              "      cursor: pointer;\n",
              "      display: none;\n",
              "      fill: #1967D2;\n",
              "      height: 32px;\n",
              "      padding: 0 0 0 0;\n",
              "      width: 32px;\n",
              "    }\n",
              "\n",
              "    .colab-df-convert:hover {\n",
              "      background-color: #E2EBFA;\n",
              "      box-shadow: 0px 1px 2px rgba(60, 64, 67, 0.3), 0px 1px 3px 1px rgba(60, 64, 67, 0.15);\n",
              "      fill: #174EA6;\n",
              "    }\n",
              "\n",
              "    .colab-df-buttons div {\n",
              "      margin-bottom: 4px;\n",
              "    }\n",
              "\n",
              "    [theme=dark] .colab-df-convert {\n",
              "      background-color: #3B4455;\n",
              "      fill: #D2E3FC;\n",
              "    }\n",
              "\n",
              "    [theme=dark] .colab-df-convert:hover {\n",
              "      background-color: #434B5C;\n",
              "      box-shadow: 0px 1px 3px 1px rgba(0, 0, 0, 0.15);\n",
              "      filter: drop-shadow(0px 1px 2px rgba(0, 0, 0, 0.3));\n",
              "      fill: #FFFFFF;\n",
              "    }\n",
              "  </style>\n",
              "\n",
              "    <script>\n",
              "      const buttonEl =\n",
              "        document.querySelector('#df-c1cc6ed9-d885-4ba6-b04c-dffe4a2b44dc button.colab-df-convert');\n",
              "      buttonEl.style.display =\n",
              "        google.colab.kernel.accessAllowed ? 'block' : 'none';\n",
              "\n",
              "      async function convertToInteractive(key) {\n",
              "        const element = document.querySelector('#df-c1cc6ed9-d885-4ba6-b04c-dffe4a2b44dc');\n",
              "        const dataTable =\n",
              "          await google.colab.kernel.invokeFunction('convertToInteractive',\n",
              "                                                    [key], {});\n",
              "        if (!dataTable) return;\n",
              "\n",
              "        const docLinkHtml = 'Like what you see? Visit the ' +\n",
              "          '<a target=\"_blank\" href=https://colab.research.google.com/notebooks/data_table.ipynb>data table notebook</a>'\n",
              "          + ' to learn more about interactive tables.';\n",
              "        element.innerHTML = '';\n",
              "        dataTable['output_type'] = 'display_data';\n",
              "        await google.colab.output.renderOutput(dataTable, element);\n",
              "        const docLink = document.createElement('div');\n",
              "        docLink.innerHTML = docLinkHtml;\n",
              "        element.appendChild(docLink);\n",
              "      }\n",
              "    </script>\n",
              "  </div>\n",
              "\n",
              "\n",
              "<div id=\"df-98bd623c-b115-49ea-84eb-456bd7910468\">\n",
              "  <button class=\"colab-df-quickchart\" onclick=\"quickchart('df-98bd623c-b115-49ea-84eb-456bd7910468')\"\n",
              "            title=\"Suggest charts\"\n",
              "            style=\"display:none;\">\n",
              "\n",
              "<svg xmlns=\"http://www.w3.org/2000/svg\" height=\"24px\"viewBox=\"0 0 24 24\"\n",
              "     width=\"24px\">\n",
              "    <g>\n",
              "        <path d=\"M19 3H5c-1.1 0-2 .9-2 2v14c0 1.1.9 2 2 2h14c1.1 0 2-.9 2-2V5c0-1.1-.9-2-2-2zM9 17H7v-7h2v7zm4 0h-2V7h2v10zm4 0h-2v-4h2v4z\"/>\n",
              "    </g>\n",
              "</svg>\n",
              "  </button>\n",
              "\n",
              "<style>\n",
              "  .colab-df-quickchart {\n",
              "      --bg-color: #E8F0FE;\n",
              "      --fill-color: #1967D2;\n",
              "      --hover-bg-color: #E2EBFA;\n",
              "      --hover-fill-color: #174EA6;\n",
              "      --disabled-fill-color: #AAA;\n",
              "      --disabled-bg-color: #DDD;\n",
              "  }\n",
              "\n",
              "  [theme=dark] .colab-df-quickchart {\n",
              "      --bg-color: #3B4455;\n",
              "      --fill-color: #D2E3FC;\n",
              "      --hover-bg-color: #434B5C;\n",
              "      --hover-fill-color: #FFFFFF;\n",
              "      --disabled-bg-color: #3B4455;\n",
              "      --disabled-fill-color: #666;\n",
              "  }\n",
              "\n",
              "  .colab-df-quickchart {\n",
              "    background-color: var(--bg-color);\n",
              "    border: none;\n",
              "    border-radius: 50%;\n",
              "    cursor: pointer;\n",
              "    display: none;\n",
              "    fill: var(--fill-color);\n",
              "    height: 32px;\n",
              "    padding: 0;\n",
              "    width: 32px;\n",
              "  }\n",
              "\n",
              "  .colab-df-quickchart:hover {\n",
              "    background-color: var(--hover-bg-color);\n",
              "    box-shadow: 0 1px 2px rgba(60, 64, 67, 0.3), 0 1px 3px 1px rgba(60, 64, 67, 0.15);\n",
              "    fill: var(--button-hover-fill-color);\n",
              "  }\n",
              "\n",
              "  .colab-df-quickchart-complete:disabled,\n",
              "  .colab-df-quickchart-complete:disabled:hover {\n",
              "    background-color: var(--disabled-bg-color);\n",
              "    fill: var(--disabled-fill-color);\n",
              "    box-shadow: none;\n",
              "  }\n",
              "\n",
              "  .colab-df-spinner {\n",
              "    border: 2px solid var(--fill-color);\n",
              "    border-color: transparent;\n",
              "    border-bottom-color: var(--fill-color);\n",
              "    animation:\n",
              "      spin 1s steps(1) infinite;\n",
              "  }\n",
              "\n",
              "  @keyframes spin {\n",
              "    0% {\n",
              "      border-color: transparent;\n",
              "      border-bottom-color: var(--fill-color);\n",
              "      border-left-color: var(--fill-color);\n",
              "    }\n",
              "    20% {\n",
              "      border-color: transparent;\n",
              "      border-left-color: var(--fill-color);\n",
              "      border-top-color: var(--fill-color);\n",
              "    }\n",
              "    30% {\n",
              "      border-color: transparent;\n",
              "      border-left-color: var(--fill-color);\n",
              "      border-top-color: var(--fill-color);\n",
              "      border-right-color: var(--fill-color);\n",
              "    }\n",
              "    40% {\n",
              "      border-color: transparent;\n",
              "      border-right-color: var(--fill-color);\n",
              "      border-top-color: var(--fill-color);\n",
              "    }\n",
              "    60% {\n",
              "      border-color: transparent;\n",
              "      border-right-color: var(--fill-color);\n",
              "    }\n",
              "    80% {\n",
              "      border-color: transparent;\n",
              "      border-right-color: var(--fill-color);\n",
              "      border-bottom-color: var(--fill-color);\n",
              "    }\n",
              "    90% {\n",
              "      border-color: transparent;\n",
              "      border-bottom-color: var(--fill-color);\n",
              "    }\n",
              "  }\n",
              "</style>\n",
              "\n",
              "  <script>\n",
              "    async function quickchart(key) {\n",
              "      const quickchartButtonEl =\n",
              "        document.querySelector('#' + key + ' button');\n",
              "      quickchartButtonEl.disabled = true;  // To prevent multiple clicks.\n",
              "      quickchartButtonEl.classList.add('colab-df-spinner');\n",
              "      try {\n",
              "        const charts = await google.colab.kernel.invokeFunction(\n",
              "            'suggestCharts', [key], {});\n",
              "      } catch (error) {\n",
              "        console.error('Error during call to suggestCharts:', error);\n",
              "      }\n",
              "      quickchartButtonEl.classList.remove('colab-df-spinner');\n",
              "      quickchartButtonEl.classList.add('colab-df-quickchart-complete');\n",
              "    }\n",
              "    (() => {\n",
              "      let quickchartButtonEl =\n",
              "        document.querySelector('#df-98bd623c-b115-49ea-84eb-456bd7910468 button');\n",
              "      quickchartButtonEl.style.display =\n",
              "        google.colab.kernel.accessAllowed ? 'block' : 'none';\n",
              "    })();\n",
              "  </script>\n",
              "</div>\n",
              "\n",
              "    </div>\n",
              "  </div>\n"
            ],
            "application/vnd.google.colaboratory.intrinsic+json": {
              "type": "dataframe",
              "summary": "{\n  \"name\": \"pd\",\n  \"rows\": 3,\n  \"fields\": [\n    {\n      \"column\": \"mean_fit_time\",\n      \"properties\": {\n        \"dtype\": \"number\",\n        \"std\": 0.3353151799684055,\n        \"min\": 9.169756174087524,\n        \"max\": 9.83046579360962,\n        \"num_unique_values\": 3,\n        \"samples\": [\n          9.169756174087524,\n          9.599639415740967,\n          9.83046579360962\n        ],\n        \"semantic_type\": \"\",\n        \"description\": \"\"\n      }\n    },\n    {\n      \"column\": \"std_fit_time\",\n      \"properties\": {\n        \"dtype\": \"number\",\n        \"std\": 0.2816758454296194,\n        \"min\": 0.3028044068597958,\n        \"max\": 0.8268768289311914,\n        \"num_unique_values\": 3,\n        \"samples\": [\n          0.3028044068597958,\n          0.8268768289311914,\n          0.3858576074904884\n        ],\n        \"semantic_type\": \"\",\n        \"description\": \"\"\n      }\n    },\n    {\n      \"column\": \"mean_score_time\",\n      \"properties\": {\n        \"dtype\": \"number\",\n        \"std\": 0.0047308723785393254,\n        \"min\": 0.015249411265055338,\n        \"max\": 0.02470707893371582,\n        \"num_unique_values\": 3,\n        \"samples\": [\n          0.02470707893371582,\n          0.015249411265055338,\n          0.020218769709269207\n        ],\n        \"semantic_type\": \"\",\n        \"description\": \"\"\n      }\n    },\n    {\n      \"column\": \"std_score_time\",\n      \"properties\": {\n        \"dtype\": \"number\",\n        \"std\": 0.005037012672413971,\n        \"min\": 0.0010642379812525911,\n        \"max\": 0.010260824912081511,\n        \"num_unique_values\": 3,\n        \"samples\": [\n          0.010260824912081511,\n          0.0010642379812525911,\n          0.0021014106113180393\n        ],\n        \"semantic_type\": \"\",\n        \"description\": \"\"\n      }\n    },\n    {\n      \"column\": \"param_criterion\",\n      \"properties\": {\n        \"dtype\": \"string\",\n        \"num_unique_values\": 3,\n        \"samples\": [\n          \"gini\",\n          \"entropy\",\n          \"log_loss\"\n        ],\n        \"semantic_type\": \"\",\n        \"description\": \"\"\n      }\n    },\n    {\n      \"column\": \"params\",\n      \"properties\": {\n        \"dtype\": \"object\",\n        \"semantic_type\": \"\",\n        \"description\": \"\"\n      }\n    },\n    {\n      \"column\": \"split0_test_score\",\n      \"properties\": {\n        \"dtype\": \"number\",\n        \"std\": 0.017094190622378404,\n        \"min\": 0.7643869891576314,\n        \"max\": 0.7939949958298582,\n        \"num_unique_values\": 2,\n        \"samples\": [\n          0.7939949958298582,\n          0.7643869891576314\n        ],\n        \"semantic_type\": \"\",\n        \"description\": \"\"\n      }\n    },\n    {\n      \"column\": \"split1_test_score\",\n      \"properties\": {\n        \"dtype\": \"number\",\n        \"std\": 0.014445794892150783,\n        \"min\": 0.7585487906588824,\n        \"max\": 0.7835696413678065,\n        \"num_unique_values\": 2,\n        \"samples\": [\n          0.7835696413678065,\n          0.7585487906588824\n        ],\n        \"semantic_type\": \"\",\n        \"description\": \"\"\n      }\n    },\n    {\n      \"column\": \"split2_test_score\",\n      \"properties\": {\n        \"dtype\": \"number\",\n        \"std\": 0.01709656712601005,\n        \"min\": 0.7551786459057417,\n        \"max\": 0.7847907688030029,\n        \"num_unique_values\": 2,\n        \"samples\": [\n          0.7847907688030029,\n          0.7551786459057417\n        ],\n        \"semantic_type\": \"\",\n        \"description\": \"\"\n      }\n    },\n    {\n      \"column\": \"mean_test_score\",\n      \"properties\": {\n        \"dtype\": \"number\",\n        \"std\": 0.01621218421351312,\n        \"min\": 0.7593714752407518,\n        \"max\": 0.7874518020002226,\n        \"num_unique_values\": 2,\n        \"samples\": [\n          0.7874518020002226,\n          0.7593714752407518\n        ],\n        \"semantic_type\": \"\",\n        \"description\": \"\"\n      }\n    },\n    {\n      \"column\": \"std_test_score\",\n      \"properties\": {\n        \"dtype\": \"number\",\n        \"std\": 0.0004904495079052368,\n        \"min\": 0.0038040332807946393,\n        \"max\": 0.004653516747033663,\n        \"num_unique_values\": 2,\n        \"samples\": [\n          0.004653516747033663,\n          0.0038040332807946393\n        ],\n        \"semantic_type\": \"\",\n        \"description\": \"\"\n      }\n    },\n    {\n      \"column\": \"rank_test_score\",\n      \"properties\": {\n        \"dtype\": \"int32\",\n        \"num_unique_values\": 2,\n        \"samples\": [\n          1,\n          3\n        ],\n        \"semantic_type\": \"\",\n        \"description\": \"\"\n      }\n    },\n    {\n      \"column\": \"split0_train_score\",\n      \"properties\": {\n        \"dtype\": \"number\",\n        \"std\": 0.0,\n        \"min\": 1.0,\n        \"max\": 1.0,\n        \"num_unique_values\": 1,\n        \"samples\": [\n          1.0\n        ],\n        \"semantic_type\": \"\",\n        \"description\": \"\"\n      }\n    },\n    {\n      \"column\": \"split1_train_score\",\n      \"properties\": {\n        \"dtype\": \"number\",\n        \"std\": 0.0,\n        \"min\": 1.0,\n        \"max\": 1.0,\n        \"num_unique_values\": 1,\n        \"samples\": [\n          1.0\n        ],\n        \"semantic_type\": \"\",\n        \"description\": \"\"\n      }\n    },\n    {\n      \"column\": \"split2_train_score\",\n      \"properties\": {\n        \"dtype\": \"number\",\n        \"std\": 0.0,\n        \"min\": 1.0,\n        \"max\": 1.0,\n        \"num_unique_values\": 1,\n        \"samples\": [\n          1.0\n        ],\n        \"semantic_type\": \"\",\n        \"description\": \"\"\n      }\n    },\n    {\n      \"column\": \"mean_train_score\",\n      \"properties\": {\n        \"dtype\": \"number\",\n        \"std\": 0.0,\n        \"min\": 1.0,\n        \"max\": 1.0,\n        \"num_unique_values\": 1,\n        \"samples\": [\n          1.0\n        ],\n        \"semantic_type\": \"\",\n        \"description\": \"\"\n      }\n    },\n    {\n      \"column\": \"std_train_score\",\n      \"properties\": {\n        \"dtype\": \"number\",\n        \"std\": 0.0,\n        \"min\": 0.0,\n        \"max\": 0.0,\n        \"num_unique_values\": 1,\n        \"samples\": [\n          0.0\n        ],\n        \"semantic_type\": \"\",\n        \"description\": \"\"\n      }\n    }\n  ]\n}"
            }
          },
          "metadata": {},
          "execution_count": 50
        }
      ]
    },
    {
      "cell_type": "markdown",
      "source": [
        "## Evaluating model with best parameters"
      ],
      "metadata": {
        "id": "YwPeB71E2w6V"
      }
    },
    {
      "cell_type": "code",
      "source": [
        "model_dt = DecisionTreeClassifier(criterion='entropy').fit(X_train, y_train)\n",
        "model_dt.score(X_train, y_train)"
      ],
      "metadata": {
        "colab": {
          "base_uri": "https://localhost:8080/"
        },
        "id": "5l_Ain8LzUXA",
        "outputId": "bdbea7df-909c-444b-a4f5-fc5ccf007362"
      },
      "execution_count": null,
      "outputs": [
        {
          "output_type": "execute_result",
          "data": {
            "text/plain": [
              "1.0"
            ]
          },
          "metadata": {},
          "execution_count": 25
        }
      ]
    },
    {
      "cell_type": "code",
      "source": [
        "model_dt.score(X_test, y_test)"
      ],
      "metadata": {
        "colab": {
          "base_uri": "https://localhost:8080/"
        },
        "id": "eyaWa14uzUMQ",
        "outputId": "9a3f9a46-8e01-4799-d3d9-8041e3561c28"
      },
      "execution_count": null,
      "outputs": [
        {
          "output_type": "execute_result",
          "data": {
            "text/plain": [
              "0.8040869283165748"
            ]
          },
          "metadata": {},
          "execution_count": 26
        }
      ]
    },
    {
      "cell_type": "code",
      "source": [
        "y_pred_dt = model_dt.predict(X_test)"
      ],
      "metadata": {
        "id": "U9tc4EqJnL8M"
      },
      "execution_count": null,
      "outputs": []
    },
    {
      "cell_type": "code",
      "source": [
        "print(classification_report(y_test, y_pred_dt))"
      ],
      "metadata": {
        "colab": {
          "base_uri": "https://localhost:8080/"
        },
        "id": "e0X4qbbo0Qvg",
        "outputId": "a7bd4be4-cf68-4cde-d2b8-42cf71a8e264"
      },
      "execution_count": null,
      "outputs": [
        {
          "output_type": "stream",
          "name": "stdout",
          "text": [
            "              precision    recall  f1-score   support\n",
            "\n",
            "           0       0.84      0.85      0.85       925\n",
            "           1       0.79      0.78      0.78       925\n",
            "           2       0.82      0.87      0.84       923\n",
            "           3       0.79      0.79      0.79       927\n",
            "           4       0.81      0.80      0.80       926\n",
            "           5       0.78      0.76      0.77       924\n",
            "           6       0.79      0.77      0.78       925\n",
            "           7       0.89      0.86      0.87       926\n",
            "           8       0.84      0.88      0.86       926\n",
            "           9       0.69      0.68      0.69       922\n",
            "\n",
            "    accuracy                           0.80      9249\n",
            "   macro avg       0.80      0.80      0.80      9249\n",
            "weighted avg       0.80      0.80      0.80      9249\n",
            "\n"
          ]
        }
      ]
    },
    {
      "cell_type": "code",
      "source": [
        "con_mx_dt = confusion_matrix(y_test, y_pred_dt)\n",
        "con_mx_dt"
      ],
      "metadata": {
        "colab": {
          "base_uri": "https://localhost:8080/"
        },
        "id": "5emxU4wwzClI",
        "outputId": "f4699221-e6f5-4ea5-d331-012621e507bf"
      },
      "execution_count": null,
      "outputs": [
        {
          "output_type": "execute_result",
          "data": {
            "text/plain": [
              "array([[796,  15,   9,  20,  10,  32,  10,   6,   8,  19],\n",
              "       [ 13, 727,  13,  11,  24,  13,  13,   5,  19,  87],\n",
              "       [  8,  21, 793,   5,  22,  13,  13,  20,   5,  23],\n",
              "       [ 31,  20,  11, 725,  10,  22,  46,   8,  20,  34],\n",
              "       [ 24,  23,  20,   9, 732,  27,  16,  18,  25,  32],\n",
              "       [ 32,  16,  26,  26,  28, 698,  55,  12,  11,  20],\n",
              "       [ 10,  12,  12,  61,  10,  58, 713,   8,  18,  23],\n",
              "       [  8,   8,  37,   6,  17,   9,   6, 803,   7,  25],\n",
              "       [  6,  13,   6,  11,  20,  13,   9,   7, 818,  23],\n",
              "       [ 19,  77,  30,  35,  22,  22,  27,  23,  32, 635]])"
            ]
          },
          "metadata": {},
          "execution_count": 80
        }
      ]
    },
    {
      "cell_type": "code",
      "source": [
        "plt.matshow(con_mx_dt, cmap=plt.cm.gray);"
      ],
      "metadata": {
        "colab": {
          "base_uri": "https://localhost:8080/",
          "height": 437
        },
        "id": "cTGnOa7TzCin",
        "outputId": "b632e787-55a3-478e-e8c8-a0f8dd7b693e"
      },
      "execution_count": null,
      "outputs": [
        {
          "output_type": "display_data",
          "data": {
            "text/plain": [
              "<Figure size 480x480 with 1 Axes>"
            ],
            "image/png": "[encoded data removed]"
          },
          "metadata": {}
        }
      ]
    },
    {
      "cell_type": "markdown",
      "source": [
        "# 4. Random Forest"
      ],
      "metadata": {
        "id": "M7QmgPkAiQak"
      }
    },
    {
      "cell_type": "code",
      "source": [
        "from sklearn.ensemble import RandomForestClassifier"
      ],
      "metadata": {
        "id": "y01SvODo03Rq"
      },
      "execution_count": null,
      "outputs": []
    },
    {
      "cell_type": "code",
      "source": [
        "model_rf = RandomForestClassifier().fit(X_train, y_train)\n",
        "model_rf.score(X_train, y_train)"
      ],
      "metadata": {
        "colab": {
          "base_uri": "https://localhost:8080/"
        },
        "id": "Jbuf2hheiTsd",
        "outputId": "33f08e34-3099-440a-eddd-e6aeabf88d3d"
      },
      "execution_count": null,
      "outputs": [
        {
          "output_type": "execute_result",
          "data": {
            "text/plain": [
              "1.0"
            ]
          },
          "metadata": {},
          "execution_count": 46
        }
      ]
    },
    {
      "cell_type": "code",
      "source": [
        "model_rf.score(X_test, y_test)"
      ],
      "metadata": {
        "colab": {
          "base_uri": "https://localhost:8080/"
        },
        "id": "YtPGgUWxkCIa",
        "outputId": "e63002fb-792b-44d2-a03b-e98e8ca79e20"
      },
      "execution_count": null,
      "outputs": [
        {
          "output_type": "execute_result",
          "data": {
            "text/plain": [
              "0.9068007352146178"
            ]
          },
          "metadata": {},
          "execution_count": 47
        }
      ]
    },
    {
      "cell_type": "markdown",
      "source": [
        "## Hyperparameter Tuning on Random Forest"
      ],
      "metadata": {
        "id": "EMM91-ch5yaa"
      }
    },
    {
      "cell_type": "code",
      "source": [
        "param_grid = [\n",
        "    {\n",
        "    'n_estimators': [10, 100, 500],\n",
        "    'criterion': ['gini', 'entropy', 'log_loss']\n",
        "    }\n",
        "]\n",
        "\n",
        "grid_search_rf = GridSearchCV(RandomForestClassifier(random_state=42, n_jobs=-1), param_grid, cv=3, scoring=\"accuracy\", return_train_score=True)\n",
        "grid_search_rf.fit(X_train, y_train)"
      ],
      "metadata": {
        "colab": {
          "base_uri": "https://localhost:8080/",
          "height": 118
        },
        "id": "elzFroTy55F0",
        "outputId": "ccaf13af-79c4-4a70-9aa8-97170e63e018"
      },
      "execution_count": null,
      "outputs": [
        {
          "output_type": "execute_result",
          "data": {
            "text/plain": [
              "GridSearchCV(cv=3, estimator=RandomForestClassifier(n_jobs=-1, random_state=42),\n",
              "             param_grid=[{'criterion': ['gini', 'entropy', 'log_loss'],\n",
              "                          'n_estimators': [10, 100, 500]}],\n",
              "             return_train_score=True, scoring='accuracy')"
            ],
            "text/html": [
              "<style>#sk-container-id-4 {color: black;background-color: white;}#sk-container-id-4 pre{padding: 0;}#sk-container-id-4 div.sk-toggleable {background-color: white;}#sk-container-id-4 label.sk-toggleable__label {cursor: pointer;display: block;width: 100%;margin-bottom: 0;padding: 0.3em;box-sizing: border-box;text-align: center;}#sk-container-id-4 label.sk-toggleable__label-arrow:before {content: \"▸\";float: left;margin-right: 0.25em;color: #696969;}#sk-container-id-4 label.sk-toggleable__label-arrow:hover:before {color: black;}#sk-container-id-4 div.sk-estimator:hover label.sk-toggleable__label-arrow:before {color: black;}#sk-container-id-4 div.sk-toggleable__content {max-height: 0;max-width: 0;overflow: hidden;text-align: left;background-color: #f0f8ff;}#sk-container-id-4 div.sk-toggleable__content pre {margin: 0.2em;color: black;border-radius: 0.25em;background-color: #f0f8ff;}#sk-container-id-4 input.sk-toggleable__control:checked~div.sk-toggleable__content {max-height: 200px;max-width: 100%;overflow: auto;}#sk-container-id-4 input.sk-toggleable__control:checked~label.sk-toggleable__label-arrow:before {content: \"▾\";}#sk-container-id-4 div.sk-estimator input.sk-toggleable__control:checked~label.sk-toggleable__label {background-color: #d4ebff;}#sk-container-id-4 div.sk-label input.sk-toggleable__control:checked~label.sk-toggleable__label {background-color: #d4ebff;}#sk-container-id-4 input.sk-hidden--visually {border: 0;clip: rect(1px 1px 1px 1px);clip: rect(1px, 1px, 1px, 1px);height: 1px;margin: -1px;overflow: hidden;padding: 0;position: absolute;width: 1px;}#sk-container-id-4 div.sk-estimator {font-family: monospace;background-color: #f0f8ff;border: 1px dotted black;border-radius: 0.25em;box-sizing: border-box;margin-bottom: 0.5em;}#sk-container-id-4 div.sk-estimator:hover {background-color: #d4ebff;}#sk-container-id-4 div.sk-parallel-item::after {content: \"\";width: 100%;border-bottom: 1px solid gray;flex-grow: 1;}#sk-container-id-4 div.sk-label:hover label.sk-toggleable__label {background-color: #d4ebff;}#sk-container-id-4 div.sk-serial::before {content: \"\";position: absolute;border-left: 1px solid gray;box-sizing: border-box;top: 0;bottom: 0;left: 50%;z-index: 0;}#sk-container-id-4 div.sk-serial {display: flex;flex-direction: column;align-items: center;background-color: white;padding-right: 0.2em;padding-left: 0.2em;position: relative;}#sk-container-id-4 div.sk-item {position: relative;z-index: 1;}#sk-container-id-4 div.sk-parallel {display: flex;align-items: stretch;justify-content: center;background-color: white;position: relative;}#sk-container-id-4 div.sk-item::before, #sk-container-id-4 div.sk-parallel-item::before {content: \"\";position: absolute;border-left: 1px solid gray;box-sizing: border-box;top: 0;bottom: 0;left: 50%;z-index: -1;}#sk-container-id-4 div.sk-parallel-item {display: flex;flex-direction: column;z-index: 1;position: relative;background-color: white;}#sk-container-id-4 div.sk-parallel-item:first-child::after {align-self: flex-end;width: 50%;}#sk-container-id-4 div.sk-parallel-item:last-child::after {align-self: flex-start;width: 50%;}#sk-container-id-4 div.sk-parallel-item:only-child::after {width: 0;}#sk-container-id-4 div.sk-dashed-wrapped {border: 1px dashed gray;margin: 0 0.4em 0.5em 0.4em;box-sizing: border-box;padding-bottom: 0.4em;background-color: white;}#sk-container-id-4 div.sk-label label {font-family: monospace;font-weight: bold;display: inline-block;line-height: 1.2em;}#sk-container-id-4 div.sk-label-container {text-align: center;}#sk-container-id-4 div.sk-container {/* jupyter's `normalize.less` sets `[hidden] { display: none; }` but bootstrap.min.css set `[hidden] { display: none !important; }` so we also need the `!important` here to be able to override the default hidden behavior on the sphinx rendered scikit-learn.org. See: https://github.com/scikit-learn/scikit-learn/issues/21755 */display: inline-block !important;position: relative;}#sk-container-id-4 div.sk-text-repr-fallback {display: none;}</style><div id=\"sk-container-id-4\" class=\"sk-top-container\"><div class=\"sk-text-repr-fallback\"><pre>GridSearchCV(cv=3, estimator=RandomForestClassifier(n_jobs=-1, random_state=42),\n",
              "             param_grid=[{&#x27;criterion&#x27;: [&#x27;gini&#x27;, &#x27;entropy&#x27;, &#x27;log_loss&#x27;],\n",
              "                          &#x27;n_estimators&#x27;: [10, 100, 500]}],\n",
              "             return_train_score=True, scoring=&#x27;accuracy&#x27;)</pre><b>In a Jupyter environment, please rerun this cell to show the HTML representation or trust the notebook. <br />On GitHub, the HTML representation is unable to render, please try loading this page with nbviewer.org.</b></div><div class=\"sk-container\" hidden><div class=\"sk-item sk-dashed-wrapped\"><div class=\"sk-label-container\"><div class=\"sk-label sk-toggleable\"><input class=\"sk-toggleable__control sk-hidden--visually\" id=\"sk-estimator-id-10\" type=\"checkbox\" ><label for=\"sk-estimator-id-10\" class=\"sk-toggleable__label sk-toggleable__label-arrow\">GridSearchCV</label><div class=\"sk-toggleable__content\"><pre>GridSearchCV(cv=3, estimator=RandomForestClassifier(n_jobs=-1, random_state=42),\n",
              "             param_grid=[{&#x27;criterion&#x27;: [&#x27;gini&#x27;, &#x27;entropy&#x27;, &#x27;log_loss&#x27;],\n",
              "                          &#x27;n_estimators&#x27;: [10, 100, 500]}],\n",
              "             return_train_score=True, scoring=&#x27;accuracy&#x27;)</pre></div></div></div><div class=\"sk-parallel\"><div class=\"sk-parallel-item\"><div class=\"sk-item\"><div class=\"sk-label-container\"><div class=\"sk-label sk-toggleable\"><input class=\"sk-toggleable__control sk-hidden--visually\" id=\"sk-estimator-id-11\" type=\"checkbox\" ><label for=\"sk-estimator-id-11\" class=\"sk-toggleable__label sk-toggleable__label-arrow\">estimator: RandomForestClassifier</label><div class=\"sk-toggleable__content\"><pre>RandomForestClassifier(n_jobs=-1, random_state=42)</pre></div></div></div><div class=\"sk-serial\"><div class=\"sk-item\"><div class=\"sk-estimator sk-toggleable\"><input class=\"sk-toggleable__control sk-hidden--visually\" id=\"sk-estimator-id-12\" type=\"checkbox\" ><label for=\"sk-estimator-id-12\" class=\"sk-toggleable__label sk-toggleable__label-arrow\">RandomForestClassifier</label><div class=\"sk-toggleable__content\"><pre>RandomForestClassifier(n_jobs=-1, random_state=42)</pre></div></div></div></div></div></div></div></div></div></div>"
            ]
          },
          "metadata": {},
          "execution_count": 48
        }
      ]
    },
    {
      "cell_type": "code",
      "source": [
        "grid_search_rf.best_estimator_, grid_search_rf.best_score_"
      ],
      "metadata": {
        "colab": {
          "base_uri": "https://localhost:8080/"
        },
        "id": "vYVSBybftqCX",
        "outputId": "e5335b16-6a57-4ea6-9f9c-d30890507f69"
      },
      "execution_count": null,
      "outputs": [
        {
          "output_type": "execute_result",
          "data": {
            "text/plain": [
              "(RandomForestClassifier(criterion='entropy', n_estimators=500, n_jobs=-1,\n",
              "                        random_state=42),\n",
              " 0.9053797553849209)"
            ]
          },
          "metadata": {},
          "execution_count": 49
        }
      ]
    },
    {
      "cell_type": "code",
      "source": [
        "pd.DataFrame(grid_search_rf.cv_results_)"
      ],
      "metadata": {
        "colab": {
          "base_uri": "https://localhost:8080/",
          "height": 820
        },
        "id": "jNh_IvjTtqAO",
        "outputId": "72218b15-75f0-4de8-ef93-1be55670ab59"
      },
      "execution_count": null,
      "outputs": [
        {
          "output_type": "execute_result",
          "data": {
            "text/plain": [
              "   mean_fit_time  std_fit_time  mean_score_time  std_score_time  \\\n",
              "0       1.459473      0.057860         0.050079        0.002081   \n",
              "1      17.569762      2.926253         0.454180        0.130840   \n",
              "2      79.845188      2.099322         1.562953        0.319848   \n",
              "3       2.009611      0.013553         0.061612        0.011406   \n",
              "4      22.101931      1.288530         0.371416        0.153151   \n",
              "5     108.488951      0.910418         1.199445        0.114499   \n",
              "6       2.481268      0.588677         0.075162        0.007801   \n",
              "7      22.638883      1.527135         0.454073        0.124686   \n",
              "8     107.805872      2.209413         1.915772        0.661805   \n",
              "\n",
              "  param_criterion param_n_estimators  \\\n",
              "0            gini                 10   \n",
              "1            gini                100   \n",
              "2            gini                500   \n",
              "3         entropy                 10   \n",
              "4         entropy                100   \n",
              "5         entropy                500   \n",
              "6        log_loss                 10   \n",
              "7        log_loss                100   \n",
              "8        log_loss                500   \n",
              "\n",
              "                                           params  split0_test_score  \\\n",
              "0       {'criterion': 'gini', 'n_estimators': 10}           0.861829   \n",
              "1      {'criterion': 'gini', 'n_estimators': 100}           0.900751   \n",
              "2      {'criterion': 'gini', 'n_estimators': 500}           0.904226   \n",
              "3    {'criterion': 'entropy', 'n_estimators': 10}           0.866277   \n",
              "4   {'criterion': 'entropy', 'n_estimators': 100}           0.903253   \n",
              "5   {'criterion': 'entropy', 'n_estimators': 500}           0.905894   \n",
              "6   {'criterion': 'log_loss', 'n_estimators': 10}           0.866277   \n",
              "7  {'criterion': 'log_loss', 'n_estimators': 100}           0.903253   \n",
              "8  {'criterion': 'log_loss', 'n_estimators': 500}           0.905894   \n",
              "\n",
              "   split1_test_score  split2_test_score  mean_test_score  std_test_score  \\\n",
              "0           0.854184           0.852217         0.856077        0.004146   \n",
              "1           0.897693           0.897678         0.898707        0.001445   \n",
              "2           0.902141           0.903517         0.903295        0.000866   \n",
              "3           0.857659           0.851800         0.858579        0.005946   \n",
              "4           0.898666           0.900320         0.900746        0.001897   \n",
              "5           0.904365           0.905881         0.905380        0.000718   \n",
              "6           0.857659           0.851800         0.858579        0.005946   \n",
              "7           0.898666           0.900320         0.900746        0.001897   \n",
              "8           0.904365           0.905881         0.905380        0.000718   \n",
              "\n",
              "   rank_test_score  split0_train_score  split1_train_score  \\\n",
              "0                9            0.998054            0.998679   \n",
              "1                6            1.000000            1.000000   \n",
              "2                3            1.000000            1.000000   \n",
              "3                7            0.998123            0.998679   \n",
              "4                4            1.000000            1.000000   \n",
              "5                1            1.000000            1.000000   \n",
              "6                7            0.998123            0.998679   \n",
              "7                4            1.000000            1.000000   \n",
              "8                1            1.000000            1.000000   \n",
              "\n",
              "   split2_train_score  mean_train_score  std_train_score  \n",
              "0            0.998332          0.998355         0.000256  \n",
              "1            1.000000          1.000000         0.000000  \n",
              "2            1.000000          1.000000         0.000000  \n",
              "3            0.998401          0.998401         0.000227  \n",
              "4            1.000000          1.000000         0.000000  \n",
              "5            1.000000          1.000000         0.000000  \n",
              "6            0.998401          0.998401         0.000227  \n",
              "7            1.000000          1.000000         0.000000  \n",
              "8            1.000000          1.000000         0.000000  "
            ],
            "text/html": [
              "\n",
              "  <div id=\"df-98f45782-3547-4c7a-8582-9732518a699f\" class=\"colab-df-container\">\n",
              "    <div>\n",
              "<style scoped>\n",
              "    .dataframe tbody tr th:only-of-type {\n",
              "        vertical-align: middle;\n",
              "    }\n",
              "\n",
              "    .dataframe tbody tr th {\n",
              "        vertical-align: top;\n",
              "    }\n",
              "\n",
              "    .dataframe thead th {\n",
              "        text-align: right;\n",
              "    }\n",
              "</style>\n",
              "<table border=\"1\" class=\"dataframe\">\n",
              "  <thead>\n",
              "    <tr style=\"text-align: right;\">\n",
              "      <th></th>\n",
              "      <th>mean_fit_time</th>\n",
              "      <th>std_fit_time</th>\n",
              "      <th>mean_score_time</th>\n",
              "      <th>std_score_time</th>\n",
              "      <th>param_criterion</th>\n",
              "      <th>param_n_estimators</th>\n",
              "      <th>params</th>\n",
              "      <th>split0_test_score</th>\n",
              "      <th>split1_test_score</th>\n",
              "      <th>split2_test_score</th>\n",
              "      <th>mean_test_score</th>\n",
              "      <th>std_test_score</th>\n",
              "      <th>rank_test_score</th>\n",
              "      <th>split0_train_score</th>\n",
              "      <th>split1_train_score</th>\n",
              "      <th>split2_train_score</th>\n",
              "      <th>mean_train_score</th>\n",
              "      <th>std_train_score</th>\n",
              "    </tr>\n",
              "  </thead>\n",
              "  <tbody>\n",
              "    <tr>\n",
              "      <th>0</th>\n",
              "      <td>1.459473</td>\n",
              "      <td>0.057860</td>\n",
              "      <td>0.050079</td>\n",
              "      <td>0.002081</td>\n",
              "      <td>gini</td>\n",
              "      <td>10</td>\n",
              "      <td>{'criterion': 'gini', 'n_estimators': 10}</td>\n",
              "      <td>0.861829</td>\n",
              "      <td>0.854184</td>\n",
              "      <td>0.852217</td>\n",
              "      <td>0.856077</td>\n",
              "      <td>0.004146</td>\n",
              "      <td>9</td>\n",
              "      <td>0.998054</td>\n",
              "      <td>0.998679</td>\n",
              "      <td>0.998332</td>\n",
              "      <td>0.998355</td>\n",
              "      <td>0.000256</td>\n",
              "    </tr>\n",
              "    <tr>\n",
              "      <th>1</th>\n",
              "      <td>17.569762</td>\n",
              "      <td>2.926253</td>\n",
              "      <td>0.454180</td>\n",
              "      <td>0.130840</td>\n",
              "      <td>gini</td>\n",
              "      <td>100</td>\n",
              "      <td>{'criterion': 'gini', 'n_estimators': 100}</td>\n",
              "      <td>0.900751</td>\n",
              "      <td>0.897693</td>\n",
              "      <td>0.897678</td>\n",
              "      <td>0.898707</td>\n",
              "      <td>0.001445</td>\n",
              "      <td>6</td>\n",
              "      <td>1.000000</td>\n",
              "      <td>1.000000</td>\n",
              "      <td>1.000000</td>\n",
              "      <td>1.000000</td>\n",
              "      <td>0.000000</td>\n",
              "    </tr>\n",
              "    <tr>\n",
              "      <th>2</th>\n",
              "      <td>79.845188</td>\n",
              "      <td>2.099322</td>\n",
              "      <td>1.562953</td>\n",
              "      <td>0.319848</td>\n",
              "      <td>gini</td>\n",
              "      <td>500</td>\n",
              "      <td>{'criterion': 'gini', 'n_estimators': 500}</td>\n",
              "      <td>0.904226</td>\n",
              "      <td>0.902141</td>\n",
              "      <td>0.903517</td>\n",
              "      <td>0.903295</td>\n",
              "      <td>0.000866</td>\n",
              "      <td>3</td>\n",
              "      <td>1.000000</td>\n",
              "      <td>1.000000</td>\n",
              "      <td>1.000000</td>\n",
              "      <td>1.000000</td>\n",
              "      <td>0.000000</td>\n",
              "    </tr>\n",
              "    <tr>\n",
              "      <th>3</th>\n",
              "      <td>2.009611</td>\n",
              "      <td>0.013553</td>\n",
              "      <td>0.061612</td>\n",
              "      <td>0.011406</td>\n",
              "      <td>entropy</td>\n",
              "      <td>10</td>\n",
              "      <td>{'criterion': 'entropy', 'n_estimators': 10}</td>\n",
              "      <td>0.866277</td>\n",
              "      <td>0.857659</td>\n",
              "      <td>0.851800</td>\n",
              "      <td>0.858579</td>\n",
              "      <td>0.005946</td>\n",
              "      <td>7</td>\n",
              "      <td>0.998123</td>\n",
              "      <td>0.998679</td>\n",
              "      <td>0.998401</td>\n",
              "      <td>0.998401</td>\n",
              "      <td>0.000227</td>\n",
              "    </tr>\n",
              "    <tr>\n",
              "      <th>4</th>\n",
              "      <td>22.101931</td>\n",
              "      <td>1.288530</td>\n",
              "      <td>0.371416</td>\n",
              "      <td>0.153151</td>\n",
              "      <td>entropy</td>\n",
              "      <td>100</td>\n",
              "      <td>{'criterion': 'entropy', 'n_estimators': 100}</td>\n",
              "      <td>0.903253</td>\n",
              "      <td>0.898666</td>\n",
              "      <td>0.900320</td>\n",
              "      <td>0.900746</td>\n",
              "      <td>0.001897</td>\n",
              "      <td>4</td>\n",
              "      <td>1.000000</td>\n",
              "      <td>1.000000</td>\n",
              "      <td>1.000000</td>\n",
              "      <td>1.000000</td>\n",
              "      <td>0.000000</td>\n",
              "    </tr>\n",
              "    <tr>\n",
              "      <th>5</th>\n",
              "      <td>108.488951</td>\n",
              "      <td>0.910418</td>\n",
              "      <td>1.199445</td>\n",
              "      <td>0.114499</td>\n",
              "      <td>entropy</td>\n",
              "      <td>500</td>\n",
              "      <td>{'criterion': 'entropy', 'n_estimators': 500}</td>\n",
              "      <td>0.905894</td>\n",
              "      <td>0.904365</td>\n",
              "      <td>0.905881</td>\n",
              "      <td>0.905380</td>\n",
              "      <td>0.000718</td>\n",
              "      <td>1</td>\n",
              "      <td>1.000000</td>\n",
              "      <td>1.000000</td>\n",
              "      <td>1.000000</td>\n",
              "      <td>1.000000</td>\n",
              "      <td>0.000000</td>\n",
              "    </tr>\n",
              "    <tr>\n",
              "      <th>6</th>\n",
              "      <td>2.481268</td>\n",
              "      <td>0.588677</td>\n",
              "      <td>0.075162</td>\n",
              "      <td>0.007801</td>\n",
              "      <td>log_loss</td>\n",
              "      <td>10</td>\n",
              "      <td>{'criterion': 'log_loss', 'n_estimators': 10}</td>\n",
              "      <td>0.866277</td>\n",
              "      <td>0.857659</td>\n",
              "      <td>0.851800</td>\n",
              "      <td>0.858579</td>\n",
              "      <td>0.005946</td>\n",
              "      <td>7</td>\n",
              "      <td>0.998123</td>\n",
              "      <td>0.998679</td>\n",
              "      <td>0.998401</td>\n",
              "      <td>0.998401</td>\n",
              "      <td>0.000227</td>\n",
              "    </tr>\n",
              "    <tr>\n",
              "      <th>7</th>\n",
              "      <td>22.638883</td>\n",
              "      <td>1.527135</td>\n",
              "      <td>0.454073</td>\n",
              "      <td>0.124686</td>\n",
              "      <td>log_loss</td>\n",
              "      <td>100</td>\n",
              "      <td>{'criterion': 'log_loss', 'n_estimators': 100}</td>\n",
              "      <td>0.903253</td>\n",
              "      <td>0.898666</td>\n",
              "      <td>0.900320</td>\n",
              "      <td>0.900746</td>\n",
              "      <td>0.001897</td>\n",
              "      <td>4</td>\n",
              "      <td>1.000000</td>\n",
              "      <td>1.000000</td>\n",
              "      <td>1.000000</td>\n",
              "      <td>1.000000</td>\n",
              "      <td>0.000000</td>\n",
              "    </tr>\n",
              "    <tr>\n",
              "      <th>8</th>\n",
              "      <td>107.805872</td>\n",
              "      <td>2.209413</td>\n",
              "      <td>1.915772</td>\n",
              "      <td>0.661805</td>\n",
              "      <td>log_loss</td>\n",
              "      <td>500</td>\n",
              "      <td>{'criterion': 'log_loss', 'n_estimators': 500}</td>\n",
              "      <td>0.905894</td>\n",
              "      <td>0.904365</td>\n",
              "      <td>0.905881</td>\n",
              "      <td>0.905380</td>\n",
              "      <td>0.000718</td>\n",
              "      <td>1</td>\n",
              "      <td>1.000000</td>\n",
              "      <td>1.000000</td>\n",
              "      <td>1.000000</td>\n",
              "      <td>1.000000</td>\n",
              "      <td>0.000000</td>\n",
              "    </tr>\n",
              "  </tbody>\n",
              "</table>\n",
              "</div>\n",
              "    <div class=\"colab-df-buttons\">\n",
              "\n",
              "  <div class=\"colab-df-container\">\n",
              "    <button class=\"colab-df-convert\" onclick=\"convertToInteractive('df-98f45782-3547-4c7a-8582-9732518a699f')\"\n",
              "            title=\"Convert this dataframe to an interactive table.\"\n",
              "            style=\"display:none;\">\n",
              "\n",
              "  <svg xmlns=\"http://www.w3.org/2000/svg\" height=\"24px\" viewBox=\"0 -960 960 960\">\n",
              "    <path d=\"M120-120v-720h720v720H120Zm60-500h600v-160H180v160Zm220 220h160v-160H400v160Zm0 220h160v-160H400v160ZM180-400h160v-160H180v160Zm440 0h160v-160H620v160ZM180-180h160v-160H180v160Zm440 0h160v-160H620v160Z\"/>\n",
              "  </svg>\n",
              "    </button>\n",
              "\n",
              "  <style>\n",
              "    .colab-df-container {\n",
              "      display:flex;\n",
              "      gap: 12px;\n",
              "    }\n",
              "\n",
              "    .colab-df-convert {\n",
              "      background-color: #E8F0FE;\n",
              "      border: none;\n",
              "      border-radius: 50%;\n",
              "      cursor: pointer;\n",
              "      display: none;\n",
              "      fill: #1967D2;\n",
              "      height: 32px;\n",
              "      padding: 0 0 0 0;\n",
              "      width: 32px;\n",
              "    }\n",
              "\n",
              "    .colab-df-convert:hover {\n",
              "      background-color: #E2EBFA;\n",
              "      box-shadow: 0px 1px 2px rgba(60, 64, 67, 0.3), 0px 1px 3px 1px rgba(60, 64, 67, 0.15);\n",
              "      fill: #174EA6;\n",
              "    }\n",
              "\n",
              "    .colab-df-buttons div {\n",
              "      margin-bottom: 4px;\n",
              "    }\n",
              "\n",
              "    [theme=dark] .colab-df-convert {\n",
              "      background-color: #3B4455;\n",
              "      fill: #D2E3FC;\n",
              "    }\n",
              "\n",
              "    [theme=dark] .colab-df-convert:hover {\n",
              "      background-color: #434B5C;\n",
              "      box-shadow: 0px 1px 3px 1px rgba(0, 0, 0, 0.15);\n",
              "      filter: drop-shadow(0px 1px 2px rgba(0, 0, 0, 0.3));\n",
              "      fill: #FFFFFF;\n",
              "    }\n",
              "  </style>\n",
              "\n",
              "    <script>\n",
              "      const buttonEl =\n",
              "        document.querySelector('#df-98f45782-3547-4c7a-8582-9732518a699f button.colab-df-convert');\n",
              "      buttonEl.style.display =\n",
              "        google.colab.kernel.accessAllowed ? 'block' : 'none';\n",
              "\n",
              "      async function convertToInteractive(key) {\n",
              "        const element = document.querySelector('#df-98f45782-3547-4c7a-8582-9732518a699f');\n",
              "        const dataTable =\n",
              "          await google.colab.kernel.invokeFunction('convertToInteractive',\n",
              "                                                    [key], {});\n",
              "        if (!dataTable) return;\n",
              "\n",
              "        const docLinkHtml = 'Like what you see? Visit the ' +\n",
              "          '<a target=\"_blank\" href=https://colab.research.google.com/notebooks/data_table.ipynb>data table notebook</a>'\n",
              "          + ' to learn more about interactive tables.';\n",
              "        element.innerHTML = '';\n",
              "        dataTable['output_type'] = 'display_data';\n",
              "        await google.colab.output.renderOutput(dataTable, element);\n",
              "        const docLink = document.createElement('div');\n",
              "        docLink.innerHTML = docLinkHtml;\n",
              "        element.appendChild(docLink);\n",
              "      }\n",
              "    </script>\n",
              "  </div>\n",
              "\n",
              "\n",
              "<div id=\"df-f58362bd-92c7-45c5-b5b2-3135cbb08cd1\">\n",
              "  <button class=\"colab-df-quickchart\" onclick=\"quickchart('df-f58362bd-92c7-45c5-b5b2-3135cbb08cd1')\"\n",
              "            title=\"Suggest charts\"\n",
              "            style=\"display:none;\">\n",
              "\n",
              "<svg xmlns=\"http://www.w3.org/2000/svg\" height=\"24px\"viewBox=\"0 0 24 24\"\n",
              "     width=\"24px\">\n",
              "    <g>\n",
              "        <path d=\"M19 3H5c-1.1 0-2 .9-2 2v14c0 1.1.9 2 2 2h14c1.1 0 2-.9 2-2V5c0-1.1-.9-2-2-2zM9 17H7v-7h2v7zm4 0h-2V7h2v10zm4 0h-2v-4h2v4z\"/>\n",
              "    </g>\n",
              "</svg>\n",
              "  </button>\n",
              "\n",
              "<style>\n",
              "  .colab-df-quickchart {\n",
              "      --bg-color: #E8F0FE;\n",
              "      --fill-color: #1967D2;\n",
              "      --hover-bg-color: #E2EBFA;\n",
              "      --hover-fill-color: #174EA6;\n",
              "      --disabled-fill-color: #AAA;\n",
              "      --disabled-bg-color: #DDD;\n",
              "  }\n",
              "\n",
              "  [theme=dark] .colab-df-quickchart {\n",
              "      --bg-color: #3B4455;\n",
              "      --fill-color: #D2E3FC;\n",
              "      --hover-bg-color: #434B5C;\n",
              "      --hover-fill-color: #FFFFFF;\n",
              "      --disabled-bg-color: #3B4455;\n",
              "      --disabled-fill-color: #666;\n",
              "  }\n",
              "\n",
              "  .colab-df-quickchart {\n",
              "    background-color: var(--bg-color);\n",
              "    border: none;\n",
              "    border-radius: 50%;\n",
              "    cursor: pointer;\n",
              "    display: none;\n",
              "    fill: var(--fill-color);\n",
              "    height: 32px;\n",
              "    padding: 0;\n",
              "    width: 32px;\n",
              "  }\n",
              "\n",
              "  .colab-df-quickchart:hover {\n",
              "    background-color: var(--hover-bg-color);\n",
              "    box-shadow: 0 1px 2px rgba(60, 64, 67, 0.3), 0 1px 3px 1px rgba(60, 64, 67, 0.15);\n",
              "    fill: var(--button-hover-fill-color);\n",
              "  }\n",
              "\n",
              "  .colab-df-quickchart-complete:disabled,\n",
              "  .colab-df-quickchart-complete:disabled:hover {\n",
              "    background-color: var(--disabled-bg-color);\n",
              "    fill: var(--disabled-fill-color);\n",
              "    box-shadow: none;\n",
              "  }\n",
              "\n",
              "  .colab-df-spinner {\n",
              "    border: 2px solid var(--fill-color);\n",
              "    border-color: transparent;\n",
              "    border-bottom-color: var(--fill-color);\n",
              "    animation:\n",
              "      spin 1s steps(1) infinite;\n",
              "  }\n",
              "\n",
              "  @keyframes spin {\n",
              "    0% {\n",
              "      border-color: transparent;\n",
              "      border-bottom-color: var(--fill-color);\n",
              "      border-left-color: var(--fill-color);\n",
              "    }\n",
              "    20% {\n",
              "      border-color: transparent;\n",
              "      border-left-color: var(--fill-color);\n",
              "      border-top-color: var(--fill-color);\n",
              "    }\n",
              "    30% {\n",
              "      border-color: transparent;\n",
              "      border-left-color: var(--fill-color);\n",
              "      border-top-color: var(--fill-color);\n",
              "      border-right-color: var(--fill-color);\n",
              "    }\n",
              "    40% {\n",
              "      border-color: transparent;\n",
              "      border-right-color: var(--fill-color);\n",
              "      border-top-color: var(--fill-color);\n",
              "    }\n",
              "    60% {\n",
              "      border-color: transparent;\n",
              "      border-right-color: var(--fill-color);\n",
              "    }\n",
              "    80% {\n",
              "      border-color: transparent;\n",
              "      border-right-color: var(--fill-color);\n",
              "      border-bottom-color: var(--fill-color);\n",
              "    }\n",
              "    90% {\n",
              "      border-color: transparent;\n",
              "      border-bottom-color: var(--fill-color);\n",
              "    }\n",
              "  }\n",
              "</style>\n",
              "\n",
              "  <script>\n",
              "    async function quickchart(key) {\n",
              "      const quickchartButtonEl =\n",
              "        document.querySelector('#' + key + ' button');\n",
              "      quickchartButtonEl.disabled = true;  // To prevent multiple clicks.\n",
              "      quickchartButtonEl.classList.add('colab-df-spinner');\n",
              "      try {\n",
              "        const charts = await google.colab.kernel.invokeFunction(\n",
              "            'suggestCharts', [key], {});\n",
              "      } catch (error) {\n",
              "        console.error('Error during call to suggestCharts:', error);\n",
              "      }\n",
              "      quickchartButtonEl.classList.remove('colab-df-spinner');\n",
              "      quickchartButtonEl.classList.add('colab-df-quickchart-complete');\n",
              "    }\n",
              "    (() => {\n",
              "      let quickchartButtonEl =\n",
              "        document.querySelector('#df-f58362bd-92c7-45c5-b5b2-3135cbb08cd1 button');\n",
              "      quickchartButtonEl.style.display =\n",
              "        google.colab.kernel.accessAllowed ? 'block' : 'none';\n",
              "    })();\n",
              "  </script>\n",
              "</div>\n",
              "\n",
              "    </div>\n",
              "  </div>\n"
            ],
            "application/vnd.google.colaboratory.intrinsic+json": {
              "type": "dataframe",
              "summary": "{\n  \"name\": \"pd\",\n  \"rows\": 9,\n  \"fields\": [\n    {\n      \"column\": \"mean_fit_time\",\n      \"properties\": {\n        \"dtype\": \"number\",\n        \"std\": 45.187140963480495,\n        \"min\": 1.45947265625,\n        \"max\": 108.48895120620728,\n        \"num_unique_values\": 9,\n        \"samples\": [\n          22.638882557551067,\n          17.569762388865154,\n          108.48895120620728\n        ],\n        \"semantic_type\": \"\",\n        \"description\": \"\"\n      }\n    },\n    {\n      \"column\": \"std_fit_time\",\n      \"properties\": {\n        \"dtype\": \"number\",\n        \"std\": 1.0010799318287271,\n        \"min\": 0.013552970979782383,\n        \"max\": 2.9262527427286606,\n        \"num_unique_values\": 9,\n        \"samples\": [\n          1.5271350516308677,\n          2.9262527427286606,\n          0.9104175429076496\n        ],\n        \"semantic_type\": \"\",\n        \"description\": \"\"\n      }\n    },\n    {\n      \"column\": \"mean_score_time\",\n      \"properties\": {\n        \"dtype\": \"number\",\n        \"std\": 0.6998917841513994,\n        \"min\": 0.0500791072845459,\n        \"max\": 1.9157720406850178,\n        \"num_unique_values\": 9,\n        \"samples\": [\n          0.4540730317433675,\n          0.45418016115824383,\n          1.1994446118672688\n        ],\n        \"semantic_type\": \"\",\n        \"description\": \"\"\n      }\n    },\n    {\n      \"column\": \"std_score_time\",\n      \"properties\": {\n        \"dtype\": \"number\",\n        \"std\": 0.20944361713570966,\n        \"min\": 0.0020810518150672776,\n        \"max\": 0.6618046301951622,\n        \"num_unique_values\": 9,\n        \"samples\": [\n          0.1246858428334204,\n          0.1308396367890678,\n          0.11449854503606004\n        ],\n        \"semantic_type\": \"\",\n        \"description\": \"\"\n      }\n    },\n    {\n      \"column\": \"param_criterion\",\n      \"properties\": {\n        \"dtype\": \"category\",\n        \"num_unique_values\": 3,\n        \"samples\": [\n          \"gini\",\n          \"entropy\",\n          \"log_loss\"\n        ],\n        \"semantic_type\": \"\",\n        \"description\": \"\"\n      }\n    },\n    {\n      \"column\": \"param_n_estimators\",\n      \"properties\": {\n        \"dtype\": \"date\",\n        \"min\": 10,\n        \"max\": 500,\n        \"num_unique_values\": 3,\n        \"samples\": [\n          10,\n          100,\n          500\n        ],\n        \"semantic_type\": \"\",\n        \"description\": \"\"\n      }\n    },\n    {\n      \"column\": \"params\",\n      \"properties\": {\n        \"dtype\": \"object\",\n        \"semantic_type\": \"\",\n        \"description\": \"\"\n      }\n    },\n    {\n      \"column\": \"split0_test_score\",\n      \"properties\": {\n        \"dtype\": \"number\",\n        \"std\": 0.01964382922845882,\n        \"min\": 0.8618293021962746,\n        \"max\": 0.9058938003892132,\n        \"num_unique_values\": 6,\n        \"samples\": [\n          0.8618293021962746,\n          0.9007506255212677,\n          0.9058938003892132\n        ],\n        \"semantic_type\": \"\",\n        \"description\": \"\"\n      }\n    },\n    {\n      \"column\": \"split1_test_score\",\n      \"properties\": {\n        \"dtype\": \"number\",\n        \"std\": 0.022391521420532114,\n        \"min\": 0.8541840422574367,\n        \"max\": 0.9043647484014457,\n        \"num_unique_values\": 6,\n        \"samples\": [\n          0.8541840422574367,\n          0.8976925215457325,\n          0.9043647484014457\n        ],\n        \"semantic_type\": \"\",\n        \"description\": \"\"\n      }\n    },\n    {\n      \"column\": \"split2_test_score\",\n      \"properties\": {\n        \"dtype\": \"number\",\n        \"std\": 0.02530314116815774,\n        \"min\": 0.851800361462533,\n        \"max\": 0.905880717364104,\n        \"num_unique_values\": 6,\n        \"samples\": [\n          0.8522174336160155,\n          0.8976782983456137,\n          0.905880717364104\n        ],\n        \"semantic_type\": \"\",\n        \"description\": \"\"\n      }\n    },\n    {\n      \"column\": \"mean_test_score\",\n      \"properties\": {\n        \"dtype\": \"number\",\n        \"std\": 0.022432154579181632,\n        \"min\": 0.8560769260232423,\n        \"max\": 0.9053797553849209,\n        \"num_unique_values\": 6,\n        \"samples\": [\n          0.8560769260232423,\n          0.8987071484708714,\n          0.9053797553849209\n        ],\n        \"semantic_type\": \"\",\n        \"description\": \"\"\n      }\n    },\n    {\n      \"column\": \"std_test_score\",\n      \"properties\": {\n        \"dtype\": \"number\",\n        \"std\": 0.0021562107414378833,\n        \"min\": 0.0007177381944990943,\n        \"max\": 0.00594592943552064,\n        \"num_unique_values\": 6,\n        \"samples\": [\n          0.004146023083564996,\n          0.0014449681464719668,\n          0.0007177381944990943\n        ],\n        \"semantic_type\": \"\",\n        \"description\": \"\"\n      }\n    },\n    {\n      \"column\": \"rank_test_score\",\n      \"properties\": {\n        \"dtype\": \"int32\",\n        \"num_unique_values\": 6,\n        \"samples\": [\n          9,\n          6,\n          1\n        ],\n        \"semantic_type\": \"\",\n        \"description\": \"\"\n      }\n    },\n    {\n      \"column\": \"split0_train_score\",\n      \"properties\": {\n        \"dtype\": \"number\",\n        \"std\": 0.0009501435398044879,\n        \"min\": 0.9980537985681518,\n        \"max\": 1.0,\n        \"num_unique_values\": 3,\n        \"samples\": [\n          0.9980537985681518,\n          1.0,\n          0.9981233057621464\n        ],\n        \"semantic_type\": \"\",\n        \"description\": \"\"\n      }\n    },\n    {\n      \"column\": \"split1_train_score\",\n      \"properties\": {\n        \"dtype\": \"number\",\n        \"std\": 0.000660318342948496,\n        \"min\": 0.998679363314103,\n        \"max\": 1.0,\n        \"num_unique_values\": 2,\n        \"samples\": [\n          1.0,\n          0.998679363314103\n        ],\n        \"semantic_type\": \"\",\n        \"description\": \"\"\n      }\n    },\n    {\n      \"column\": \"split2_train_score\",\n      \"properties\": {\n        \"dtype\": \"number\",\n        \"std\": 0.0008111090873476361,\n        \"min\": 0.9983319432860718,\n        \"max\": 1.0,\n        \"num_unique_values\": 3,\n        \"samples\": [\n          0.9983319432860718,\n          1.0\n        ],\n        \"semantic_type\": \"\",\n        \"description\": \"\"\n      }\n    },\n    {\n      \"column\": \"mean_train_score\",\n      \"properties\": {\n        \"dtype\": \"number\",\n        \"std\": 0.0008071478096363848,\n        \"min\": 0.9983550350561089,\n        \"max\": 1.0,\n        \"num_unique_values\": 3,\n        \"samples\": [\n          0.9983550350561089,\n          1.0\n        ],\n        \"semantic_type\": \"\",\n        \"description\": \"\"\n      }\n    },\n    {\n      \"column\": \"std_train_score\",\n      \"properties\": {\n        \"dtype\": \"number\",\n        \"std\": 0.00011861475474663748,\n        \"min\": 0.0,\n        \"max\": 0.00025590719050316586,\n        \"num_unique_values\": 3,\n        \"samples\": [\n          0.00025590719050316586,\n          0.0\n        ],\n        \"semantic_type\": \"\",\n        \"description\": \"\"\n      }\n    }\n  ]\n}"
            }
          },
          "metadata": {},
          "execution_count": 51
        }
      ]
    },
    {
      "cell_type": "markdown",
      "source": [
        "## Evaluating model with best parameters"
      ],
      "metadata": {
        "id": "OHrKD7IUuLPP"
      }
    },
    {
      "cell_type": "code",
      "source": [
        "model_rf = RandomForestClassifier(criterion='entropy', n_estimators=500, n_jobs=-1,\n",
        "                        random_state=42).fit(X_train, y_train)\n",
        "model_rf.score(X_train, y_train)"
      ],
      "metadata": {
        "colab": {
          "base_uri": "https://localhost:8080/"
        },
        "id": "s-v3RLYDtp9m",
        "outputId": "568ac4fc-61fe-4ee4-9616-886d1d7f0dda"
      },
      "execution_count": null,
      "outputs": [
        {
          "output_type": "execute_result",
          "data": {
            "text/plain": [
              "1.0"
            ]
          },
          "metadata": {},
          "execution_count": 30
        }
      ]
    },
    {
      "cell_type": "code",
      "source": [
        "model_rf.score(X_test, y_test)"
      ],
      "metadata": {
        "colab": {
          "base_uri": "https://localhost:8080/"
        },
        "id": "qSZU6CBJuUyD",
        "outputId": "d3c1372c-9c21-465f-8caf-7f59c6888b80"
      },
      "execution_count": null,
      "outputs": [
        {
          "output_type": "execute_result",
          "data": {
            "text/plain": [
              "0.9122067250513569"
            ]
          },
          "metadata": {},
          "execution_count": 31
        }
      ]
    },
    {
      "cell_type": "code",
      "source": [
        "y_pred_rf = model_rf.predict(X_test)"
      ],
      "metadata": {
        "id": "ZunIXj8T4Twt"
      },
      "execution_count": null,
      "outputs": []
    },
    {
      "cell_type": "code",
      "source": [
        "print(classification_report(y_test, y_pred_rf))"
      ],
      "metadata": {
        "colab": {
          "base_uri": "https://localhost:8080/"
        },
        "id": "BkqO8sBg0x6H",
        "outputId": "9331c759-1f8c-43a1-beb1-49353eda7e9c"
      },
      "execution_count": null,
      "outputs": [
        {
          "output_type": "stream",
          "name": "stdout",
          "text": [
            "              precision    recall  f1-score   support\n",
            "\n",
            "           0       0.95      0.92      0.93       925\n",
            "           1       0.91      0.89      0.90       925\n",
            "           2       0.93      0.94      0.93       923\n",
            "           3       0.96      0.88      0.92       927\n",
            "           4       0.93      0.91      0.92       926\n",
            "           5       0.91      0.88      0.90       924\n",
            "           6       0.91      0.88      0.90       925\n",
            "           7       0.93      0.94      0.94       926\n",
            "           8       0.88      0.97      0.92       926\n",
            "           9       0.84      0.90      0.87       922\n",
            "\n",
            "    accuracy                           0.91      9249\n",
            "   macro avg       0.91      0.91      0.91      9249\n",
            "weighted avg       0.91      0.91      0.91      9249\n",
            "\n"
          ]
        }
      ]
    },
    {
      "cell_type": "code",
      "source": [
        "con_mx_rf = confusion_matrix(y_test, y_pred_rf)\n",
        "con_mx_rf"
      ],
      "metadata": {
        "colab": {
          "base_uri": "https://localhost:8080/"
        },
        "id": "88k-xybo4TuE",
        "outputId": "9538c606-ee90-47b4-d00d-a895eb7c3db9"
      },
      "execution_count": null,
      "outputs": [
        {
          "output_type": "execute_result",
          "data": {
            "text/plain": [
              "array([[851,  11,   4,   8,   6,  13,   2,   9,   7,  14],\n",
              "       [  4, 820,   8,   0,   7,   3,   7,   2,  22,  52],\n",
              "       [  1,   9, 871,   0,   9,   3,   2,  10,   8,  10],\n",
              "       [ 23,   4,   3, 812,   1,  13,  27,   6,  21,  17],\n",
              "       [  4,   5,   7,   0, 844,  11,   5,  11,  20,  19],\n",
              "       [  7,   8,  11,   1,  18, 816,  24,  20,   6,  13],\n",
              "       [  4,   7,   9,  18,   2,  34, 815,   4,  16,  16],\n",
              "       [  0,   6,  13,   0,  13,   0,   0, 875,   9,  10],\n",
              "       [  0,   3,   4,   1,   5,   2,   1,   1, 900,   9],\n",
              "       [  6,  30,  11,   4,   7,   4,  10,   3,  14, 833]])"
            ]
          },
          "metadata": {},
          "execution_count": 83
        }
      ]
    },
    {
      "cell_type": "code",
      "source": [
        "plt.matshow(con_mx_rf, cmap=plt.cm.gray);"
      ],
      "metadata": {
        "colab": {
          "base_uri": "https://localhost:8080/",
          "height": 437
        },
        "id": "lFs3cuOt4TrM",
        "outputId": "0062382b-e4aa-47ec-f619-7cc623167197"
      },
      "execution_count": null,
      "outputs": [
        {
          "output_type": "display_data",
          "data": {
            "text/plain": [
              "<Figure size 480x480 with 1 Axes>"
            ],
            "image/png": "[encoded data removed]"
          },
          "metadata": {}
        }
      ]
    },
    {
      "cell_type": "markdown",
      "source": [
        "#5. KNN"
      ],
      "metadata": {
        "id": "dBNYzxynkEVz"
      }
    },
    {
      "cell_type": "code",
      "source": [
        "from sklearn.neighbors import KNeighborsClassifier"
      ],
      "metadata": {
        "id": "jwgdhA9u16xa"
      },
      "execution_count": null,
      "outputs": []
    },
    {
      "cell_type": "code",
      "source": [
        "model_knn = RandomForestClassifier().fit(X_train, y_train)\n",
        "model_knn.score(X_train, y_train)"
      ],
      "metadata": {
        "colab": {
          "base_uri": "https://localhost:8080/"
        },
        "id": "mRaWlhZokGdE",
        "outputId": "4d266848-11f4-4646-e070-3daaa39e64c8"
      },
      "execution_count": null,
      "outputs": [
        {
          "output_type": "execute_result",
          "data": {
            "text/plain": [
              "1.0"
            ]
          },
          "metadata": {},
          "execution_count": 35
        }
      ]
    },
    {
      "cell_type": "code",
      "source": [
        "model_knn.score(X_test, y_test)"
      ],
      "metadata": {
        "colab": {
          "base_uri": "https://localhost:8080/"
        },
        "id": "vM5l12l7kji7",
        "outputId": "686ad00b-3068-485f-d791-47bab9d6a728"
      },
      "execution_count": null,
      "outputs": [
        {
          "output_type": "execute_result",
          "data": {
            "text/plain": [
              "0.9062601362309439"
            ]
          },
          "metadata": {},
          "execution_count": 36
        }
      ]
    },
    {
      "cell_type": "markdown",
      "source": [
        "## Hyperparameter Tuning on KNN"
      ],
      "metadata": {
        "id": "gC6J0CXP52Hb"
      }
    },
    {
      "cell_type": "code",
      "source": [
        "param_grid = [\n",
        "    {\n",
        "    'n_neighbors': [3, 5, 10]\n",
        "    }\n",
        "]\n",
        "\n",
        "grid_search_knn = GridSearchCV(KNeighborsClassifier(n_jobs=-1), param_grid, cv=3, scoring=\"accuracy\", return_train_score=True)\n",
        "grid_search_knn.fit(X_train, y_train)"
      ],
      "metadata": {
        "colab": {
          "base_uri": "https://localhost:8080/",
          "height": 118
        },
        "id": "2Eh9anAU54et",
        "outputId": "4fdb6978-e0c4-4584-f4e2-a7f1a499e419"
      },
      "execution_count": null,
      "outputs": [
        {
          "output_type": "execute_result",
          "data": {
            "text/plain": [
              "GridSearchCV(cv=3, estimator=KNeighborsClassifier(n_jobs=-1),\n",
              "             param_grid=[{'n_neighbors': [3, 5, 10]}], return_train_score=True,\n",
              "             scoring='accuracy')"
            ],
            "text/html": [
              "<style>#sk-container-id-5 {color: black;background-color: white;}#sk-container-id-5 pre{padding: 0;}#sk-container-id-5 div.sk-toggleable {background-color: white;}#sk-container-id-5 label.sk-toggleable__label {cursor: pointer;display: block;width: 100%;margin-bottom: 0;padding: 0.3em;box-sizing: border-box;text-align: center;}#sk-container-id-5 label.sk-toggleable__label-arrow:before {content: \"▸\";float: left;margin-right: 0.25em;color: #696969;}#sk-container-id-5 label.sk-toggleable__label-arrow:hover:before {color: black;}#sk-container-id-5 div.sk-estimator:hover label.sk-toggleable__label-arrow:before {color: black;}#sk-container-id-5 div.sk-toggleable__content {max-height: 0;max-width: 0;overflow: hidden;text-align: left;background-color: #f0f8ff;}#sk-container-id-5 div.sk-toggleable__content pre {margin: 0.2em;color: black;border-radius: 0.25em;background-color: #f0f8ff;}#sk-container-id-5 input.sk-toggleable__control:checked~div.sk-toggleable__content {max-height: 200px;max-width: 100%;overflow: auto;}#sk-container-id-5 input.sk-toggleable__control:checked~label.sk-toggleable__label-arrow:before {content: \"▾\";}#sk-container-id-5 div.sk-estimator input.sk-toggleable__control:checked~label.sk-toggleable__label {background-color: #d4ebff;}#sk-container-id-5 div.sk-label input.sk-toggleable__control:checked~label.sk-toggleable__label {background-color: #d4ebff;}#sk-container-id-5 input.sk-hidden--visually {border: 0;clip: rect(1px 1px 1px 1px);clip: rect(1px, 1px, 1px, 1px);height: 1px;margin: -1px;overflow: hidden;padding: 0;position: absolute;width: 1px;}#sk-container-id-5 div.sk-estimator {font-family: monospace;background-color: #f0f8ff;border: 1px dotted black;border-radius: 0.25em;box-sizing: border-box;margin-bottom: 0.5em;}#sk-container-id-5 div.sk-estimator:hover {background-color: #d4ebff;}#sk-container-id-5 div.sk-parallel-item::after {content: \"\";width: 100%;border-bottom: 1px solid gray;flex-grow: 1;}#sk-container-id-5 div.sk-label:hover label.sk-toggleable__label {background-color: #d4ebff;}#sk-container-id-5 div.sk-serial::before {content: \"\";position: absolute;border-left: 1px solid gray;box-sizing: border-box;top: 0;bottom: 0;left: 50%;z-index: 0;}#sk-container-id-5 div.sk-serial {display: flex;flex-direction: column;align-items: center;background-color: white;padding-right: 0.2em;padding-left: 0.2em;position: relative;}#sk-container-id-5 div.sk-item {position: relative;z-index: 1;}#sk-container-id-5 div.sk-parallel {display: flex;align-items: stretch;justify-content: center;background-color: white;position: relative;}#sk-container-id-5 div.sk-item::before, #sk-container-id-5 div.sk-parallel-item::before {content: \"\";position: absolute;border-left: 1px solid gray;box-sizing: border-box;top: 0;bottom: 0;left: 50%;z-index: -1;}#sk-container-id-5 div.sk-parallel-item {display: flex;flex-direction: column;z-index: 1;position: relative;background-color: white;}#sk-container-id-5 div.sk-parallel-item:first-child::after {align-self: flex-end;width: 50%;}#sk-container-id-5 div.sk-parallel-item:last-child::after {align-self: flex-start;width: 50%;}#sk-container-id-5 div.sk-parallel-item:only-child::after {width: 0;}#sk-container-id-5 div.sk-dashed-wrapped {border: 1px dashed gray;margin: 0 0.4em 0.5em 0.4em;box-sizing: border-box;padding-bottom: 0.4em;background-color: white;}#sk-container-id-5 div.sk-label label {font-family: monospace;font-weight: bold;display: inline-block;line-height: 1.2em;}#sk-container-id-5 div.sk-label-container {text-align: center;}#sk-container-id-5 div.sk-container {/* jupyter's `normalize.less` sets `[hidden] { display: none; }` but bootstrap.min.css set `[hidden] { display: none !important; }` so we also need the `!important` here to be able to override the default hidden behavior on the sphinx rendered scikit-learn.org. See: https://github.com/scikit-learn/scikit-learn/issues/21755 */display: inline-block !important;position: relative;}#sk-container-id-5 div.sk-text-repr-fallback {display: none;}</style><div id=\"sk-container-id-5\" class=\"sk-top-container\"><div class=\"sk-text-repr-fallback\"><pre>GridSearchCV(cv=3, estimator=KNeighborsClassifier(n_jobs=-1),\n",
              "             param_grid=[{&#x27;n_neighbors&#x27;: [3, 5, 10]}], return_train_score=True,\n",
              "             scoring=&#x27;accuracy&#x27;)</pre><b>In a Jupyter environment, please rerun this cell to show the HTML representation or trust the notebook. <br />On GitHub, the HTML representation is unable to render, please try loading this page with nbviewer.org.</b></div><div class=\"sk-container\" hidden><div class=\"sk-item sk-dashed-wrapped\"><div class=\"sk-label-container\"><div class=\"sk-label sk-toggleable\"><input class=\"sk-toggleable__control sk-hidden--visually\" id=\"sk-estimator-id-13\" type=\"checkbox\" ><label for=\"sk-estimator-id-13\" class=\"sk-toggleable__label sk-toggleable__label-arrow\">GridSearchCV</label><div class=\"sk-toggleable__content\"><pre>GridSearchCV(cv=3, estimator=KNeighborsClassifier(n_jobs=-1),\n",
              "             param_grid=[{&#x27;n_neighbors&#x27;: [3, 5, 10]}], return_train_score=True,\n",
              "             scoring=&#x27;accuracy&#x27;)</pre></div></div></div><div class=\"sk-parallel\"><div class=\"sk-parallel-item\"><div class=\"sk-item\"><div class=\"sk-label-container\"><div class=\"sk-label sk-toggleable\"><input class=\"sk-toggleable__control sk-hidden--visually\" id=\"sk-estimator-id-14\" type=\"checkbox\" ><label for=\"sk-estimator-id-14\" class=\"sk-toggleable__label sk-toggleable__label-arrow\">estimator: KNeighborsClassifier</label><div class=\"sk-toggleable__content\"><pre>KNeighborsClassifier(n_jobs=-1)</pre></div></div></div><div class=\"sk-serial\"><div class=\"sk-item\"><div class=\"sk-estimator sk-toggleable\"><input class=\"sk-toggleable__control sk-hidden--visually\" id=\"sk-estimator-id-15\" type=\"checkbox\" ><label for=\"sk-estimator-id-15\" class=\"sk-toggleable__label sk-toggleable__label-arrow\">KNeighborsClassifier</label><div class=\"sk-toggleable__content\"><pre>KNeighborsClassifier(n_jobs=-1)</pre></div></div></div></div></div></div></div></div></div></div>"
            ]
          },
          "metadata": {},
          "execution_count": 57
        }
      ]
    },
    {
      "cell_type": "code",
      "source": [
        "grid_search_knn.best_estimator_, grid_search_knn.best_score_"
      ],
      "metadata": {
        "colab": {
          "base_uri": "https://localhost:8080/"
        },
        "id": "lLWWVG6w7cPN",
        "outputId": "213722fc-4224-4801-f3d4-25a3e2d6b72a"
      },
      "execution_count": null,
      "outputs": [
        {
          "output_type": "execute_result",
          "data": {
            "text/plain": [
              "(KNeighborsClassifier(n_jobs=-1), 0.8827671668711058)"
            ]
          },
          "metadata": {},
          "execution_count": 58
        }
      ]
    },
    {
      "cell_type": "code",
      "source": [
        "pd.DataFrame(grid_search_knn.cv_results_)"
      ],
      "metadata": {
        "colab": {
          "base_uri": "https://localhost:8080/",
          "height": 216
        },
        "id": "NHDKlZ3X7cMd",
        "outputId": "f9a93c06-85c5-4cdb-f7a4-ea2a9981cea1"
      },
      "execution_count": null,
      "outputs": [
        {
          "output_type": "execute_result",
          "data": {
            "text/plain": [
              "   mean_fit_time  std_fit_time  mean_score_time  std_score_time  \\\n",
              "0       0.107891      0.012665         8.162689        1.711753   \n",
              "1       0.078693      0.018922         6.948121        1.037456   \n",
              "2       0.082607      0.013303         7.325384        0.794945   \n",
              "\n",
              "  param_n_neighbors               params  split0_test_score  \\\n",
              "0                 3   {'n_neighbors': 3}           0.882819   \n",
              "1                 5   {'n_neighbors': 5}           0.885182   \n",
              "2                10  {'n_neighbors': 10}           0.877259   \n",
              "\n",
              "   split1_test_score  split2_test_score  mean_test_score  std_test_score  \\\n",
              "0           0.879622           0.880856         0.881099        0.001316   \n",
              "1           0.882124           0.880995         0.882767        0.001769   \n",
              "2           0.870448           0.871959         0.873222        0.002921   \n",
              "\n",
              "   rank_test_score  split0_train_score  split1_train_score  \\\n",
              "0                2            0.938139            0.939320   \n",
              "1                1            0.925488            0.924515   \n",
              "2                3            0.901022            0.904567   \n",
              "\n",
              "   split2_train_score  mean_train_score  std_train_score  \n",
              "0            0.940019          0.939159         0.000776  \n",
              "1            0.925910          0.925305         0.000584  \n",
              "2            0.906102          0.903897         0.002128  "
            ],
            "text/html": [
              "\n",
              "  <div id=\"df-ab611934-6e6e-483d-96e1-6368beec91e4\" class=\"colab-df-container\">\n",
              "    <div>\n",
              "<style scoped>\n",
              "    .dataframe tbody tr th:only-of-type {\n",
              "        vertical-align: middle;\n",
              "    }\n",
              "\n",
              "    .dataframe tbody tr th {\n",
              "        vertical-align: top;\n",
              "    }\n",
              "\n",
              "    .dataframe thead th {\n",
              "        text-align: right;\n",
              "    }\n",
              "</style>\n",
              "<table border=\"1\" class=\"dataframe\">\n",
              "  <thead>\n",
              "    <tr style=\"text-align: right;\">\n",
              "      <th></th>\n",
              "      <th>mean_fit_time</th>\n",
              "      <th>std_fit_time</th>\n",
              "      <th>mean_score_time</th>\n",
              "      <th>std_score_time</th>\n",
              "      <th>param_n_neighbors</th>\n",
              "      <th>params</th>\n",
              "      <th>split0_test_score</th>\n",
              "      <th>split1_test_score</th>\n",
              "      <th>split2_test_score</th>\n",
              "      <th>mean_test_score</th>\n",
              "      <th>std_test_score</th>\n",
              "      <th>rank_test_score</th>\n",
              "      <th>split0_train_score</th>\n",
              "      <th>split1_train_score</th>\n",
              "      <th>split2_train_score</th>\n",
              "      <th>mean_train_score</th>\n",
              "      <th>std_train_score</th>\n",
              "    </tr>\n",
              "  </thead>\n",
              "  <tbody>\n",
              "    <tr>\n",
              "      <th>0</th>\n",
              "      <td>0.107891</td>\n",
              "      <td>0.012665</td>\n",
              "      <td>8.162689</td>\n",
              "      <td>1.711753</td>\n",
              "      <td>3</td>\n",
              "      <td>{'n_neighbors': 3}</td>\n",
              "      <td>0.882819</td>\n",
              "      <td>0.879622</td>\n",
              "      <td>0.880856</td>\n",
              "      <td>0.881099</td>\n",
              "      <td>0.001316</td>\n",
              "      <td>2</td>\n",
              "      <td>0.938139</td>\n",
              "      <td>0.939320</td>\n",
              "      <td>0.940019</td>\n",
              "      <td>0.939159</td>\n",
              "      <td>0.000776</td>\n",
              "    </tr>\n",
              "    <tr>\n",
              "      <th>1</th>\n",
              "      <td>0.078693</td>\n",
              "      <td>0.018922</td>\n",
              "      <td>6.948121</td>\n",
              "      <td>1.037456</td>\n",
              "      <td>5</td>\n",
              "      <td>{'n_neighbors': 5}</td>\n",
              "      <td>0.885182</td>\n",
              "      <td>0.882124</td>\n",
              "      <td>0.880995</td>\n",
              "      <td>0.882767</td>\n",
              "      <td>0.001769</td>\n",
              "      <td>1</td>\n",
              "      <td>0.925488</td>\n",
              "      <td>0.924515</td>\n",
              "      <td>0.925910</td>\n",
              "      <td>0.925305</td>\n",
              "      <td>0.000584</td>\n",
              "    </tr>\n",
              "    <tr>\n",
              "      <th>2</th>\n",
              "      <td>0.082607</td>\n",
              "      <td>0.013303</td>\n",
              "      <td>7.325384</td>\n",
              "      <td>0.794945</td>\n",
              "      <td>10</td>\n",
              "      <td>{'n_neighbors': 10}</td>\n",
              "      <td>0.877259</td>\n",
              "      <td>0.870448</td>\n",
              "      <td>0.871959</td>\n",
              "      <td>0.873222</td>\n",
              "      <td>0.002921</td>\n",
              "      <td>3</td>\n",
              "      <td>0.901022</td>\n",
              "      <td>0.904567</td>\n",
              "      <td>0.906102</td>\n",
              "      <td>0.903897</td>\n",
              "      <td>0.002128</td>\n",
              "    </tr>\n",
              "  </tbody>\n",
              "</table>\n",
              "</div>\n",
              "    <div class=\"colab-df-buttons\">\n",
              "\n",
              "  <div class=\"colab-df-container\">\n",
              "    <button class=\"colab-df-convert\" onclick=\"convertToInteractive('df-ab611934-6e6e-483d-96e1-6368beec91e4')\"\n",
              "            title=\"Convert this dataframe to an interactive table.\"\n",
              "            style=\"display:none;\">\n",
              "\n",
              "  <svg xmlns=\"http://www.w3.org/2000/svg\" height=\"24px\" viewBox=\"0 -960 960 960\">\n",
              "    <path d=\"M120-120v-720h720v720H120Zm60-500h600v-160H180v160Zm220 220h160v-160H400v160Zm0 220h160v-160H400v160ZM180-400h160v-160H180v160Zm440 0h160v-160H620v160ZM180-180h160v-160H180v160Zm440 0h160v-160H620v160Z\"/>\n",
              "  </svg>\n",
              "    </button>\n",
              "\n",
              "  <style>\n",
              "    .colab-df-container {\n",
              "      display:flex;\n",
              "      gap: 12px;\n",
              "    }\n",
              "\n",
              "    .colab-df-convert {\n",
              "      background-color: #E8F0FE;\n",
              "      border: none;\n",
              "      border-radius: 50%;\n",
              "      cursor: pointer;\n",
              "      display: none;\n",
              "      fill: #1967D2;\n",
              "      height: 32px;\n",
              "      padding: 0 0 0 0;\n",
              "      width: 32px;\n",
              "    }\n",
              "\n",
              "    .colab-df-convert:hover {\n",
              "      background-color: #E2EBFA;\n",
              "      box-shadow: 0px 1px 2px rgba(60, 64, 67, 0.3), 0px 1px 3px 1px rgba(60, 64, 67, 0.15);\n",
              "      fill: #174EA6;\n",
              "    }\n",
              "\n",
              "    .colab-df-buttons div {\n",
              "      margin-bottom: 4px;\n",
              "    }\n",
              "\n",
              "    [theme=dark] .colab-df-convert {\n",
              "      background-color: #3B4455;\n",
              "      fill: #D2E3FC;\n",
              "    }\n",
              "\n",
              "    [theme=dark] .colab-df-convert:hover {\n",
              "      background-color: #434B5C;\n",
              "      box-shadow: 0px 1px 3px 1px rgba(0, 0, 0, 0.15);\n",
              "      filter: drop-shadow(0px 1px 2px rgba(0, 0, 0, 0.3));\n",
              "      fill: #FFFFFF;\n",
              "    }\n",
              "  </style>\n",
              "\n",
              "    <script>\n",
              "      const buttonEl =\n",
              "        document.querySelector('#df-ab611934-6e6e-483d-96e1-6368beec91e4 button.colab-df-convert');\n",
              "      buttonEl.style.display =\n",
              "        google.colab.kernel.accessAllowed ? 'block' : 'none';\n",
              "\n",
              "      async function convertToInteractive(key) {\n",
              "        const element = document.querySelector('#df-ab611934-6e6e-483d-96e1-6368beec91e4');\n",
              "        const dataTable =\n",
              "          await google.colab.kernel.invokeFunction('convertToInteractive',\n",
              "                                                    [key], {});\n",
              "        if (!dataTable) return;\n",
              "\n",
              "        const docLinkHtml = 'Like what you see? Visit the ' +\n",
              "          '<a target=\"_blank\" href=https://colab.research.google.com/notebooks/data_table.ipynb>data table notebook</a>'\n",
              "          + ' to learn more about interactive tables.';\n",
              "        element.innerHTML = '';\n",
              "        dataTable['output_type'] = 'display_data';\n",
              "        await google.colab.output.renderOutput(dataTable, element);\n",
              "        const docLink = document.createElement('div');\n",
              "        docLink.innerHTML = docLinkHtml;\n",
              "        element.appendChild(docLink);\n",
              "      }\n",
              "    </script>\n",
              "  </div>\n",
              "\n",
              "\n",
              "<div id=\"df-4422c0cc-baab-45e2-9458-4ee47fec6f5a\">\n",
              "  <button class=\"colab-df-quickchart\" onclick=\"quickchart('df-4422c0cc-baab-45e2-9458-4ee47fec6f5a')\"\n",
              "            title=\"Suggest charts\"\n",
              "            style=\"display:none;\">\n",
              "\n",
              "<svg xmlns=\"http://www.w3.org/2000/svg\" height=\"24px\"viewBox=\"0 0 24 24\"\n",
              "     width=\"24px\">\n",
              "    <g>\n",
              "        <path d=\"M19 3H5c-1.1 0-2 .9-2 2v14c0 1.1.9 2 2 2h14c1.1 0 2-.9 2-2V5c0-1.1-.9-2-2-2zM9 17H7v-7h2v7zm4 0h-2V7h2v10zm4 0h-2v-4h2v4z\"/>\n",
              "    </g>\n",
              "</svg>\n",
              "  </button>\n",
              "\n",
              "<style>\n",
              "  .colab-df-quickchart {\n",
              "      --bg-color: #E8F0FE;\n",
              "      --fill-color: #1967D2;\n",
              "      --hover-bg-color: #E2EBFA;\n",
              "      --hover-fill-color: #174EA6;\n",
              "      --disabled-fill-color: #AAA;\n",
              "      --disabled-bg-color: #DDD;\n",
              "  }\n",
              "\n",
              "  [theme=dark] .colab-df-quickchart {\n",
              "      --bg-color: #3B4455;\n",
              "      --fill-color: #D2E3FC;\n",
              "      --hover-bg-color: #434B5C;\n",
              "      --hover-fill-color: #FFFFFF;\n",
              "      --disabled-bg-color: #3B4455;\n",
              "      --disabled-fill-color: #666;\n",
              "  }\n",
              "\n",
              "  .colab-df-quickchart {\n",
              "    background-color: var(--bg-color);\n",
              "    border: none;\n",
              "    border-radius: 50%;\n",
              "    cursor: pointer;\n",
              "    display: none;\n",
              "    fill: var(--fill-color);\n",
              "    height: 32px;\n",
              "    padding: 0;\n",
              "    width: 32px;\n",
              "  }\n",
              "\n",
              "  .colab-df-quickchart:hover {\n",
              "    background-color: var(--hover-bg-color);\n",
              "    box-shadow: 0 1px 2px rgba(60, 64, 67, 0.3), 0 1px 3px 1px rgba(60, 64, 67, 0.15);\n",
              "    fill: var(--button-hover-fill-color);\n",
              "  }\n",
              "\n",
              "  .colab-df-quickchart-complete:disabled,\n",
              "  .colab-df-quickchart-complete:disabled:hover {\n",
              "    background-color: var(--disabled-bg-color);\n",
              "    fill: var(--disabled-fill-color);\n",
              "    box-shadow: none;\n",
              "  }\n",
              "\n",
              "  .colab-df-spinner {\n",
              "    border: 2px solid var(--fill-color);\n",
              "    border-color: transparent;\n",
              "    border-bottom-color: var(--fill-color);\n",
              "    animation:\n",
              "      spin 1s steps(1) infinite;\n",
              "  }\n",
              "\n",
              "  @keyframes spin {\n",
              "    0% {\n",
              "      border-color: transparent;\n",
              "      border-bottom-color: var(--fill-color);\n",
              "      border-left-color: var(--fill-color);\n",
              "    }\n",
              "    20% {\n",
              "      border-color: transparent;\n",
              "      border-left-color: var(--fill-color);\n",
              "      border-top-color: var(--fill-color);\n",
              "    }\n",
              "    30% {\n",
              "      border-color: transparent;\n",
              "      border-left-color: var(--fill-color);\n",
              "      border-top-color: var(--fill-color);\n",
              "      border-right-color: var(--fill-color);\n",
              "    }\n",
              "    40% {\n",
              "      border-color: transparent;\n",
              "      border-right-color: var(--fill-color);\n",
              "      border-top-color: var(--fill-color);\n",
              "    }\n",
              "    60% {\n",
              "      border-color: transparent;\n",
              "      border-right-color: var(--fill-color);\n",
              "    }\n",
              "    80% {\n",
              "      border-color: transparent;\n",
              "      border-right-color: var(--fill-color);\n",
              "      border-bottom-color: var(--fill-color);\n",
              "    }\n",
              "    90% {\n",
              "      border-color: transparent;\n",
              "      border-bottom-color: var(--fill-color);\n",
              "    }\n",
              "  }\n",
              "</style>\n",
              "\n",
              "  <script>\n",
              "    async function quickchart(key) {\n",
              "      const quickchartButtonEl =\n",
              "        document.querySelector('#' + key + ' button');\n",
              "      quickchartButtonEl.disabled = true;  // To prevent multiple clicks.\n",
              "      quickchartButtonEl.classList.add('colab-df-spinner');\n",
              "      try {\n",
              "        const charts = await google.colab.kernel.invokeFunction(\n",
              "            'suggestCharts', [key], {});\n",
              "      } catch (error) {\n",
              "        console.error('Error during call to suggestCharts:', error);\n",
              "      }\n",
              "      quickchartButtonEl.classList.remove('colab-df-spinner');\n",
              "      quickchartButtonEl.classList.add('colab-df-quickchart-complete');\n",
              "    }\n",
              "    (() => {\n",
              "      let quickchartButtonEl =\n",
              "        document.querySelector('#df-4422c0cc-baab-45e2-9458-4ee47fec6f5a button');\n",
              "      quickchartButtonEl.style.display =\n",
              "        google.colab.kernel.accessAllowed ? 'block' : 'none';\n",
              "    })();\n",
              "  </script>\n",
              "</div>\n",
              "\n",
              "    </div>\n",
              "  </div>\n"
            ],
            "application/vnd.google.colaboratory.intrinsic+json": {
              "type": "dataframe",
              "summary": "{\n  \"name\": \"pd\",\n  \"rows\": 3,\n  \"fields\": [\n    {\n      \"column\": \"mean_fit_time\",\n      \"properties\": {\n        \"dtype\": \"number\",\n        \"std\": 0.015849127998388175,\n        \"min\": 0.07869323094685872,\n        \"max\": 0.10789148012797038,\n        \"num_unique_values\": 3,\n        \"samples\": [\n          0.10789148012797038,\n          0.07869323094685872,\n          0.08260679244995117\n        ],\n        \"semantic_type\": \"\",\n        \"description\": \"\"\n      }\n    },\n    {\n      \"column\": \"std_fit_time\",\n      \"properties\": {\n        \"dtype\": \"number\",\n        \"std\": 0.0034431871953335366,\n        \"min\": 0.012664533117037451,\n        \"max\": 0.018921842020324008,\n        \"num_unique_values\": 3,\n        \"samples\": [\n          0.012664533117037451,\n          0.018921842020324008,\n          0.013302971081512481\n        ],\n        \"semantic_type\": \"\",\n        \"description\": \"\"\n      }\n    },\n    {\n      \"column\": \"mean_score_time\",\n      \"properties\": {\n        \"dtype\": \"number\",\n        \"std\": 0.6216354017685226,\n        \"min\": 6.948120752970378,\n        \"max\": 8.162688970565796,\n        \"num_unique_values\": 3,\n        \"samples\": [\n          8.162688970565796,\n          6.948120752970378,\n          7.32538366317749\n        ],\n        \"semantic_type\": \"\",\n        \"description\": \"\"\n      }\n    },\n    {\n      \"column\": \"std_score_time\",\n      \"properties\": {\n        \"dtype\": \"number\",\n        \"std\": 0.47504834254747164,\n        \"min\": 0.7949448398734076,\n        \"max\": 1.7117532060657035,\n        \"num_unique_values\": 3,\n        \"samples\": [\n          1.7117532060657035,\n          1.0374564616545354,\n          0.7949448398734076\n        ],\n        \"semantic_type\": \"\",\n        \"description\": \"\"\n      }\n    },\n    {\n      \"column\": \"param_n_neighbors\",\n      \"properties\": {\n        \"dtype\": \"date\",\n        \"min\": 3,\n        \"max\": 10,\n        \"num_unique_values\": 3,\n        \"samples\": [\n          3,\n          5,\n          10\n        ],\n        \"semantic_type\": \"\",\n        \"description\": \"\"\n      }\n    },\n    {\n      \"column\": \"params\",\n      \"properties\": {\n        \"dtype\": \"object\",\n        \"semantic_type\": \"\",\n        \"description\": \"\"\n      }\n    },\n    {\n      \"column\": \"split0_test_score\",\n      \"properties\": {\n        \"dtype\": \"number\",\n        \"std\": 0.004067719442811327,\n        \"min\": 0.8772588268001112,\n        \"max\": 0.8851820961912705,\n        \"num_unique_values\": 3,\n        \"samples\": [\n          0.8828190158465388,\n          0.8851820961912705,\n          0.8772588268001112\n        ],\n        \"semantic_type\": \"\",\n        \"description\": \"\"\n      }\n    },\n    {\n      \"column\": \"split1_test_score\",\n      \"properties\": {\n        \"dtype\": \"number\",\n        \"std\": 0.006147718762161778,\n        \"min\": 0.8704475952182374,\n        \"max\": 0.8821239922157353,\n        \"num_unique_values\": 3,\n        \"samples\": [\n          0.8796219071448429,\n          0.8821239922157353,\n          0.8704475952182374\n        ],\n        \"semantic_type\": \"\",\n        \"description\": \"\"\n      }\n    },\n    {\n      \"column\": \"split2_test_score\",\n      \"properties\": {\n        \"dtype\": \"number\",\n        \"std\": 0.005177596121099994,\n        \"min\": 0.8719588488808564,\n        \"max\": 0.8809954122063117,\n        \"num_unique_values\": 3,\n        \"samples\": [\n          0.8808563881551509,\n          0.8809954122063117,\n          0.8719588488808564\n        ],\n        \"semantic_type\": \"\",\n        \"description\": \"\"\n      }\n    },\n    {\n      \"column\": \"mean_test_score\",\n      \"properties\": {\n        \"dtype\": \"number\",\n        \"std\": 0.005098200282870686,\n        \"min\": 0.8732217569664017,\n        \"max\": 0.8827671668711058,\n        \"num_unique_values\": 3,\n        \"samples\": [\n          0.8810991037155108,\n          0.8827671668711058,\n          0.8732217569664017\n        ],\n        \"semantic_type\": \"\",\n        \"description\": \"\"\n      }\n    },\n    {\n      \"column\": \"std_test_score\",\n      \"properties\": {\n        \"dtype\": \"number\",\n        \"std\": 0.0008270891757085637,\n        \"min\": 0.0013164495546850008,\n        \"max\": 0.0029205503522316406,\n        \"num_unique_values\": 3,\n        \"samples\": [\n          0.0013164495546850008,\n          0.0017686785887512896,\n          0.0029205503522316406\n        ],\n        \"semantic_type\": \"\",\n        \"description\": \"\"\n      }\n    },\n    {\n      \"column\": \"rank_test_score\",\n      \"properties\": {\n        \"dtype\": \"int32\",\n        \"num_unique_values\": 3,\n        \"samples\": [\n          2,\n          1,\n          3\n        ],\n        \"semantic_type\": \"\",\n        \"description\": \"\"\n      }\n    },\n    {\n      \"column\": \"split0_train_score\",\n      \"properties\": {\n        \"dtype\": \"number\",\n        \"std\": 0.018869293651843963,\n        \"min\": 0.9010217557517203,\n        \"max\": 0.9381385973448252,\n        \"num_unique_values\": 3,\n        \"samples\": [\n          0.9381385973448252,\n          0.9254882880378119,\n          0.9010217557517203\n        ],\n        \"semantic_type\": \"\",\n        \"description\": \"\"\n      }\n    },\n    {\n      \"column\": \"split1_train_score\",\n      \"properties\": {\n        \"dtype\": \"number\",\n        \"std\": 0.01744012002501478,\n        \"min\": 0.9045666226454439,\n        \"max\": 0.939320219642733,\n        \"num_unique_values\": 3,\n        \"samples\": [\n          0.939320219642733,\n          0.9245151873218879,\n          0.9045666226454439\n        ],\n        \"semantic_type\": \"\",\n        \"description\": \"\"\n      }\n    },\n    {\n      \"column\": \"split2_train_score\",\n      \"properties\": {\n        \"dtype\": \"number\",\n        \"std\": 0.01703819398150609,\n        \"min\": 0.9061023074784542,\n        \"max\": 0.9400194606616625,\n        \"num_unique_values\": 3,\n        \"samples\": [\n          0.9400194606616625,\n          0.9259104809563525,\n          0.9061023074784542\n        ],\n        \"semantic_type\": \"\",\n        \"description\": \"\"\n      }\n    },\n    {\n      \"column\": \"mean_train_score\",\n      \"properties\": {\n        \"dtype\": \"number\",\n        \"std\": 0.017765570034537163,\n        \"min\": 0.9038968952918728,\n        \"max\": 0.9391594258830737,\n        \"num_unique_values\": 3,\n        \"samples\": [\n          0.9391594258830737,\n          0.9253046521053507,\n          0.9038968952918728\n        ],\n        \"semantic_type\": \"\",\n        \"description\": \"\"\n      }\n    },\n    {\n      \"column\": \"std_train_score\",\n      \"properties\": {\n        \"dtype\": \"number\",\n        \"std\": 0.0008410766117134738,\n        \"min\": 0.0005842389342056096,\n        \"max\": 0.002127502841062856,\n        \"num_unique_values\": 3,\n        \"samples\": [\n          0.0007762313568411425,\n          0.0005842389342056096,\n          0.002127502841062856\n        ],\n        \"semantic_type\": \"\",\n        \"description\": \"\"\n      }\n    }\n  ]\n}"
            }
          },
          "metadata": {},
          "execution_count": 59
        }
      ]
    },
    {
      "cell_type": "markdown",
      "source": [
        "## Evaluatoing model with best parameters"
      ],
      "metadata": {
        "id": "ks8nn4QkxGor"
      }
    },
    {
      "cell_type": "code",
      "source": [
        "# same as default parameters"
      ],
      "metadata": {
        "id": "27gV6c4E7cHF"
      },
      "execution_count": null,
      "outputs": []
    },
    {
      "cell_type": "code",
      "source": [
        "y_pred_knn = model_knn.predict(X_test)"
      ],
      "metadata": {
        "id": "Diz70Z4m7cE1"
      },
      "execution_count": null,
      "outputs": []
    },
    {
      "cell_type": "code",
      "source": [
        "print(classification_report(y_test, y_pred_knn))"
      ],
      "metadata": {
        "colab": {
          "base_uri": "https://localhost:8080/"
        },
        "id": "ELD8zOtd13Yp",
        "outputId": "97db39e1-8121-4389-ccf2-632dfdbd047f"
      },
      "execution_count": null,
      "outputs": [
        {
          "output_type": "stream",
          "name": "stdout",
          "text": [
            "              precision    recall  f1-score   support\n",
            "\n",
            "           0       0.94      0.92      0.93       925\n",
            "           1       0.91      0.88      0.90       925\n",
            "           2       0.93      0.94      0.93       923\n",
            "           3       0.95      0.87      0.91       927\n",
            "           4       0.93      0.91      0.92       926\n",
            "           5       0.90      0.88      0.89       924\n",
            "           6       0.91      0.87      0.89       925\n",
            "           7       0.92      0.94      0.93       926\n",
            "           8       0.87      0.97      0.92       926\n",
            "           9       0.83      0.88      0.85       922\n",
            "\n",
            "    accuracy                           0.91      9249\n",
            "   macro avg       0.91      0.91      0.91      9249\n",
            "weighted avg       0.91      0.91      0.91      9249\n",
            "\n"
          ]
        }
      ]
    },
    {
      "cell_type": "code",
      "source": [
        "con_mx_knn = confusion_matrix(y_test, y_pred_knn)\n",
        "con_mx_knn"
      ],
      "metadata": {
        "colab": {
          "base_uri": "https://localhost:8080/"
        },
        "id": "4YfjxU5W7cCN",
        "outputId": "82b349ab-b4f4-4217-fc86-0cfd2b5a42a7"
      },
      "execution_count": null,
      "outputs": [
        {
          "output_type": "execute_result",
          "data": {
            "text/plain": [
              "array([[849,  12,   4,   6,   7,  13,   2,   7,   6,  19],\n",
              "       [  5, 816,   9,   0,  10,   2,   6,   3,  20,  54],\n",
              "       [  2,  10, 860,   0,   9,   4,   2,  14,   7,  15],\n",
              "       [ 23,   8,   2, 805,   5,  16,  35,   6,  14,  13],\n",
              "       [  6,   7,   6,   1, 838,  10,   4,  12,  26,  16],\n",
              "       [  7,   9,   7,   4,  23, 807,  27,  18,  10,  12],\n",
              "       [  6,   6,  11,  31,   2,  34, 800,   4,  15,  16],\n",
              "       [  0,   5,  16,   0,  15,   1,   0, 870,  11,   8],\n",
              "       [  0,   3,   3,   2,   7,   2,   5,   0, 893,  11],\n",
              "       [  5,  33,  12,   3,  10,   6,   9,   6,  16, 822]])"
            ]
          },
          "metadata": {},
          "execution_count": 86
        }
      ]
    },
    {
      "cell_type": "code",
      "source": [
        "plt.matshow(con_mx_knn, cmap=plt.cm.gray);"
      ],
      "metadata": {
        "colab": {
          "base_uri": "https://localhost:8080/",
          "height": 437
        },
        "id": "dFeXmmsj4vST",
        "outputId": "a8528826-3158-404a-ce0d-4c577474ecb2"
      },
      "execution_count": null,
      "outputs": [
        {
          "output_type": "display_data",
          "data": {
            "text/plain": [
              "<Figure size 480x480 with 1 Axes>"
            ],
            "image/png": "[encoded data removed]"
          },
          "metadata": {}
        }
      ]
    },
    {
      "cell_type": "markdown",
      "source": [
        "#ANN"
      ],
      "metadata": {
        "id": "_Sljg4E64xpa"
      }
    },
    {
      "cell_type": "code",
      "source": [
        "import torch\n",
        "from torch import nn"
      ],
      "metadata": {
        "id": "J9iM1YV8I0c-"
      },
      "execution_count": null,
      "outputs": []
    },
    {
      "cell_type": "code",
      "source": [
        "# Turn data in Tensors to work with pytorch\n",
        "X_train = torch.from_numpy(X_train).type(torch.float)\n",
        "X_test = torch.from_numpy(X_test).type(torch.float)\n",
        "y_train = torch.from_numpy(y_train).type(torch.LongTensor)\n",
        "y_test = torch.from_numpy(y_test).type(torch.LongTensor)"
      ],
      "metadata": {
        "id": "Vvxql1AeI7HD"
      },
      "execution_count": null,
      "outputs": []
    },
    {
      "cell_type": "code",
      "source": [
        "X_train.shape"
      ],
      "metadata": {
        "colab": {
          "base_uri": "https://localhost:8080/"
        },
        "id": "EeZSpq_wJUTv",
        "outputId": "65cc03b9-00e3-4023-b35f-daf665374892"
      },
      "execution_count": null,
      "outputs": [
        {
          "output_type": "execute_result",
          "data": {
            "text/plain": [
              "torch.Size([21581, 784])"
            ]
          },
          "metadata": {},
          "execution_count": 90
        }
      ]
    },
    {
      "cell_type": "markdown",
      "source": [
        "## 1.0 ModelV0"
      ],
      "metadata": {
        "id": "roCX48KlIm9h"
      }
    },
    {
      "cell_type": "code",
      "source": [
        "class ModelV0(nn.Module):\n",
        "  def __init__(self, input=784, output=10, hidden_units=10):\n",
        "    super().__init__()\n",
        "    self.linear_layer_stack = nn.Sequential(\n",
        "        nn.Linear(in_features=input, out_features=hidden_units),\n",
        "        #nn.ReLU(), # For non-Linear activation\n",
        "        nn.Linear(in_features=hidden_units, out_features=hidden_units),\n",
        "        #nn.ReLU(),\n",
        "        #nn.Linear(in_features=hidden_units, out_features=hidden_units),\n",
        "        nn.Linear(in_features=hidden_units, out_features=output)\n",
        "    )\n",
        "  def forward(self, x):\n",
        "    return self.linear_layer_stack(x)\n",
        "\n",
        "modelv0 = ModelV0()\n",
        "modelv0"
      ],
      "metadata": {
        "id": "OKpDol6Eorze",
        "colab": {
          "base_uri": "https://localhost:8080/"
        },
        "outputId": "27adb4c9-2610-4d00-caa1-35f86e53f138"
      },
      "execution_count": null,
      "outputs": [
        {
          "output_type": "execute_result",
          "data": {
            "text/plain": [
              "ModelV0(\n",
              "  (linear_layer_stack): Sequential(\n",
              "    (0): Linear(in_features=784, out_features=10, bias=True)\n",
              "    (1): Linear(in_features=10, out_features=10, bias=True)\n",
              "    (2): Linear(in_features=10, out_features=10, bias=True)\n",
              "  )\n",
              ")"
            ]
          },
          "metadata": {},
          "execution_count": 29
        }
      ]
    },
    {
      "cell_type": "code",
      "source": [
        "loss_fn = nn.CrossEntropyLoss()\n",
        "optimizer = torch.optim.SGD(params= modelv0.parameters(), lr=0.1)"
      ],
      "metadata": {
        "id": "9b87mPqqJlhe"
      },
      "execution_count": null,
      "outputs": []
    },
    {
      "cell_type": "code",
      "source": [
        "torch.manual_seed = 42\n",
        "#torch.cuda.manual_seed = 42\n",
        "\n",
        "epochs = 5001\n",
        "losses = []\n",
        "for epoch in range(epochs):\n",
        "  modelv0.train()\n",
        "\n",
        "  y_train_logits = modelv0(X_train)\n",
        "  y_train_preds = torch.softmax(y_train_logits, dim=1).argmax(dim=1)\n",
        "\n",
        "  loss = loss_fn(y_train_logits, y_train)\n",
        "  #print(f\"Epoch: {epoch} | Loss: {loss}\")\n",
        "  #losses.append(loss.numpy)\n",
        "\n",
        "  optimizer.zero_grad()\n",
        "  loss.backward()\n",
        "  optimizer.step()\n",
        "\n",
        "  if(epoch % 100 == 0):\n",
        "    print(f\"Epoch: {epoch} | Loss: {loss}\")"
      ],
      "metadata": {
        "colab": {
          "base_uri": "https://localhost:8080/"
        },
        "id": "j7eZV_8NJsrr",
        "outputId": "1ccd5467-c16f-4b22-8b24-3eeb01d704da"
      },
      "execution_count": null,
      "outputs": [
        {
          "output_type": "stream",
          "name": "stdout",
          "text": [
            "Epoch: 0 | Loss: 2.336717367172241\n",
            "Epoch: 100 | Loss: 0.7786896824836731\n",
            "Epoch: 200 | Loss: 0.6398218274116516\n",
            "Epoch: 300 | Loss: 0.594703197479248\n",
            "Epoch: 400 | Loss: 0.569911003112793\n",
            "Epoch: 500 | Loss: 0.551988422870636\n",
            "Epoch: 600 | Loss: 0.5379441380500793\n",
            "Epoch: 700 | Loss: 0.5269442200660706\n",
            "Epoch: 800 | Loss: 0.5182422995567322\n",
            "Epoch: 900 | Loss: 0.5110917687416077\n",
            "Epoch: 1000 | Loss: 0.5049569606781006\n",
            "Epoch: 1100 | Loss: 0.4995017945766449\n",
            "Epoch: 1200 | Loss: 0.49451732635498047\n",
            "Epoch: 1300 | Loss: 0.4898681640625\n",
            "Epoch: 1400 | Loss: 0.48545995354652405\n",
            "Epoch: 1500 | Loss: 0.48122015595436096\n",
            "Epoch: 1600 | Loss: 0.47708660364151\n",
            "Epoch: 1700 | Loss: 0.47299906611442566\n",
            "Epoch: 1800 | Loss: 0.4688946306705475\n",
            "Epoch: 1900 | Loss: 0.46470820903778076\n",
            "Epoch: 2000 | Loss: 0.4603857398033142\n",
            "Epoch: 2100 | Loss: 0.4559169113636017\n",
            "Epoch: 2200 | Loss: 0.45137542486190796\n",
            "Epoch: 2300 | Loss: 0.44691887497901917\n",
            "Epoch: 2400 | Loss: 0.44271183013916016\n",
            "Epoch: 2500 | Loss: 0.43883535265922546\n",
            "Epoch: 2600 | Loss: 0.43527528643608093\n",
            "Epoch: 2700 | Loss: 0.43197113275527954\n",
            "Epoch: 2800 | Loss: 0.42886099219322205\n",
            "Epoch: 2900 | Loss: 0.42589741945266724\n",
            "Epoch: 3000 | Loss: 0.42320162057876587\n",
            "Epoch: 3100 | Loss: 0.4272594749927521\n",
            "Epoch: 3200 | Loss: 0.4267873466014862\n",
            "Epoch: 3300 | Loss: 0.41662919521331787\n",
            "Epoch: 3400 | Loss: 0.41520315408706665\n",
            "Epoch: 3500 | Loss: 0.41150224208831787\n",
            "Epoch: 3600 | Loss: 0.4203433394432068\n",
            "Epoch: 3700 | Loss: 0.41274726390838623\n",
            "Epoch: 3800 | Loss: 0.4157518446445465\n",
            "Epoch: 3900 | Loss: 0.41018742322921753\n",
            "Epoch: 4000 | Loss: 0.402616024017334\n",
            "Epoch: 4100 | Loss: 0.41396960616111755\n",
            "Epoch: 4200 | Loss: 0.39860618114471436\n",
            "Epoch: 4300 | Loss: 0.39697059988975525\n",
            "Epoch: 4400 | Loss: 0.3952825963497162\n",
            "Epoch: 4500 | Loss: 0.40070390701293945\n",
            "Epoch: 4600 | Loss: 0.3945963978767395\n",
            "Epoch: 4700 | Loss: 0.40414106845855713\n",
            "Epoch: 4800 | Loss: 0.39679497480392456\n",
            "Epoch: 4900 | Loss: 0.4005012512207031\n",
            "Epoch: 5000 | Loss: 0.38804805278778076\n"
          ]
        }
      ]
    },
    {
      "cell_type": "code",
      "source": [
        "modelv0.eval()\n",
        "with torch.inference_mode():\n",
        "  y_test_logits = modelv0(X_test)\n",
        "  y_test_preds = torch.softmax(y_test_logits, dim=1).argmax(dim=1)\n",
        "  loss = loss_fn(y_test_logits, y_test)\n",
        "\n",
        "print(f\"Loss in testing set: {loss}\")"
      ],
      "metadata": {
        "colab": {
          "base_uri": "https://localhost:8080/"
        },
        "id": "FgP587DXJ8-4",
        "outputId": "04dcb466-4ebe-4f99-8082-b0fbf3a7c0d2"
      },
      "execution_count": null,
      "outputs": [
        {
          "output_type": "stream",
          "name": "stdout",
          "text": [
            "Loss in testing set: 0.5964551568031311\n"
          ]
        }
      ]
    },
    {
      "cell_type": "code",
      "source": [
        "n_correct = (y_test == y_test_preds).sum()\n",
        "print(\"Accuracy in ModelV0 after training for 10000 epochs:\")\n",
        "print(n_correct / len(y_test))"
      ],
      "metadata": {
        "colab": {
          "base_uri": "https://localhost:8080/"
        },
        "id": "nu3tYPr-MgEw",
        "outputId": "4f4e8aca-c464-4cac-bc15-5d47626c49f9"
      },
      "execution_count": null,
      "outputs": [
        {
          "output_type": "stream",
          "name": "stdout",
          "text": [
            "Accuracy in ModelV0 after training for 10000 epochs:\n",
            "tensor(0.8275)\n"
          ]
        }
      ]
    },
    {
      "cell_type": "markdown",
      "source": [
        "## 1.1 ModelV1"
      ],
      "metadata": {
        "id": "5JMLI7wSQYcR"
      }
    },
    {
      "cell_type": "code",
      "source": [
        "class ModelV1(nn.Module):\n",
        "  def __init__(self, input=784, output=10, hidden_units=16):\n",
        "    super().__init__()\n",
        "    self.linear_layer_stack = nn.Sequential(\n",
        "        nn.Linear(in_features=input, out_features=hidden_units),\n",
        "        #nn.ReLU(), # For non-Linear activation\n",
        "        nn.Linear(in_features=hidden_units, out_features=hidden_units),\n",
        "        #nn.ReLU(),\n",
        "        #nn.Linear(in_features=hidden_units, out_features=hidden_units),\n",
        "        nn.Linear(in_features=hidden_units, out_features=output)\n",
        "    )\n",
        "  def forward(self, x):\n",
        "    return self.linear_layer_stack(x)\n",
        "\n",
        "modelv1 = ModelV1()\n",
        "modelv1"
      ],
      "metadata": {
        "colab": {
          "base_uri": "https://localhost:8080/"
        },
        "id": "c4hu1bbcO7os",
        "outputId": "db62b233-9a5a-4bf5-ea9c-489069982ee8"
      },
      "execution_count": null,
      "outputs": [
        {
          "output_type": "execute_result",
          "data": {
            "text/plain": [
              "ModelV1(\n",
              "  (linear_layer_stack): Sequential(\n",
              "    (0): Linear(in_features=784, out_features=16, bias=True)\n",
              "    (1): Linear(in_features=16, out_features=16, bias=True)\n",
              "    (2): Linear(in_features=16, out_features=10, bias=True)\n",
              "  )\n",
              ")"
            ]
          },
          "metadata": {},
          "execution_count": 34
        }
      ]
    },
    {
      "cell_type": "code",
      "source": [
        "loss_fn = nn.CrossEntropyLoss()\n",
        "optimizer = torch.optim.SGD(params= modelv1.parameters(), lr=0.1)"
      ],
      "metadata": {
        "id": "Olfw-6EdQgO9"
      },
      "execution_count": null,
      "outputs": []
    },
    {
      "cell_type": "code",
      "source": [
        "torch.manual_seed = 42\n",
        "#torch.cuda.manual_seed = 42\n",
        "\n",
        "epochs = 5001\n",
        "losses = []\n",
        "for epoch in range(epochs):\n",
        "  modelv1.train()\n",
        "\n",
        "  y_train_logits = modelv1(X_train)\n",
        "  y_train_preds = torch.softmax(y_train_logits, dim=1).argmax(dim=1)\n",
        "\n",
        "  loss = loss_fn(y_train_logits, y_train)\n",
        "  #print(f\"Epoch: {epoch} | Loss: {loss}\")\n",
        "  #losses.append(loss.numpy)\n",
        "\n",
        "  optimizer.zero_grad()\n",
        "  loss.backward()\n",
        "  optimizer.step()\n",
        "\n",
        "  if(epoch % 100 == 0):\n",
        "    print(f\"Epoch: {epoch} | Loss: {loss}\")"
      ],
      "metadata": {
        "colab": {
          "base_uri": "https://localhost:8080/"
        },
        "id": "RbRH8d88QmWg",
        "outputId": "c2d2735c-00bc-497a-a669-12dc43ba8f63"
      },
      "execution_count": null,
      "outputs": [
        {
          "output_type": "stream",
          "name": "stdout",
          "text": [
            "Epoch: 0 | Loss: 2.313300371170044\n",
            "Epoch: 100 | Loss: 0.757541835308075\n",
            "Epoch: 200 | Loss: 0.6394348740577698\n",
            "Epoch: 300 | Loss: 0.5903387665748596\n",
            "Epoch: 400 | Loss: 0.5609607696533203\n",
            "Epoch: 500 | Loss: 0.5413084626197815\n",
            "Epoch: 600 | Loss: 0.5266789197921753\n",
            "Epoch: 700 | Loss: 0.51496821641922\n",
            "Epoch: 800 | Loss: 0.5053848028182983\n",
            "Epoch: 900 | Loss: 0.49748495221138\n",
            "Epoch: 1000 | Loss: 0.49081897735595703\n",
            "Epoch: 1100 | Loss: 0.48500630259513855\n",
            "Epoch: 1200 | Loss: 0.4797883629798889\n",
            "Epoch: 1300 | Loss: 0.47500038146972656\n",
            "Epoch: 1400 | Loss: 0.47053593397140503\n",
            "Epoch: 1500 | Loss: 0.4663236737251282\n",
            "Epoch: 1600 | Loss: 0.46231430768966675\n",
            "Epoch: 1700 | Loss: 0.45847275853157043\n",
            "Epoch: 1800 | Loss: 0.45477384328842163\n",
            "Epoch: 1900 | Loss: 0.45119884610176086\n",
            "Epoch: 2000 | Loss: 0.4477335512638092\n",
            "Epoch: 2100 | Loss: 0.44436734914779663\n",
            "Epoch: 2200 | Loss: 0.4410916268825531\n",
            "Epoch: 2300 | Loss: 0.43789955973625183\n",
            "Epoch: 2400 | Loss: 0.43478530645370483\n",
            "Epoch: 2500 | Loss: 0.4317440688610077\n",
            "Epoch: 2600 | Loss: 0.42877140641212463\n",
            "Epoch: 2700 | Loss: 0.42586347460746765\n",
            "Epoch: 2800 | Loss: 0.4230166971683502\n",
            "Epoch: 2900 | Loss: 0.42022794485092163\n",
            "Epoch: 3000 | Loss: 0.4202999472618103\n",
            "Epoch: 3100 | Loss: 0.4152262210845947\n",
            "Epoch: 3200 | Loss: 0.41361919045448303\n",
            "Epoch: 3300 | Loss: 0.4226224422454834\n",
            "Epoch: 3400 | Loss: 0.40956249833106995\n",
            "Epoch: 3500 | Loss: 0.4061231017112732\n",
            "Epoch: 3600 | Loss: 0.4043925702571869\n",
            "Epoch: 3700 | Loss: 0.4016341269016266\n",
            "Epoch: 3800 | Loss: 0.412433385848999\n",
            "Epoch: 3900 | Loss: 0.40268829464912415\n",
            "Epoch: 4000 | Loss: 0.4012073278427124\n",
            "Epoch: 4100 | Loss: 0.40158888697624207\n",
            "Epoch: 4200 | Loss: 0.3924216330051422\n",
            "Epoch: 4300 | Loss: 0.39726391434669495\n",
            "Epoch: 4400 | Loss: 0.3950372338294983\n",
            "Epoch: 4500 | Loss: 0.40110164880752563\n",
            "Epoch: 4600 | Loss: 0.3894714117050171\n",
            "Epoch: 4700 | Loss: 0.39470550417900085\n",
            "Epoch: 4800 | Loss: 0.3883458971977234\n",
            "Epoch: 4900 | Loss: 0.38243451714515686\n",
            "Epoch: 5000 | Loss: 0.3824704587459564\n"
          ]
        }
      ]
    },
    {
      "cell_type": "code",
      "source": [
        "modelv1.eval()\n",
        "with torch.inference_mode():\n",
        "  y_test_logits = modelv1(X_test)\n",
        "  y_test_preds = torch.softmax(y_test_logits, dim=1).argmax(dim=1)\n",
        "  loss = loss_fn(y_test_logits, y_test)\n",
        "\n",
        "print(f\"Loss in testing set: {loss}\")"
      ],
      "metadata": {
        "colab": {
          "base_uri": "https://localhost:8080/"
        },
        "id": "cpqBer_eQr_7",
        "outputId": "d4b274d7-b779-42e4-bc93-d34c87ccd6ca"
      },
      "execution_count": null,
      "outputs": [
        {
          "output_type": "stream",
          "name": "stdout",
          "text": [
            "Loss in testing set: 0.5974650382995605\n"
          ]
        }
      ]
    },
    {
      "cell_type": "code",
      "source": [
        "n_correct = (y_test == y_test_preds).sum()\n",
        "print(\"Accuracy in ModelV0 after training for 10000 epochs:\")\n",
        "print(n_correct / len(y_test))"
      ],
      "metadata": {
        "colab": {
          "base_uri": "https://localhost:8080/"
        },
        "id": "wm9PfQKXQ1Hv",
        "outputId": "b373e6ee-dcf3-465f-a47b-f8dc4f8512ec"
      },
      "execution_count": null,
      "outputs": [
        {
          "output_type": "stream",
          "name": "stdout",
          "text": [
            "Accuracy in ModelV0 after training for 10000 epochs:\n",
            "tensor(0.8285)\n"
          ]
        }
      ]
    },
    {
      "cell_type": "markdown",
      "source": [
        "## 1.2 ModelV2"
      ],
      "metadata": {
        "id": "UCCcLOGeR3xf"
      }
    },
    {
      "cell_type": "code",
      "source": [
        "class ModelV2(nn.Module):\n",
        "  def __init__(self, input=784, output=10, hidden_units=100):\n",
        "    super().__init__()\n",
        "    self.linear_layer_stack = nn.Sequential(\n",
        "        nn.Linear(in_features=input, out_features=hidden_units),\n",
        "        #nn.ReLU(), # For non-Linear activation\n",
        "        nn.Linear(in_features=hidden_units, out_features=hidden_units),\n",
        "        #nn.ReLU(),\n",
        "        #nn.Linear(in_features=hidden_units, out_features=hidden_units),\n",
        "        nn.Linear(in_features=hidden_units, out_features=output)\n",
        "    )\n",
        "  def forward(self, x):\n",
        "    return self.linear_layer_stack(x)\n",
        "\n",
        "modelv2 = ModelV2()\n",
        "modelv2"
      ],
      "metadata": {
        "colab": {
          "base_uri": "https://localhost:8080/"
        },
        "id": "5SWrY6ixR1e-",
        "outputId": "6e7fb58b-c037-40ad-f57f-8606d47073d8"
      },
      "execution_count": null,
      "outputs": [
        {
          "output_type": "execute_result",
          "data": {
            "text/plain": [
              "ModelV2(\n",
              "  (linear_layer_stack): Sequential(\n",
              "    (0): Linear(in_features=784, out_features=100, bias=True)\n",
              "    (1): Linear(in_features=100, out_features=100, bias=True)\n",
              "    (2): Linear(in_features=100, out_features=10, bias=True)\n",
              "  )\n",
              ")"
            ]
          },
          "metadata": {},
          "execution_count": 39
        }
      ]
    },
    {
      "cell_type": "code",
      "source": [
        "loss_fn = nn.CrossEntropyLoss()\n",
        "optimizer = torch.optim.SGD(params= modelv2.parameters(), lr=0.1)"
      ],
      "metadata": {
        "id": "reoF-XKaSDil"
      },
      "execution_count": null,
      "outputs": []
    },
    {
      "cell_type": "code",
      "source": [
        "torch.manual_seed = 42\n",
        "#torch.cuda.manual_seed = 42\n",
        "\n",
        "epochs = 5001\n",
        "losses = []\n",
        "for epoch in range(epochs):\n",
        "  modelv2.train()\n",
        "\n",
        "  y_train_logits = modelv2(X_train)\n",
        "  y_train_preds = torch.softmax(y_train_logits, dim=1).argmax(dim=1)\n",
        "\n",
        "  loss = loss_fn(y_train_logits, y_train)\n",
        "  #print(f\"Epoch: {epoch} | Loss: {loss}\")\n",
        "  #losses.append(loss.numpy)\n",
        "\n",
        "  optimizer.zero_grad()\n",
        "  loss.backward()\n",
        "  optimizer.step()\n",
        "\n",
        "  if(epoch % 100 == 0):\n",
        "    print(f\"Epoch: {epoch} | Loss: {loss}\")"
      ],
      "metadata": {
        "colab": {
          "base_uri": "https://localhost:8080/"
        },
        "id": "omGIvUwOSHYX",
        "outputId": "cc170524-e3ea-4bed-b542-e1826be2ea23"
      },
      "execution_count": null,
      "outputs": [
        {
          "output_type": "stream",
          "name": "stdout",
          "text": [
            "Epoch: 0 | Loss: 2.312450885772705\n",
            "Epoch: 100 | Loss: 0.6602411270141602\n",
            "Epoch: 200 | Loss: 0.5814125537872314\n",
            "Epoch: 300 | Loss: 0.5507540106773376\n",
            "Epoch: 400 | Loss: 0.5317882299423218\n",
            "Epoch: 500 | Loss: 0.518633246421814\n",
            "Epoch: 600 | Loss: 0.5087277293205261\n",
            "Epoch: 700 | Loss: 0.5007126331329346\n",
            "Epoch: 800 | Loss: 0.4938853681087494\n",
            "Epoch: 900 | Loss: 0.4878636598587036\n",
            "Epoch: 1000 | Loss: 0.482420414686203\n",
            "Epoch: 1100 | Loss: 0.47741037607192993\n",
            "Epoch: 1200 | Loss: 0.4727354347705841\n",
            "Epoch: 1300 | Loss: 0.46832677721977234\n",
            "Epoch: 1400 | Loss: 0.4641346335411072\n",
            "Epoch: 1500 | Loss: 0.4601224958896637\n",
            "Epoch: 1600 | Loss: 0.45626330375671387\n",
            "Epoch: 1700 | Loss: 0.4525364637374878\n",
            "Epoch: 1800 | Loss: 0.44892674684524536\n",
            "Epoch: 1900 | Loss: 0.4454222321510315\n",
            "Epoch: 2000 | Loss: 0.4420137405395508\n",
            "Epoch: 2100 | Loss: 0.4386938512325287\n",
            "Epoch: 2200 | Loss: 0.43545660376548767\n",
            "Epoch: 2300 | Loss: 0.4322968125343323\n",
            "Epoch: 2400 | Loss: 0.42921000719070435\n",
            "Epoch: 2500 | Loss: 0.4261922240257263\n",
            "Epoch: 2600 | Loss: 0.4232398271560669\n",
            "Epoch: 2700 | Loss: 0.42044535279273987\n",
            "Epoch: 2800 | Loss: 0.417871356010437\n",
            "Epoch: 2900 | Loss: 0.4172148108482361\n",
            "Epoch: 3000 | Loss: 0.4225673973560333\n",
            "Epoch: 3100 | Loss: 0.41730836033821106\n",
            "Epoch: 3200 | Loss: 0.40963929891586304\n",
            "Epoch: 3300 | Loss: 0.4066913425922394\n",
            "Epoch: 3400 | Loss: 0.42411261796951294\n",
            "Epoch: 3500 | Loss: 0.41074350476264954\n",
            "Epoch: 3600 | Loss: 0.399869829416275\n",
            "Epoch: 3700 | Loss: 0.40134483575820923\n",
            "Epoch: 3800 | Loss: 0.39654555916786194\n",
            "Epoch: 3900 | Loss: 0.3992510139942169\n",
            "Epoch: 4000 | Loss: 0.39546048641204834\n",
            "Epoch: 4100 | Loss: 0.39952677488327026\n",
            "Epoch: 4200 | Loss: 0.38828644156455994\n",
            "Epoch: 4300 | Loss: 0.3903341293334961\n",
            "Epoch: 4400 | Loss: 0.40372544527053833\n",
            "Epoch: 4500 | Loss: 0.3823604881763458\n",
            "Epoch: 4600 | Loss: 0.38748928904533386\n",
            "Epoch: 4700 | Loss: 0.40140238404273987\n",
            "Epoch: 4800 | Loss: 0.3823283910751343\n",
            "Epoch: 4900 | Loss: 0.39856183528900146\n",
            "Epoch: 5000 | Loss: 0.40195807814598083\n"
          ]
        }
      ]
    },
    {
      "cell_type": "code",
      "source": [
        "modelv2.eval()\n",
        "with torch.inference_mode():\n",
        "  y_test_logits = modelv2(X_test)\n",
        "  y_test_preds = torch.softmax(y_test_logits, dim=1).argmax(dim=1)\n",
        "  loss = loss_fn(y_test_logits, y_test)\n",
        "\n",
        "print(f\"Loss in testing set: {loss}\")"
      ],
      "metadata": {
        "colab": {
          "base_uri": "https://localhost:8080/"
        },
        "id": "3tz_ql9aSNE5",
        "outputId": "5a3f9787-a446-4a03-a9bd-0900bcbf33b9"
      },
      "execution_count": null,
      "outputs": [
        {
          "output_type": "stream",
          "name": "stdout",
          "text": [
            "Loss in testing set: 0.6336754560470581\n"
          ]
        }
      ]
    },
    {
      "cell_type": "code",
      "source": [
        "n_correct = (y_test == y_test_preds).sum()\n",
        "print(\"Accuracy in ModelV0 after training for 10000 epochs:\")\n",
        "print(n_correct / len(y_test))"
      ],
      "metadata": {
        "colab": {
          "base_uri": "https://localhost:8080/"
        },
        "id": "okfY0rP2SSks",
        "outputId": "293d1efa-6dc9-4d40-e7a6-39ca9c391c07"
      },
      "execution_count": null,
      "outputs": [
        {
          "output_type": "stream",
          "name": "stdout",
          "text": [
            "Accuracy in ModelV0 after training for 10000 epochs:\n",
            "tensor(0.8174)\n"
          ]
        }
      ]
    },
    {
      "cell_type": "markdown",
      "source": [
        "## 1.3 ModelV3"
      ],
      "metadata": {
        "id": "ltrvo30lWy1Q"
      }
    },
    {
      "cell_type": "code",
      "source": [
        "class ModelV3(nn.Module):\n",
        "  def __init__(self, input=784, output=10):\n",
        "    super().__init__()\n",
        "    self.linear_layer_stack = nn.Sequential(\n",
        "        nn.Linear(in_features=input, out_features=24),\n",
        "        nn.ReLU(), # For non-Linear activation\n",
        "        nn.Linear(in_features=24, out_features=16),\n",
        "        nn.ReLU(),\n",
        "        nn.Linear(in_features=16, out_features=16),\n",
        "        nn.ReLU(),\n",
        "        nn.Linear(in_features=16, out_features=output)\n",
        "    )\n",
        "  def forward(self, x):\n",
        "    return self.linear_layer_stack(x)\n",
        "\n",
        "modelv3 = ModelV3()\n",
        "modelv3"
      ],
      "metadata": {
        "colab": {
          "base_uri": "https://localhost:8080/"
        },
        "id": "6PczchHdWqrj",
        "outputId": "b418cad7-9ccf-4778-ca48-baa931d21a50"
      },
      "execution_count": null,
      "outputs": [
        {
          "output_type": "execute_result",
          "data": {
            "text/plain": [
              "ModelV3(\n",
              "  (linear_layer_stack): Sequential(\n",
              "    (0): Linear(in_features=784, out_features=24, bias=True)\n",
              "    (1): ReLU()\n",
              "    (2): Linear(in_features=24, out_features=16, bias=True)\n",
              "    (3): ReLU()\n",
              "    (4): Linear(in_features=16, out_features=16, bias=True)\n",
              "    (5): ReLU()\n",
              "    (6): Linear(in_features=16, out_features=10, bias=True)\n",
              "  )\n",
              ")"
            ]
          },
          "metadata": {},
          "execution_count": 61
        }
      ]
    },
    {
      "cell_type": "code",
      "source": [
        "loss_fn = nn.CrossEntropyLoss()\n",
        "optimizer = torch.optim.SGD(params= modelv3.parameters(), lr=0.1)"
      ],
      "metadata": {
        "id": "H0FcAdxrXRJ1"
      },
      "execution_count": null,
      "outputs": []
    },
    {
      "cell_type": "code",
      "source": [
        "torch.manual_seed = 42\n",
        "#torch.cuda.manual_seed = 42\n",
        "\n",
        "epochs = 4201\n",
        "losses = []\n",
        "for epoch in range(epochs):\n",
        "  modelv3.train()\n",
        "\n",
        "  y_train_logits = modelv3(X_train)\n",
        "  y_train_preds = torch.softmax(y_train_logits, dim=1).argmax(dim=1)\n",
        "\n",
        "  loss = loss_fn(y_train_logits, y_train)\n",
        "  #print(f\"Epoch: {epoch} | Loss: {loss}\")\n",
        "  #losses.append(loss.numpy)\n",
        "\n",
        "  optimizer.zero_grad()\n",
        "  loss.backward()\n",
        "  optimizer.step()\n",
        "\n",
        "  if(epoch % 100 == 0):\n",
        "    print(f\"Epoch: {epoch} | Loss: {loss}\")"
      ],
      "metadata": {
        "colab": {
          "base_uri": "https://localhost:8080/"
        },
        "id": "OxSTB0L2XULO",
        "outputId": "ed9fe1d6-dca4-4104-99fb-57592f1cdbb8"
      },
      "execution_count": null,
      "outputs": [
        {
          "output_type": "stream",
          "name": "stdout",
          "text": [
            "Epoch: 0 | Loss: 2.318840503692627\n",
            "Epoch: 100 | Loss: 1.3975337743759155\n",
            "Epoch: 200 | Loss: 0.7319480776786804\n",
            "Epoch: 300 | Loss: 0.620658814907074\n",
            "Epoch: 400 | Loss: 0.5550884008407593\n",
            "Epoch: 500 | Loss: 0.5129600763320923\n",
            "Epoch: 600 | Loss: 0.47906625270843506\n",
            "Epoch: 700 | Loss: 0.4509349465370178\n",
            "Epoch: 800 | Loss: 0.4254324436187744\n",
            "Epoch: 900 | Loss: 0.39477846026420593\n",
            "Epoch: 1000 | Loss: 1.6149643659591675\n",
            "Epoch: 1100 | Loss: 0.35436248779296875\n",
            "Epoch: 1200 | Loss: 0.3359220325946808\n",
            "Epoch: 1300 | Loss: 0.32410794496536255\n",
            "Epoch: 1400 | Loss: 0.302612841129303\n",
            "Epoch: 1500 | Loss: 0.3434317708015442\n",
            "Epoch: 1600 | Loss: 0.3041349947452545\n",
            "Epoch: 1700 | Loss: 0.2828006446361542\n",
            "Epoch: 1800 | Loss: 0.26921167969703674\n",
            "Epoch: 1900 | Loss: 1.789843201637268\n",
            "Epoch: 2000 | Loss: 0.2539733946323395\n",
            "Epoch: 2100 | Loss: 0.2359623908996582\n",
            "Epoch: 2200 | Loss: 0.22650828957557678\n",
            "Epoch: 2300 | Loss: 0.21415114402770996\n",
            "Epoch: 2400 | Loss: 0.21581053733825684\n",
            "Epoch: 2500 | Loss: 0.19718989729881287\n",
            "Epoch: 2600 | Loss: 0.18787400424480438\n",
            "Epoch: 2700 | Loss: 0.2252684086561203\n",
            "Epoch: 2800 | Loss: 0.18763628602027893\n",
            "Epoch: 2900 | Loss: 0.23695331811904907\n",
            "Epoch: 3000 | Loss: 0.1887657195329666\n",
            "Epoch: 3100 | Loss: 0.1727280169725418\n",
            "Epoch: 3200 | Loss: 0.16319292783737183\n",
            "Epoch: 3300 | Loss: 0.1566888391971588\n",
            "Epoch: 3400 | Loss: 0.14850133657455444\n",
            "Epoch: 3500 | Loss: 0.724643349647522\n",
            "Epoch: 3600 | Loss: 0.21433857083320618\n",
            "Epoch: 3700 | Loss: 0.17739617824554443\n",
            "Epoch: 3800 | Loss: 0.16123975813388824\n",
            "Epoch: 3900 | Loss: 0.150997593998909\n",
            "Epoch: 4000 | Loss: 0.14549888670444489\n",
            "Epoch: 4100 | Loss: 0.13829368352890015\n",
            "Epoch: 4200 | Loss: 0.2494996190071106\n"
          ]
        }
      ]
    },
    {
      "cell_type": "code",
      "source": [
        "modelv3.eval()\n",
        "with torch.inference_mode():\n",
        "  y_test_logits = modelv3(X_test)\n",
        "  y_test_preds = torch.softmax(y_test_logits, dim=1).argmax(dim=1)\n",
        "  loss = loss_fn(y_test_logits, y_test)\n",
        "\n",
        "print(f\"Loss in testing set: {loss}\")"
      ],
      "metadata": {
        "colab": {
          "base_uri": "https://localhost:8080/"
        },
        "id": "hiW4ouABXZnB",
        "outputId": "b4c53eee-70fa-45b0-ce18-71483db6928d"
      },
      "execution_count": null,
      "outputs": [
        {
          "output_type": "stream",
          "name": "stdout",
          "text": [
            "Loss in testing set: 0.4350862503051758\n"
          ]
        }
      ]
    },
    {
      "cell_type": "code",
      "source": [
        "n_correct = (y_test == y_test_preds).sum()\n",
        "print(\"Accuracy in ModelV0 after training for 10000 epochs:\")\n",
        "print(n_correct / len(y_test))"
      ],
      "metadata": {
        "colab": {
          "base_uri": "https://localhost:8080/"
        },
        "id": "XuV8EGgtaARa",
        "outputId": "81044580-1106-4d29-e764-e28b6e1099b8"
      },
      "execution_count": null,
      "outputs": [
        {
          "output_type": "stream",
          "name": "stdout",
          "text": [
            "Accuracy in ModelV0 after training for 10000 epochs:\n",
            "tensor(0.8725)\n"
          ]
        }
      ]
    },
    {
      "cell_type": "markdown",
      "source": [
        "## 1.4 ModelV4"
      ],
      "metadata": {
        "id": "nEWFAXs2eIIR"
      }
    },
    {
      "cell_type": "code",
      "source": [
        "class ModelV4(nn.Module):\n",
        "  def __init__(self, input=784, output=10):\n",
        "    super().__init__()\n",
        "    self.linear_layer_stack = nn.Sequential(\n",
        "        nn.Linear(in_features=input, out_features=24),\n",
        "        nn.ReLU(), # For non-Linear activation\n",
        "        nn.Linear(in_features=24, out_features=16),\n",
        "        nn.ReLU(),\n",
        "        nn.Linear(in_features=16, out_features=24),\n",
        "        nn.ReLU(),\n",
        "        nn.Linear(in_features=24, out_features=output)\n",
        "    )\n",
        "  def forward(self, x):\n",
        "    return self.linear_layer_stack(x)\n",
        "\n",
        "modelv4 = ModelV4()\n",
        "modelv4"
      ],
      "metadata": {
        "colab": {
          "base_uri": "https://localhost:8080/"
        },
        "id": "4b0emrnfaWt1",
        "outputId": "e98532af-708f-4659-9d24-ac9e5c81bc7c"
      },
      "execution_count": null,
      "outputs": [
        {
          "output_type": "execute_result",
          "data": {
            "text/plain": [
              "ModelV4(\n",
              "  (linear_layer_stack): Sequential(\n",
              "    (0): Linear(in_features=784, out_features=24, bias=True)\n",
              "    (1): ReLU()\n",
              "    (2): Linear(in_features=24, out_features=16, bias=True)\n",
              "    (3): ReLU()\n",
              "    (4): Linear(in_features=16, out_features=24, bias=True)\n",
              "    (5): ReLU()\n",
              "    (6): Linear(in_features=24, out_features=10, bias=True)\n",
              "  )\n",
              ")"
            ]
          },
          "metadata": {},
          "execution_count": 26
        }
      ]
    },
    {
      "cell_type": "code",
      "source": [
        "loss_fn = nn.CrossEntropyLoss()\n",
        "optimizer = torch.optim.SGD(params= modelv4.parameters(), lr=0.1)"
      ],
      "metadata": {
        "id": "MpJJWROBeTmv"
      },
      "execution_count": null,
      "outputs": []
    },
    {
      "cell_type": "code",
      "source": [
        "torch.manual_seed = 42\n",
        "#torch.cuda.manual_seed = 42\n",
        "\n",
        "epochs = 3001\n",
        "losses = []\n",
        "for epoch in range(epochs):\n",
        "  modelv4.train()\n",
        "\n",
        "  y_train_logits = modelv4(X_train)\n",
        "  y_train_preds = torch.softmax(y_train_logits, dim=1).argmax(dim=1)\n",
        "\n",
        "  loss = loss_fn(y_train_logits, y_train)\n",
        "  #print(f\"Epoch: {epoch} | Loss: {loss}\")\n",
        "  #losses.append(loss.numpy)\n",
        "\n",
        "  optimizer.zero_grad()\n",
        "  loss.backward()\n",
        "  optimizer.step()\n",
        "\n",
        "  if(epoch % 100 == 0):\n",
        "    print(f\"Epoch: {epoch} | Loss: {loss}\")"
      ],
      "metadata": {
        "colab": {
          "base_uri": "https://localhost:8080/"
        },
        "id": "uicaGrx6eXHY",
        "outputId": "56848df3-9561-49c1-be2c-e29f4a3ad884"
      },
      "execution_count": null,
      "outputs": [
        {
          "output_type": "stream",
          "name": "stdout",
          "text": [
            "Epoch: 0 | Loss: 2.309702157974243\n",
            "Epoch: 100 | Loss: 1.8431657552719116\n",
            "Epoch: 200 | Loss: 0.9323444366455078\n",
            "Epoch: 300 | Loss: 0.6855757236480713\n",
            "Epoch: 400 | Loss: 0.5979053974151611\n",
            "Epoch: 500 | Loss: 0.548525869846344\n",
            "Epoch: 600 | Loss: 0.5090497136116028\n",
            "Epoch: 700 | Loss: 0.4735535681247711\n",
            "Epoch: 800 | Loss: 0.4462321698665619\n",
            "Epoch: 900 | Loss: 0.4156475067138672\n",
            "Epoch: 1000 | Loss: 0.3977346122264862\n",
            "Epoch: 1100 | Loss: 0.35855892300605774\n",
            "Epoch: 1200 | Loss: 0.9086057543754578\n",
            "Epoch: 1300 | Loss: 0.4282926917076111\n",
            "Epoch: 1400 | Loss: 0.36754176020622253\n",
            "Epoch: 1500 | Loss: 0.3278812766075134\n",
            "Epoch: 1600 | Loss: 0.30725428462028503\n",
            "Epoch: 1700 | Loss: 0.28766486048698425\n",
            "Epoch: 1800 | Loss: 0.30209189653396606\n",
            "Epoch: 1900 | Loss: 0.25796282291412354\n",
            "Epoch: 2000 | Loss: 0.25078245997428894\n",
            "Epoch: 2100 | Loss: 0.2337474822998047\n",
            "Epoch: 2200 | Loss: 0.22466890513896942\n",
            "Epoch: 2300 | Loss: 0.21768340468406677\n",
            "Epoch: 2400 | Loss: 0.20364443957805634\n",
            "Epoch: 2500 | Loss: 0.20352891087532043\n",
            "Epoch: 2600 | Loss: 0.1898343414068222\n",
            "Epoch: 2700 | Loss: 0.18381549417972565\n",
            "Epoch: 2800 | Loss: 0.4789237976074219\n",
            "Epoch: 2900 | Loss: 0.18318182229995728\n",
            "Epoch: 3000 | Loss: 0.16565781831741333\n"
          ]
        }
      ]
    },
    {
      "cell_type": "code",
      "source": [
        "modelv4.eval()\n",
        "with torch.inference_mode():\n",
        "  y_test_logits = modelv4(X_test)\n",
        "  y_test_preds = torch.softmax(y_test_logits, dim=1).argmax(dim=1)\n",
        "  loss = loss_fn(y_test_logits, y_test)\n",
        "\n",
        "print(f\"Loss in testing set: {loss}\")"
      ],
      "metadata": {
        "colab": {
          "base_uri": "https://localhost:8080/"
        },
        "id": "Bi5jxJB0ectb",
        "outputId": "fba8794b-9048-4165-8c7b-0efaa2b5e62b"
      },
      "execution_count": null,
      "outputs": [
        {
          "output_type": "stream",
          "name": "stdout",
          "text": [
            "Loss in testing set: 0.389506071805954\n"
          ]
        }
      ]
    },
    {
      "cell_type": "code",
      "source": [
        "n_correct = (y_test == y_test_preds).sum()\n",
        "print(\"Accuracy in ModelV4 after training for 3001 epochs:\")\n",
        "print(n_correct / len(y_test))"
      ],
      "metadata": {
        "id": "8eNK3oOhgfWi",
        "outputId": "75d2b0d9-fa0e-4dc2-983d-e2a285dd6b36",
        "colab": {
          "base_uri": "https://localhost:8080/"
        }
      },
      "execution_count": null,
      "outputs": [
        {
          "output_type": "stream",
          "name": "stdout",
          "text": [
            "Accuracy in ModelV4 after training for 3001 epochs:\n",
            "tensor(0.8899)\n"
          ]
        }
      ]
    },
    {
      "cell_type": "markdown",
      "source": [
        "## 1.5 ModelV5"
      ],
      "metadata": {
        "id": "rRtz-jtZsiGM"
      }
    },
    {
      "cell_type": "code",
      "source": [
        "class ModelV5(nn.Module):\n",
        "  def __init__(self, input=784, output=10):\n",
        "    super().__init__()\n",
        "    self.linear_layer_stack = nn.Sequential(\n",
        "        nn.Linear(in_features=input, out_features=64),\n",
        "        nn.ReLU(), # For non-Linear activation\n",
        "        nn.Linear(in_features=64, out_features=24),\n",
        "        nn.ReLU(),\n",
        "        nn.Linear(in_features=24, out_features=16),\n",
        "        nn.ReLU(),\n",
        "        nn.Linear(in_features=16, out_features=output)\n",
        "    )\n",
        "  def forward(self, x):\n",
        "    return self.linear_layer_stack(x)\n",
        "\n",
        "modelv5 = ModelV5()\n",
        "modelv5"
      ],
      "metadata": {
        "colab": {
          "base_uri": "https://localhost:8080/"
        },
        "id": "F6_FxvafshlU",
        "outputId": "2e7ccda5-8b35-465d-d4af-f93c7b5e264d"
      },
      "execution_count": null,
      "outputs": [
        {
          "output_type": "execute_result",
          "data": {
            "text/plain": [
              "ModelV5(\n",
              "  (linear_layer_stack): Sequential(\n",
              "    (0): Linear(in_features=784, out_features=64, bias=True)\n",
              "    (1): ReLU()\n",
              "    (2): Linear(in_features=64, out_features=24, bias=True)\n",
              "    (3): ReLU()\n",
              "    (4): Linear(in_features=24, out_features=16, bias=True)\n",
              "    (5): ReLU()\n",
              "    (6): Linear(in_features=16, out_features=10, bias=True)\n",
              "  )\n",
              ")"
            ]
          },
          "metadata": {},
          "execution_count": 41
        }
      ]
    },
    {
      "cell_type": "code",
      "source": [
        "loss_fn = nn.CrossEntropyLoss()\n",
        "optimizer = torch.optim.SGD(params= modelv5.parameters(), lr=0.1)"
      ],
      "metadata": {
        "id": "-i4VYEKUshi9"
      },
      "execution_count": null,
      "outputs": []
    },
    {
      "cell_type": "code",
      "source": [
        "torch.manual_seed = 42\n",
        "#torch.cuda.manual_seed = 42\n",
        "\n",
        "epochs = 101\n",
        "losses = []\n",
        "for epoch in range(epochs):\n",
        "  modelv5.train()\n",
        "\n",
        "  y_train_logits = modelv5(X_train)\n",
        "  y_train_preds = torch.softmax(y_train_logits, dim=1).argmax(dim=1)\n",
        "\n",
        "  loss = loss_fn(y_train_logits, y_train)\n",
        "  #print(f\"Epoch: {epoch} | Loss: {loss}\")\n",
        "  #losses.append(loss.numpy)\n",
        "\n",
        "  optimizer.zero_grad()\n",
        "  loss.backward()\n",
        "  optimizer.step()\n",
        "\n",
        "  if(epoch % 100 == 0):\n",
        "    print(f\"Epoch: {epoch} | Loss: {loss}\")"
      ],
      "metadata": {
        "colab": {
          "base_uri": "https://localhost:8080/"
        },
        "id": "nzKHOkm5shgk",
        "outputId": "45903dde-4316-4c54-8eac-52dc5abd8eab"
      },
      "execution_count": null,
      "outputs": [
        {
          "output_type": "stream",
          "name": "stdout",
          "text": [
            "Epoch: 0 | Loss: 0.1251686066389084\n",
            "Epoch: 100 | Loss: 0.11141736060380936\n"
          ]
        }
      ]
    },
    {
      "cell_type": "code",
      "source": [
        "n_correct = (y_train == y_train_preds).sum()\n",
        "print(\"Training Accuracy in ModelV5:\")\n",
        "print(n_correct / len(y_train))"
      ],
      "metadata": {
        "colab": {
          "base_uri": "https://localhost:8080/"
        },
        "id": "-7vBiuBa3Cbd",
        "outputId": "3a717e36-1a56-4519-c288-9bb60ef7ad7f"
      },
      "execution_count": null,
      "outputs": [
        {
          "output_type": "stream",
          "name": "stdout",
          "text": [
            "Training Accuracy in ModelV5:\n",
            "tensor(0.9700)\n"
          ]
        }
      ]
    },
    {
      "cell_type": "code",
      "source": [
        "modelv5.eval()\n",
        "with torch.inference_mode():\n",
        "  y_test_logits = modelv5(X_test)\n",
        "  y_test_preds = torch.softmax(y_test_logits, dim=1).argmax(dim=1)\n",
        "  loss = loss_fn(y_test_logits, y_test)\n",
        "\n",
        "print(f\"Loss in testing set: {loss}\")"
      ],
      "metadata": {
        "colab": {
          "base_uri": "https://localhost:8080/"
        },
        "id": "78C3NHN1shLM",
        "outputId": "03331b96-4f03-4044-bb37-cd384f7d203d"
      },
      "execution_count": null,
      "outputs": [
        {
          "output_type": "stream",
          "name": "stdout",
          "text": [
            "Loss in testing set: 0.38060393929481506\n"
          ]
        }
      ]
    },
    {
      "cell_type": "code",
      "source": [
        "print(classification_report(y_test, y_test_preds))"
      ],
      "metadata": {
        "colab": {
          "base_uri": "https://localhost:8080/"
        },
        "id": "NDveDVpV2yeG",
        "outputId": "7a42a0b4-a33f-43bb-80a4-29c2515f8a20"
      },
      "execution_count": null,
      "outputs": [
        {
          "output_type": "stream",
          "name": "stdout",
          "text": [
            "              precision    recall  f1-score   support\n",
            "\n",
            "           0       0.93      0.90      0.91       925\n",
            "           1       0.89      0.87      0.88       925\n",
            "           2       0.92      0.93      0.92       923\n",
            "           3       0.90      0.90      0.90       927\n",
            "           4       0.90      0.89      0.90       926\n",
            "           5       0.87      0.87      0.87       924\n",
            "           6       0.92      0.88      0.90       925\n",
            "           7       0.90      0.92      0.91       926\n",
            "           8       0.91      0.94      0.92       926\n",
            "           9       0.83      0.86      0.85       922\n",
            "\n",
            "    accuracy                           0.90      9249\n",
            "   macro avg       0.90      0.90      0.90      9249\n",
            "weighted avg       0.90      0.90      0.90      9249\n",
            "\n"
          ]
        }
      ]
    },
    {
      "cell_type": "code",
      "source": [
        "n_correct = (y_test == y_test_preds).sum()\n",
        "print(\"Testing Accuracy in ModelV5:\")\n",
        "print(n_correct / len(y_test))"
      ],
      "metadata": {
        "colab": {
          "base_uri": "https://localhost:8080/"
        },
        "id": "8czs1ivYtThr",
        "outputId": "01f2a9cf-ac64-4aff-9878-467663221a80"
      },
      "execution_count": null,
      "outputs": [
        {
          "output_type": "stream",
          "name": "stdout",
          "text": [
            "Testing Accuracy in ModelV5:\n",
            "tensor(0.8961)\n"
          ]
        }
      ]
    },
    {
      "cell_type": "code",
      "source": [
        "con_mx_ann = confusion_matrix(y_test, y_test_preds)\n",
        "con_mx_ann"
      ],
      "metadata": {
        "colab": {
          "base_uri": "https://localhost:8080/"
        },
        "id": "T7ZqgzWj5gtj",
        "outputId": "4d900879-ac2c-4ecb-b122-7ebbca7e21c2"
      },
      "execution_count": null,
      "outputs": [
        {
          "output_type": "execute_result",
          "data": {
            "text/plain": [
              "array([[834,  16,   2,  21,   1,  23,   0,  14,   6,   8],\n",
              "       [  6, 803,  12,   4,   6,   3,   6,   5,  16,  64],\n",
              "       [  0,   8, 857,   2,  11,  10,   1,  12,   5,  17],\n",
              "       [ 20,  10,   0, 835,   2,  12,  25,   1,   8,  14],\n",
              "       [  4,   5,  15,   0, 825,  15,   2,  20,  23,  17],\n",
              "       [ 16,   6,  10,  13,  22, 804,  27,  13,   7,   6],\n",
              "       [  4,   4,   4,  38,   1,  40, 814,   3,   4,  13],\n",
              "       [  4,   2,  16,   2,  16,  14,   0, 852,  10,  10],\n",
              "       [  7,   3,   1,   7,  16,   4,   0,   8, 868,  12],\n",
              "       [  4,  49,  14,   9,  13,   4,   9,  15,   9, 796]])"
            ]
          },
          "metadata": {},
          "execution_count": 66
        }
      ]
    },
    {
      "cell_type": "code",
      "source": [
        "plt.matshow(con_mx_ann, cmap=plt.cm.gray);"
      ],
      "metadata": {
        "colab": {
          "base_uri": "https://localhost:8080/",
          "height": 437
        },
        "id": "yUS5reoy5grD",
        "outputId": "f0bdd13a-275c-44b3-bfca-7294d4294b62"
      },
      "execution_count": null,
      "outputs": [
        {
          "output_type": "display_data",
          "data": {
            "text/plain": [
              "<Figure size 480x480 with 1 Axes>"
            ],
            "image/png": "[encoded data removed]"
          },
          "metadata": {}
        }
      ]
    },
    {
      "cell_type": "code",
      "source": [
        "torch.save(modelv5.state_dict(), \"./modelv5\")"
      ],
      "metadata": {
        "id": "DE8BbHr15gcz"
      },
      "execution_count": null,
      "outputs": []
    },
    {
      "cell_type": "code",
      "source": [
        "model = ModelV5()\n",
        "model.load_state_dict(torch.load(\"./modelv5\"))\n",
        "model.eval()"
      ],
      "metadata": {
        "colab": {
          "base_uri": "https://localhost:8080/"
        },
        "id": "gcL3xzc06h9r",
        "outputId": "da7f4d76-d704-468c-f4b5-93d1a9610978"
      },
      "execution_count": null,
      "outputs": [
        {
          "output_type": "execute_result",
          "data": {
            "text/plain": [
              "ModelV5(\n",
              "  (linear_layer_stack): Sequential(\n",
              "    (0): Linear(in_features=784, out_features=64, bias=True)\n",
              "    (1): ReLU()\n",
              "    (2): Linear(in_features=64, out_features=24, bias=True)\n",
              "    (3): ReLU()\n",
              "    (4): Linear(in_features=24, out_features=16, bias=True)\n",
              "    (5): ReLU()\n",
              "    (6): Linear(in_features=16, out_features=10, bias=True)\n",
              "  )\n",
              ")"
            ]
          },
          "metadata": {},
          "execution_count": 71
        }
      ]
    },
    {
      "cell_type": "code",
      "source": [
        "model.eval()\n",
        "with torch.inference_mode():\n",
        "  y_test_logits = model(X_test)\n",
        "  y_test_preds = torch.softmax(y_test_logits, dim=1).argmax(dim=1)\n",
        "  loss = loss_fn(y_test_logits, y_test)\n",
        "\n",
        "print(f\"Loss in testing set: {loss}\")"
      ],
      "metadata": {
        "colab": {
          "base_uri": "https://localhost:8080/"
        },
        "id": "BMbCOEhk6-ea",
        "outputId": "597f636d-765c-4b0b-c0b2-93eced2a1b72"
      },
      "execution_count": null,
      "outputs": [
        {
          "output_type": "stream",
          "name": "stdout",
          "text": [
            "Loss in testing set: 0.38060393929481506\n"
          ]
        }
      ]
    },
    {
      "cell_type": "markdown",
      "source": [
        "# Neural Net Visualization"
      ],
      "metadata": {
        "id": "KM6mQeXInESc"
      }
    },
    {
      "cell_type": "code",
      "source": [
        "!pip install torchviz"
      ],
      "metadata": {
        "id": "1PavdeJmnIuu"
      },
      "execution_count": null,
      "outputs": []
    },
    {
      "cell_type": "code",
      "source": [
        "from torchviz import make_dot"
      ],
      "metadata": {
        "id": "jMNxyhqmncfX"
      },
      "execution_count": null,
      "outputs": []
    },
    {
      "cell_type": "code",
      "source": [
        "make_dot(y_train_logits.mean(), params=dict(modelv4.named_parameters()))"
      ],
      "metadata": {
        "colab": {
          "base_uri": "https://localhost:8080/",
          "height": 997
        },
        "id": "uP_1gpRIoD7p",
        "outputId": "29a7c71f-f99c-44f7-c154-bbdb6f643dfe"
      },
      "execution_count": null,
      "outputs": [
        {
          "output_type": "execute_result",
          "data": {
            "image/svg+xml": "<?xml version=\"1.0\" encoding=\"UTF-8\" standalone=\"no\"?>\n<!DOCTYPE svg PUBLIC \"-//W3C//DTD SVG 1.1//EN\"\n \"http://www.w3.org/Graphics/SVG/1.1/DTD/svg11.dtd\">\n<!-- Generated by graphviz version 2.43.0 (0)\n -->\n<!-- Title: %3 Pages: 1 -->\n<svg width=\"616pt\" height=\"732pt\"\n viewBox=\"0.00 0.00 616.00 732.00\" xmlns=\"http://www.w3.org/2000/svg\" xmlns:xlink=\"http://www.w3.org/1999/xlink\">\n<g id=\"graph0\" class=\"graph\" transform=\"scale(1 1) rotate(0) translate(4 728)\">\n<title>%3</title>\n<polygon fill=\"white\" stroke=\"transparent\" points=\"-4,4 -4,-728 612,-728 612,4 -4,4\"/>\n<!-- 134159472894784 -->\n<g id=\"node1\" class=\"node\">\n<title>134159472894784</title>\n<polygon fill=\"#caff70\" stroke=\"black\" points=\"328.5,-31 274.5,-31 274.5,0 328.5,0 328.5,-31\"/>\n<text text-anchor=\"middle\" x=\"301.5\" y=\"-7\" font-family=\"monospace\" font-size=\"10.00\"> ()</text>\n</g>\n<!-- 134162416847936 -->\n<g id=\"node2\" class=\"node\">\n<title>134162416847936</title>\n<polygon fill=\"lightgrey\" stroke=\"black\" points=\"349,-86 254,-86 254,-67 349,-67 349,-86\"/>\n<text text-anchor=\"middle\" x=\"301.5\" y=\"-74\" font-family=\"monospace\" font-size=\"10.00\">MeanBackward0</text>\n</g>\n<!-- 134162416847936&#45;&gt;134159472894784 -->\n<g id=\"edge28\" class=\"edge\">\n<title>134162416847936&#45;&gt;134159472894784</title>\n<path fill=\"none\" stroke=\"black\" d=\"M301.5,-66.79C301.5,-60.07 301.5,-50.4 301.5,-41.34\"/>\n<polygon fill=\"black\" stroke=\"black\" points=\"305,-41.19 301.5,-31.19 298,-41.19 305,-41.19\"/>\n</g>\n<!-- 134162416847504 -->\n<g id=\"node3\" class=\"node\">\n<title>134162416847504</title>\n<polygon fill=\"lightgrey\" stroke=\"black\" points=\"352,-141 251,-141 251,-122 352,-122 352,-141\"/>\n<text text-anchor=\"middle\" x=\"301.5\" y=\"-129\" font-family=\"monospace\" font-size=\"10.00\">AddmmBackward0</text>\n</g>\n<!-- 134162416847504&#45;&gt;134162416847936 -->\n<g id=\"edge1\" class=\"edge\">\n<title>134162416847504&#45;&gt;134162416847936</title>\n<path fill=\"none\" stroke=\"black\" d=\"M301.5,-121.75C301.5,-114.8 301.5,-104.85 301.5,-96.13\"/>\n<polygon fill=\"black\" stroke=\"black\" points=\"305,-96.09 301.5,-86.09 298,-96.09 305,-96.09\"/>\n</g>\n<!-- 134162416860752 -->\n<g id=\"node4\" class=\"node\">\n<title>134162416860752</title>\n<polygon fill=\"lightgrey\" stroke=\"black\" points=\"218,-196 117,-196 117,-177 218,-177 218,-196\"/>\n<text text-anchor=\"middle\" x=\"167.5\" y=\"-184\" font-family=\"monospace\" font-size=\"10.00\">AccumulateGrad</text>\n</g>\n<!-- 134162416860752&#45;&gt;134162416847504 -->\n<g id=\"edge2\" class=\"edge\">\n<title>134162416860752&#45;&gt;134162416847504</title>\n<path fill=\"none\" stroke=\"black\" d=\"M189.03,-176.98C210.97,-168.3 245.24,-154.75 270.19,-144.88\"/>\n<polygon fill=\"black\" stroke=\"black\" points=\"271.57,-148.1 279.58,-141.17 268.99,-141.59 271.57,-148.1\"/>\n</g>\n<!-- 134159471258544 -->\n<g id=\"node5\" class=\"node\">\n<title>134159471258544</title>\n<polygon fill=\"lightblue\" stroke=\"black\" points=\"233,-262 66,-262 66,-232 233,-232 233,-262\"/>\n<text text-anchor=\"middle\" x=\"149.5\" y=\"-250\" font-family=\"monospace\" font-size=\"10.00\">linear_layer_stack.6.bias</text>\n<text text-anchor=\"middle\" x=\"149.5\" y=\"-239\" font-family=\"monospace\" font-size=\"10.00\"> (10)</text>\n</g>\n<!-- 134159471258544&#45;&gt;134162416860752 -->\n<g id=\"edge3\" class=\"edge\">\n<title>134159471258544&#45;&gt;134162416860752</title>\n<path fill=\"none\" stroke=\"black\" d=\"M153.86,-231.84C156.26,-224.04 159.26,-214.27 161.84,-205.89\"/>\n<polygon fill=\"black\" stroke=\"black\" points=\"165.21,-206.85 164.8,-196.27 158.52,-204.79 165.21,-206.85\"/>\n</g>\n<!-- 134162416860848 -->\n<g id=\"node6\" class=\"node\">\n<title>134162416860848</title>\n<polygon fill=\"lightgrey\" stroke=\"black\" points=\"349,-196 254,-196 254,-177 349,-177 349,-196\"/>\n<text text-anchor=\"middle\" x=\"301.5\" y=\"-184\" font-family=\"monospace\" font-size=\"10.00\">ReluBackward0</text>\n</g>\n<!-- 134162416860848&#45;&gt;134162416847504 -->\n<g id=\"edge4\" class=\"edge\">\n<title>134162416860848&#45;&gt;134162416847504</title>\n<path fill=\"none\" stroke=\"black\" d=\"M301.5,-176.75C301.5,-169.8 301.5,-159.85 301.5,-151.13\"/>\n<polygon fill=\"black\" stroke=\"black\" points=\"305,-151.09 301.5,-141.09 298,-151.09 305,-151.09\"/>\n</g>\n<!-- 134162416860176 -->\n<g id=\"node7\" class=\"node\">\n<title>134162416860176</title>\n<polygon fill=\"lightgrey\" stroke=\"black\" points=\"352,-256.5 251,-256.5 251,-237.5 352,-237.5 352,-256.5\"/>\n<text text-anchor=\"middle\" x=\"301.5\" y=\"-244.5\" font-family=\"monospace\" font-size=\"10.00\">AddmmBackward0</text>\n</g>\n<!-- 134162416860176&#45;&gt;134162416860848 -->\n<g id=\"edge5\" class=\"edge\">\n<title>134162416860176&#45;&gt;134162416860848</title>\n<path fill=\"none\" stroke=\"black\" d=\"M301.5,-237.37C301.5,-229.25 301.5,-216.81 301.5,-206.39\"/>\n<polygon fill=\"black\" stroke=\"black\" points=\"305,-206.17 301.5,-196.17 298,-206.17 305,-206.17\"/>\n</g>\n<!-- 134162416850384 -->\n<g id=\"node8\" class=\"node\">\n<title>134162416850384</title>\n<polygon fill=\"lightgrey\" stroke=\"black\" points=\"185,-322.5 84,-322.5 84,-303.5 185,-303.5 185,-322.5\"/>\n<text text-anchor=\"middle\" x=\"134.5\" y=\"-310.5\" font-family=\"monospace\" font-size=\"10.00\">AccumulateGrad</text>\n</g>\n<!-- 134162416850384&#45;&gt;134162416860176 -->\n<g id=\"edge6\" class=\"edge\">\n<title>134162416850384&#45;&gt;134162416860176</title>\n<path fill=\"none\" stroke=\"black\" d=\"M157.02,-303.37C185.99,-292.27 236.48,-272.92 269.44,-260.28\"/>\n<polygon fill=\"black\" stroke=\"black\" points=\"270.98,-263.44 279.07,-256.6 268.48,-256.91 270.98,-263.44\"/>\n</g>\n<!-- 134159471254144 -->\n<g id=\"node9\" class=\"node\">\n<title>134159471254144</title>\n<polygon fill=\"lightblue\" stroke=\"black\" points=\"200,-394 33,-394 33,-364 200,-364 200,-394\"/>\n<text text-anchor=\"middle\" x=\"116.5\" y=\"-382\" font-family=\"monospace\" font-size=\"10.00\">linear_layer_stack.4.bias</text>\n<text text-anchor=\"middle\" x=\"116.5\" y=\"-371\" font-family=\"monospace\" font-size=\"10.00\"> (24)</text>\n</g>\n<!-- 134159471254144&#45;&gt;134162416850384 -->\n<g id=\"edge7\" class=\"edge\">\n<title>134159471254144&#45;&gt;134162416850384</title>\n<path fill=\"none\" stroke=\"black\" d=\"M120.49,-363.8C123.08,-354.6 126.48,-342.53 129.27,-332.58\"/>\n<polygon fill=\"black\" stroke=\"black\" points=\"132.67,-333.42 132.01,-322.84 125.94,-331.52 132.67,-333.42\"/>\n</g>\n<!-- 134162416861040 -->\n<g id=\"node10\" class=\"node\">\n<title>134162416861040</title>\n<polygon fill=\"lightgrey\" stroke=\"black\" points=\"316,-322.5 221,-322.5 221,-303.5 316,-303.5 316,-322.5\"/>\n<text text-anchor=\"middle\" x=\"268.5\" y=\"-310.5\" font-family=\"monospace\" font-size=\"10.00\">ReluBackward0</text>\n</g>\n<!-- 134162416861040&#45;&gt;134162416860176 -->\n<g id=\"edge8\" class=\"edge\">\n<title>134162416861040&#45;&gt;134162416860176</title>\n<path fill=\"none\" stroke=\"black\" d=\"M272.95,-303.37C277.89,-293.78 286.01,-278.05 292.32,-265.8\"/>\n<polygon fill=\"black\" stroke=\"black\" points=\"295.44,-267.4 296.91,-256.91 289.21,-264.19 295.44,-267.4\"/>\n</g>\n<!-- 134162416845104 -->\n<g id=\"node11\" class=\"node\">\n<title>134162416845104</title>\n<polygon fill=\"lightgrey\" stroke=\"black\" points=\"319,-388.5 218,-388.5 218,-369.5 319,-369.5 319,-388.5\"/>\n<text text-anchor=\"middle\" x=\"268.5\" y=\"-376.5\" font-family=\"monospace\" font-size=\"10.00\">AddmmBackward0</text>\n</g>\n<!-- 134162416845104&#45;&gt;134162416861040 -->\n<g id=\"edge9\" class=\"edge\">\n<title>134162416845104&#45;&gt;134162416861040</title>\n<path fill=\"none\" stroke=\"black\" d=\"M268.5,-369.37C268.5,-360.16 268.5,-345.29 268.5,-333.27\"/>\n<polygon fill=\"black\" stroke=\"black\" points=\"272,-332.91 268.5,-322.91 265,-332.91 272,-332.91\"/>\n</g>\n<!-- 134162416856336 -->\n<g id=\"node12\" class=\"node\">\n<title>134162416856336</title>\n<polygon fill=\"lightgrey\" stroke=\"black\" points=\"152,-454.5 51,-454.5 51,-435.5 152,-435.5 152,-454.5\"/>\n<text text-anchor=\"middle\" x=\"101.5\" y=\"-442.5\" font-family=\"monospace\" font-size=\"10.00\">AccumulateGrad</text>\n</g>\n<!-- 134162416856336&#45;&gt;134162416845104 -->\n<g id=\"edge10\" class=\"edge\">\n<title>134162416856336&#45;&gt;134162416845104</title>\n<path fill=\"none\" stroke=\"black\" d=\"M124.02,-435.37C152.99,-424.27 203.48,-404.92 236.44,-392.28\"/>\n<polygon fill=\"black\" stroke=\"black\" points=\"237.98,-395.44 246.07,-388.6 235.48,-388.91 237.98,-395.44\"/>\n</g>\n<!-- 134159472760992 -->\n<g id=\"node13\" class=\"node\">\n<title>134159472760992</title>\n<polygon fill=\"lightblue\" stroke=\"black\" points=\"167,-526 0,-526 0,-496 167,-496 167,-526\"/>\n<text text-anchor=\"middle\" x=\"83.5\" y=\"-514\" font-family=\"monospace\" font-size=\"10.00\">linear_layer_stack.2.bias</text>\n<text text-anchor=\"middle\" x=\"83.5\" y=\"-503\" font-family=\"monospace\" font-size=\"10.00\"> (16)</text>\n</g>\n<!-- 134159472760992&#45;&gt;134162416856336 -->\n<g id=\"edge11\" class=\"edge\">\n<title>134159472760992&#45;&gt;134162416856336</title>\n<path fill=\"none\" stroke=\"black\" d=\"M87.49,-495.8C90.08,-486.6 93.48,-474.53 96.27,-464.58\"/>\n<polygon fill=\"black\" stroke=\"black\" points=\"99.67,-465.42 99.01,-454.84 92.94,-463.52 99.67,-465.42\"/>\n</g>\n<!-- 134162416854128 -->\n<g id=\"node14\" class=\"node\">\n<title>134162416854128</title>\n<polygon fill=\"lightgrey\" stroke=\"black\" points=\"283,-454.5 188,-454.5 188,-435.5 283,-435.5 283,-454.5\"/>\n<text text-anchor=\"middle\" x=\"235.5\" y=\"-442.5\" font-family=\"monospace\" font-size=\"10.00\">ReluBackward0</text>\n</g>\n<!-- 134162416854128&#45;&gt;134162416845104 -->\n<g id=\"edge12\" class=\"edge\">\n<title>134162416854128&#45;&gt;134162416845104</title>\n<path fill=\"none\" stroke=\"black\" d=\"M239.95,-435.37C244.89,-425.78 253.01,-410.05 259.32,-397.8\"/>\n<polygon fill=\"black\" stroke=\"black\" points=\"262.44,-399.4 263.91,-388.91 256.21,-396.19 262.44,-399.4\"/>\n</g>\n<!-- 134162416851920 -->\n<g id=\"node15\" class=\"node\">\n<title>134162416851920</title>\n<polygon fill=\"lightgrey\" stroke=\"black\" points=\"286,-520.5 185,-520.5 185,-501.5 286,-501.5 286,-520.5\"/>\n<text text-anchor=\"middle\" x=\"235.5\" y=\"-508.5\" font-family=\"monospace\" font-size=\"10.00\">AddmmBackward0</text>\n</g>\n<!-- 134162416851920&#45;&gt;134162416854128 -->\n<g id=\"edge13\" class=\"edge\">\n<title>134162416851920&#45;&gt;134162416854128</title>\n<path fill=\"none\" stroke=\"black\" d=\"M235.5,-501.37C235.5,-492.16 235.5,-477.29 235.5,-465.27\"/>\n<polygon fill=\"black\" stroke=\"black\" points=\"239,-464.91 235.5,-454.91 232,-464.91 239,-464.91\"/>\n</g>\n<!-- 134162416848080 -->\n<g id=\"node16\" class=\"node\">\n<title>134162416848080</title>\n<polygon fill=\"lightgrey\" stroke=\"black\" points=\"157,-586.5 56,-586.5 56,-567.5 157,-567.5 157,-586.5\"/>\n<text text-anchor=\"middle\" x=\"106.5\" y=\"-574.5\" font-family=\"monospace\" font-size=\"10.00\">AccumulateGrad</text>\n</g>\n<!-- 134162416848080&#45;&gt;134162416851920 -->\n<g id=\"edge14\" class=\"edge\">\n<title>134162416848080&#45;&gt;134162416851920</title>\n<path fill=\"none\" stroke=\"black\" d=\"M123.9,-567.37C145.73,-556.54 183.39,-537.85 208.86,-525.22\"/>\n<polygon fill=\"black\" stroke=\"black\" points=\"210.56,-528.28 217.97,-520.7 207.45,-522.01 210.56,-528.28\"/>\n</g>\n<!-- 134159472758032 -->\n<g id=\"node17\" class=\"node\">\n<title>134159472758032</title>\n<polygon fill=\"lightblue\" stroke=\"black\" points=\"179,-658 12,-658 12,-628 179,-628 179,-658\"/>\n<text text-anchor=\"middle\" x=\"95.5\" y=\"-646\" font-family=\"monospace\" font-size=\"10.00\">linear_layer_stack.0.bias</text>\n<text text-anchor=\"middle\" x=\"95.5\" y=\"-635\" font-family=\"monospace\" font-size=\"10.00\"> (24)</text>\n</g>\n<!-- 134159472758032&#45;&gt;134162416848080 -->\n<g id=\"edge15\" class=\"edge\">\n<title>134159472758032&#45;&gt;134162416848080</title>\n<path fill=\"none\" stroke=\"black\" d=\"M97.94,-627.8C99.5,-618.7 101.55,-606.79 103.25,-596.9\"/>\n<polygon fill=\"black\" stroke=\"black\" points=\"106.74,-597.29 104.98,-586.84 99.84,-596.11 106.74,-597.29\"/>\n</g>\n<!-- 134162416860464 -->\n<g id=\"node18\" class=\"node\">\n<title>134162416860464</title>\n<polygon fill=\"lightgrey\" stroke=\"black\" points=\"274,-586.5 197,-586.5 197,-567.5 274,-567.5 274,-586.5\"/>\n<text text-anchor=\"middle\" x=\"235.5\" y=\"-574.5\" font-family=\"monospace\" font-size=\"10.00\">TBackward0</text>\n</g>\n<!-- 134162416860464&#45;&gt;134162416851920 -->\n<g id=\"edge16\" class=\"edge\">\n<title>134162416860464&#45;&gt;134162416851920</title>\n<path fill=\"none\" stroke=\"black\" d=\"M235.5,-567.37C235.5,-558.16 235.5,-543.29 235.5,-531.27\"/>\n<polygon fill=\"black\" stroke=\"black\" points=\"239,-530.91 235.5,-520.91 232,-530.91 239,-530.91\"/>\n</g>\n<!-- 134162416860368 -->\n<g id=\"node19\" class=\"node\">\n<title>134162416860368</title>\n<polygon fill=\"lightgrey\" stroke=\"black\" points=\"298,-652.5 197,-652.5 197,-633.5 298,-633.5 298,-652.5\"/>\n<text text-anchor=\"middle\" x=\"247.5\" y=\"-640.5\" font-family=\"monospace\" font-size=\"10.00\">AccumulateGrad</text>\n</g>\n<!-- 134162416860368&#45;&gt;134162416860464 -->\n<g id=\"edge17\" class=\"edge\">\n<title>134162416860368&#45;&gt;134162416860464</title>\n<path fill=\"none\" stroke=\"black\" d=\"M245.88,-633.37C244.14,-624.07 241.31,-608.98 239.04,-596.9\"/>\n<polygon fill=\"black\" stroke=\"black\" points=\"242.45,-596.09 237.17,-586.91 235.57,-597.38 242.45,-596.09\"/>\n</g>\n<!-- 134159472828048 -->\n<g id=\"node20\" class=\"node\">\n<title>134159472828048</title>\n<polygon fill=\"lightblue\" stroke=\"black\" points=\"337,-724 158,-724 158,-694 337,-694 337,-724\"/>\n<text text-anchor=\"middle\" x=\"247.5\" y=\"-712\" font-family=\"monospace\" font-size=\"10.00\">linear_layer_stack.0.weight</text>\n<text text-anchor=\"middle\" x=\"247.5\" y=\"-701\" font-family=\"monospace\" font-size=\"10.00\"> (24, 784)</text>\n</g>\n<!-- 134159472828048&#45;&gt;134162416860368 -->\n<g id=\"edge18\" class=\"edge\">\n<title>134159472828048&#45;&gt;134162416860368</title>\n<path fill=\"none\" stroke=\"black\" d=\"M247.5,-693.8C247.5,-684.7 247.5,-672.79 247.5,-662.9\"/>\n<polygon fill=\"black\" stroke=\"black\" points=\"251,-662.84 247.5,-652.84 244,-662.84 251,-662.84\"/>\n</g>\n<!-- 134162416860896 -->\n<g id=\"node21\" class=\"node\">\n<title>134162416860896</title>\n<polygon fill=\"lightgrey\" stroke=\"black\" points=\"378,-454.5 301,-454.5 301,-435.5 378,-435.5 378,-454.5\"/>\n<text text-anchor=\"middle\" x=\"339.5\" y=\"-442.5\" font-family=\"monospace\" font-size=\"10.00\">TBackward0</text>\n</g>\n<!-- 134162416860896&#45;&gt;134162416845104 -->\n<g id=\"edge19\" class=\"edge\">\n<title>134162416860896&#45;&gt;134162416845104</title>\n<path fill=\"none\" stroke=\"black\" d=\"M329.92,-435.37C318.66,-425.21 299.74,-408.16 285.87,-395.65\"/>\n<polygon fill=\"black\" stroke=\"black\" points=\"288.15,-393 278.38,-388.91 283.46,-398.2 288.15,-393\"/>\n</g>\n<!-- 134162416859024 -->\n<g id=\"node22\" class=\"node\">\n<title>134162416859024</title>\n<polygon fill=\"lightgrey\" stroke=\"black\" points=\"418,-520.5 317,-520.5 317,-501.5 418,-501.5 418,-520.5\"/>\n<text text-anchor=\"middle\" x=\"367.5\" y=\"-508.5\" font-family=\"monospace\" font-size=\"10.00\">AccumulateGrad</text>\n</g>\n<!-- 134162416859024&#45;&gt;134162416860896 -->\n<g id=\"edge20\" class=\"edge\">\n<title>134162416859024&#45;&gt;134162416860896</title>\n<path fill=\"none\" stroke=\"black\" d=\"M363.72,-501.37C359.57,-491.88 352.78,-476.36 347.45,-464.16\"/>\n<polygon fill=\"black\" stroke=\"black\" points=\"350.61,-462.66 343.4,-454.91 344.2,-465.47 350.61,-462.66\"/>\n</g>\n<!-- 134162780369552 -->\n<g id=\"node23\" class=\"node\">\n<title>134162780369552</title>\n<polygon fill=\"lightblue\" stroke=\"black\" points=\"471,-592 292,-592 292,-562 471,-562 471,-592\"/>\n<text text-anchor=\"middle\" x=\"381.5\" y=\"-580\" font-family=\"monospace\" font-size=\"10.00\">linear_layer_stack.2.weight</text>\n<text text-anchor=\"middle\" x=\"381.5\" y=\"-569\" font-family=\"monospace\" font-size=\"10.00\"> (16, 24)</text>\n</g>\n<!-- 134162780369552&#45;&gt;134162416859024 -->\n<g id=\"edge21\" class=\"edge\">\n<title>134162780369552&#45;&gt;134162416859024</title>\n<path fill=\"none\" stroke=\"black\" d=\"M378.39,-561.8C376.4,-552.7 373.8,-540.79 371.63,-530.9\"/>\n<polygon fill=\"black\" stroke=\"black\" points=\"374.99,-529.87 369.43,-520.84 368.15,-531.36 374.99,-529.87\"/>\n</g>\n<!-- 134162416860512 -->\n<g id=\"node24\" class=\"node\">\n<title>134162416860512</title>\n<polygon fill=\"lightgrey\" stroke=\"black\" points=\"411,-322.5 334,-322.5 334,-303.5 411,-303.5 411,-322.5\"/>\n<text text-anchor=\"middle\" x=\"372.5\" y=\"-310.5\" font-family=\"monospace\" font-size=\"10.00\">TBackward0</text>\n</g>\n<!-- 134162416860512&#45;&gt;134162416860176 -->\n<g id=\"edge22\" class=\"edge\">\n<title>134162416860512&#45;&gt;134162416860176</title>\n<path fill=\"none\" stroke=\"black\" d=\"M362.92,-303.37C351.66,-293.21 332.74,-276.16 318.87,-263.65\"/>\n<polygon fill=\"black\" stroke=\"black\" points=\"321.15,-261 311.38,-256.91 316.46,-266.2 321.15,-261\"/>\n</g>\n<!-- 134162416850768 -->\n<g id=\"node25\" class=\"node\">\n<title>134162416850768</title>\n<polygon fill=\"lightgrey\" stroke=\"black\" points=\"503,-388.5 402,-388.5 402,-369.5 503,-369.5 503,-388.5\"/>\n<text text-anchor=\"middle\" x=\"452.5\" y=\"-376.5\" font-family=\"monospace\" font-size=\"10.00\">AccumulateGrad</text>\n</g>\n<!-- 134162416850768&#45;&gt;134162416860512 -->\n<g id=\"edge23\" class=\"edge\">\n<title>134162416850768&#45;&gt;134162416860512</title>\n<path fill=\"none\" stroke=\"black\" d=\"M441.71,-369.37C428.83,-359.06 407.06,-341.65 391.37,-329.09\"/>\n<polygon fill=\"black\" stroke=\"black\" points=\"393.37,-326.21 383.37,-322.7 389,-331.68 393.37,-326.21\"/>\n</g>\n<!-- 134159472757072 -->\n<g id=\"node26\" class=\"node\">\n<title>134159472757072</title>\n<polygon fill=\"lightblue\" stroke=\"black\" points=\"575,-460 396,-460 396,-430 575,-430 575,-460\"/>\n<text text-anchor=\"middle\" x=\"485.5\" y=\"-448\" font-family=\"monospace\" font-size=\"10.00\">linear_layer_stack.4.weight</text>\n<text text-anchor=\"middle\" x=\"485.5\" y=\"-437\" font-family=\"monospace\" font-size=\"10.00\"> (24, 16)</text>\n</g>\n<!-- 134159472757072&#45;&gt;134162416850768 -->\n<g id=\"edge24\" class=\"edge\">\n<title>134159472757072&#45;&gt;134162416850768</title>\n<path fill=\"none\" stroke=\"black\" d=\"M478.18,-429.8C473.33,-420.41 466.95,-408.02 461.75,-397.95\"/>\n<polygon fill=\"black\" stroke=\"black\" points=\"464.75,-396.13 457.06,-388.84 458.53,-399.34 464.75,-396.13\"/>\n</g>\n<!-- 134162416853792 -->\n<g id=\"node27\" class=\"node\">\n<title>134162416853792</title>\n<polygon fill=\"lightgrey\" stroke=\"black\" points=\"484,-196 407,-196 407,-177 484,-177 484,-196\"/>\n<text text-anchor=\"middle\" x=\"445.5\" y=\"-184\" font-family=\"monospace\" font-size=\"10.00\">TBackward0</text>\n</g>\n<!-- 134162416853792&#45;&gt;134162416847504 -->\n<g id=\"edge25\" class=\"edge\">\n<title>134162416853792&#45;&gt;134162416847504</title>\n<path fill=\"none\" stroke=\"black\" d=\"M422.36,-176.98C398.68,-168.27 361.63,-154.63 334.79,-144.75\"/>\n<polygon fill=\"black\" stroke=\"black\" points=\"335.65,-141.34 325.06,-141.17 333.23,-147.91 335.65,-141.34\"/>\n</g>\n<!-- 134162416859600 -->\n<g id=\"node28\" class=\"node\">\n<title>134162416859600</title>\n<polygon fill=\"lightgrey\" stroke=\"black\" points=\"536,-256.5 435,-256.5 435,-237.5 536,-237.5 536,-256.5\"/>\n<text text-anchor=\"middle\" x=\"485.5\" y=\"-244.5\" font-family=\"monospace\" font-size=\"10.00\">AccumulateGrad</text>\n</g>\n<!-- 134162416859600&#45;&gt;134162416853792 -->\n<g id=\"edge26\" class=\"edge\">\n<title>134162416859600&#45;&gt;134162416853792</title>\n<path fill=\"none\" stroke=\"black\" d=\"M479.6,-237.37C473.75,-228.81 464.63,-215.47 457.29,-204.74\"/>\n<polygon fill=\"black\" stroke=\"black\" points=\"459.96,-202.45 451.43,-196.17 454.18,-206.4 459.96,-202.45\"/>\n</g>\n<!-- 134159471249744 -->\n<g id=\"node29\" class=\"node\">\n<title>134159471249744</title>\n<polygon fill=\"lightblue\" stroke=\"black\" points=\"608,-328 429,-328 429,-298 608,-298 608,-328\"/>\n<text text-anchor=\"middle\" x=\"518.5\" y=\"-316\" font-family=\"monospace\" font-size=\"10.00\">linear_layer_stack.6.weight</text>\n<text text-anchor=\"middle\" x=\"518.5\" y=\"-305\" font-family=\"monospace\" font-size=\"10.00\"> (10, 24)</text>\n</g>\n<!-- 134159471249744&#45;&gt;134162416859600 -->\n<g id=\"edge27\" class=\"edge\">\n<title>134159471249744&#45;&gt;134162416859600</title>\n<path fill=\"none\" stroke=\"black\" d=\"M511.18,-297.8C506.33,-288.41 499.95,-276.02 494.75,-265.95\"/>\n<polygon fill=\"black\" stroke=\"black\" points=\"497.75,-264.13 490.06,-256.84 491.53,-267.34 497.75,-264.13\"/>\n</g>\n</g>\n</svg>\n",
            "text/plain": [
              "<graphviz.graphs.Digraph at 0x7a051f32c0a0>"
            ]
          },
          "metadata": {},
          "execution_count": 24
        }
      ]
    },
    {
      "cell_type": "code",
      "source": [
        "make_dot(y_train_logits.mean(), params=dict(modelv5.named_parameters())).render(\"modelv5\", format=\"png\")"
      ],
      "metadata": {
        "colab": {
          "base_uri": "https://localhost:8080/",
          "height": 35
        },
        "id": "beuj3PwtqOop",
        "outputId": "52827d2b-1398-485f-88c5-3157fd467b83"
      },
      "execution_count": null,
      "outputs": [
        {
          "output_type": "execute_result",
          "data": {
            "text/plain": [
              "'modelv5.png'"
            ],
            "application/vnd.google.colaboratory.intrinsic+json": {
              "type": "string"
            }
          },
          "metadata": {},
          "execution_count": 37
        }
      ]
    },
    {
      "cell_type": "code",
      "source": [],
      "metadata": {
        "id": "HgqV2ngLvGa4"
      },
      "execution_count": null,
      "outputs": []
    }
  ]
}